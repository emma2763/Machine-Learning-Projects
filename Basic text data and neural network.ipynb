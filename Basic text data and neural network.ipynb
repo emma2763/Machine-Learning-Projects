{
  "nbformat": 4,
  "nbformat_minor": 0,
  "metadata": {
    "colab": {
      "provenance": [],
      "collapsed_sections": [
        "br7mXbi5D-N6",
        "jHkpE8lUrA38",
        "6vVLtCx1qqDw",
        "ODVvlXDaOfeU",
        "QMtBwVCDOtz3",
        "aIV9dUsVPNq_",
        "hY4Ee4Q0PZE1",
        "WLIHAwymqsDZ",
        "0iEZEA1mPA9r",
        "ToKR0ZYMO0Bd",
        "ZJr4CpkBPP-e",
        "Hq7nhAH5PeyL",
        "XmI8v5RHBJOn",
        "qlaEL99zPEtV",
        "qa6JDZUWO4Rr",
        "NNOQ-C1zPSa4",
        "KyeEssbOPg9I",
        "71380Aw7BvW_",
        "US0LQ3sYPIFZ",
        "OYQBhlPdO8hG",
        "w7tTUmmXPUz7",
        "uXYU8dZKPjCS"
      ],
      "toc_visible": true
    },
    "kernelspec": {
      "name": "python3",
      "display_name": "Python 3"
    },
    "language_info": {
      "name": "python"
    }
  },
  "cells": [
    {
      "cell_type": "markdown",
      "source": [
        "# Part A: Build a classification model using text data"
      ],
      "metadata": {
        "id": "e_dZ_wmlnMeU"
      }
    },
    {
      "cell_type": "markdown",
      "source": [
        "In part one of the homework, you will solve a text classification task.\n",
        "\n",
        "The training data is stored in the HW 4 data folder. You can import it and train test split it to generate your data for this assignment.\n",
        "\n",
        "Use cross-validation to evaluate the results. Use a robust metric for classification  (AUC or F1-Score for example), and inspect all models by visualizing the coefficients. (See helper function in our in class notebook for text models.)\n",
        "\n",
        "To complete part one of the homework do the following:\n",
        "\n",
        "Import the text data, vectorize the clickbait headline column into an X matrix.  Then run logistic regression at least three times and select a single best model.  Note that you should create three logistic regression models with different different tokenization approaches.  You should not change your modeling approach, you should simply experiment with different tokenizers. Be sure to explain your choices and evaluate your models using cross validation and using test set data."
      ],
      "metadata": {
        "id": "ILJWVfm_6GDR"
      }
    },
    {
      "cell_type": "markdown",
      "source": [
        "## Import text data"
      ],
      "metadata": {
        "id": "CF872JJIqSRK"
      }
    },
    {
      "cell_type": "code",
      "source": [
        "#Import Python libraries\n",
        "import numpy as np\n",
        "import scipy as sp\n",
        "import pandas as pd\n",
        "import matplotlib as mpl\n",
        "import seaborn as sns"
      ],
      "metadata": {
        "id": "NIvmwugjIM9v"
      },
      "execution_count": null,
      "outputs": []
    },
    {
      "cell_type": "code",
      "source": [
        "#read text data\n",
        "import pandas as pd\n",
        "text = pd.read_csv(\"X_train.csv\", squeeze=True)\n",
        "y_labels = pd.read_csv(\"y_train.csv\", squeeze=True)\n",
        "\n",
        "# ohe encode Y data\n",
        "y = pd.get_dummies(y_labels)"
      ],
      "metadata": {
        "id": "tipWbXODopKT"
      },
      "execution_count": null,
      "outputs": []
    },
    {
      "cell_type": "code",
      "source": [
        "y.head()"
      ],
      "metadata": {
        "colab": {
          "base_uri": "https://localhost:8080/",
          "height": 206
        },
        "id": "OqwQ_eI1yoyI",
        "outputId": "00a4597d-6060-4ae9-c846-23e9e818123b"
      },
      "execution_count": null,
      "outputs": [
        {
          "output_type": "execute_result",
          "data": {
            "text/plain": [
              "   clickbait  not clickbait\n",
              "0          0              1\n",
              "1          0              1\n",
              "2          1              0\n",
              "3          1              0\n",
              "4          1              0"
            ],
            "text/html": [
              "\n",
              "  <div id=\"df-18c4326b-22e3-4ca4-8a95-4fefd7bed903\">\n",
              "    <div class=\"colab-df-container\">\n",
              "      <div>\n",
              "<style scoped>\n",
              "    .dataframe tbody tr th:only-of-type {\n",
              "        vertical-align: middle;\n",
              "    }\n",
              "\n",
              "    .dataframe tbody tr th {\n",
              "        vertical-align: top;\n",
              "    }\n",
              "\n",
              "    .dataframe thead th {\n",
              "        text-align: right;\n",
              "    }\n",
              "</style>\n",
              "<table border=\"1\" class=\"dataframe\">\n",
              "  <thead>\n",
              "    <tr style=\"text-align: right;\">\n",
              "      <th></th>\n",
              "      <th>clickbait</th>\n",
              "      <th>not clickbait</th>\n",
              "    </tr>\n",
              "  </thead>\n",
              "  <tbody>\n",
              "    <tr>\n",
              "      <th>0</th>\n",
              "      <td>0</td>\n",
              "      <td>1</td>\n",
              "    </tr>\n",
              "    <tr>\n",
              "      <th>1</th>\n",
              "      <td>0</td>\n",
              "      <td>1</td>\n",
              "    </tr>\n",
              "    <tr>\n",
              "      <th>2</th>\n",
              "      <td>1</td>\n",
              "      <td>0</td>\n",
              "    </tr>\n",
              "    <tr>\n",
              "      <th>3</th>\n",
              "      <td>1</td>\n",
              "      <td>0</td>\n",
              "    </tr>\n",
              "    <tr>\n",
              "      <th>4</th>\n",
              "      <td>1</td>\n",
              "      <td>0</td>\n",
              "    </tr>\n",
              "  </tbody>\n",
              "</table>\n",
              "</div>\n",
              "      <button class=\"colab-df-convert\" onclick=\"convertToInteractive('df-18c4326b-22e3-4ca4-8a95-4fefd7bed903')\"\n",
              "              title=\"Convert this dataframe to an interactive table.\"\n",
              "              style=\"display:none;\">\n",
              "        \n",
              "  <svg xmlns=\"http://www.w3.org/2000/svg\" height=\"24px\"viewBox=\"0 0 24 24\"\n",
              "       width=\"24px\">\n",
              "    <path d=\"M0 0h24v24H0V0z\" fill=\"none\"/>\n",
              "    <path d=\"M18.56 5.44l.94 2.06.94-2.06 2.06-.94-2.06-.94-.94-2.06-.94 2.06-2.06.94zm-11 1L8.5 8.5l.94-2.06 2.06-.94-2.06-.94L8.5 2.5l-.94 2.06-2.06.94zm10 10l.94 2.06.94-2.06 2.06-.94-2.06-.94-.94-2.06-.94 2.06-2.06.94z\"/><path d=\"M17.41 7.96l-1.37-1.37c-.4-.4-.92-.59-1.43-.59-.52 0-1.04.2-1.43.59L10.3 9.45l-7.72 7.72c-.78.78-.78 2.05 0 2.83L4 21.41c.39.39.9.59 1.41.59.51 0 1.02-.2 1.41-.59l7.78-7.78 2.81-2.81c.8-.78.8-2.07 0-2.86zM5.41 20L4 18.59l7.72-7.72 1.47 1.35L5.41 20z\"/>\n",
              "  </svg>\n",
              "      </button>\n",
              "      \n",
              "  <style>\n",
              "    .colab-df-container {\n",
              "      display:flex;\n",
              "      flex-wrap:wrap;\n",
              "      gap: 12px;\n",
              "    }\n",
              "\n",
              "    .colab-df-convert {\n",
              "      background-color: #E8F0FE;\n",
              "      border: none;\n",
              "      border-radius: 50%;\n",
              "      cursor: pointer;\n",
              "      display: none;\n",
              "      fill: #1967D2;\n",
              "      height: 32px;\n",
              "      padding: 0 0 0 0;\n",
              "      width: 32px;\n",
              "    }\n",
              "\n",
              "    .colab-df-convert:hover {\n",
              "      background-color: #E2EBFA;\n",
              "      box-shadow: 0px 1px 2px rgba(60, 64, 67, 0.3), 0px 1px 3px 1px rgba(60, 64, 67, 0.15);\n",
              "      fill: #174EA6;\n",
              "    }\n",
              "\n",
              "    [theme=dark] .colab-df-convert {\n",
              "      background-color: #3B4455;\n",
              "      fill: #D2E3FC;\n",
              "    }\n",
              "\n",
              "    [theme=dark] .colab-df-convert:hover {\n",
              "      background-color: #434B5C;\n",
              "      box-shadow: 0px 1px 3px 1px rgba(0, 0, 0, 0.15);\n",
              "      filter: drop-shadow(0px 1px 2px rgba(0, 0, 0, 0.3));\n",
              "      fill: #FFFFFF;\n",
              "    }\n",
              "  </style>\n",
              "\n",
              "      <script>\n",
              "        const buttonEl =\n",
              "          document.querySelector('#df-18c4326b-22e3-4ca4-8a95-4fefd7bed903 button.colab-df-convert');\n",
              "        buttonEl.style.display =\n",
              "          google.colab.kernel.accessAllowed ? 'block' : 'none';\n",
              "\n",
              "        async function convertToInteractive(key) {\n",
              "          const element = document.querySelector('#df-18c4326b-22e3-4ca4-8a95-4fefd7bed903');\n",
              "          const dataTable =\n",
              "            await google.colab.kernel.invokeFunction('convertToInteractive',\n",
              "                                                     [key], {});\n",
              "          if (!dataTable) return;\n",
              "\n",
              "          const docLinkHtml = 'Like what you see? Visit the ' +\n",
              "            '<a target=\"_blank\" href=https://colab.research.google.com/notebooks/data_table.ipynb>data table notebook</a>'\n",
              "            + ' to learn more about interactive tables.';\n",
              "          element.innerHTML = '';\n",
              "          dataTable['output_type'] = 'display_data';\n",
              "          await google.colab.output.renderOutput(dataTable, element);\n",
              "          const docLink = document.createElement('div');\n",
              "          docLink.innerHTML = docLinkHtml;\n",
              "          element.appendChild(docLink);\n",
              "        }\n",
              "      </script>\n",
              "    </div>\n",
              "  </div>\n",
              "  "
            ]
          },
          "metadata": {},
          "execution_count": 3
        }
      ]
    },
    {
      "cell_type": "code",
      "source": [
        "#Train test split\n",
        "from sklearn.model_selection import train_test_split\n",
        "\n",
        "# Use train_test_split(X,y) to create four new data sets, defaults to .75/.25 split\n",
        "X_train, X_test, y_train, y_test = train_test_split(text, y_labels, stratify=y_labels, random_state=73)\n"
      ],
      "metadata": {
        "id": "AF_9GY2mpZXj"
      },
      "execution_count": null,
      "outputs": []
    },
    {
      "cell_type": "code",
      "source": [
        "print(text.shape)\n",
        "X_train.shape"
      ],
      "metadata": {
        "colab": {
          "base_uri": "https://localhost:8080/"
        },
        "id": "9HGMgi3ADa-W",
        "outputId": "d81e8e5f-7867-4ee6-9c15-a5cb1455d5c9"
      },
      "execution_count": null,
      "outputs": [
        {
          "output_type": "stream",
          "name": "stdout",
          "text": [
            "(24979,)\n"
          ]
        },
        {
          "output_type": "execute_result",
          "data": {
            "text/plain": [
              "(18734,)"
            ]
          },
          "metadata": {},
          "execution_count": 6
        }
      ]
    },
    {
      "cell_type": "code",
      "source": [
        "print(y_labels.shape)\n",
        "y_train.shape"
      ],
      "metadata": {
        "id": "nCaTLxcrpZfM",
        "colab": {
          "base_uri": "https://localhost:8080/"
        },
        "outputId": "7949add1-a660-4923-b08d-a1e1d20f1212"
      },
      "execution_count": null,
      "outputs": [
        {
          "output_type": "stream",
          "name": "stdout",
          "text": [
            "(24979,)\n"
          ]
        },
        {
          "output_type": "execute_result",
          "data": {
            "text/plain": [
              "(18734,)"
            ]
          },
          "metadata": {},
          "execution_count": 7
        }
      ]
    },
    {
      "cell_type": "code",
      "source": [
        "X_train.head()"
      ],
      "metadata": {
        "colab": {
          "base_uri": "https://localhost:8080/"
        },
        "id": "9JQxDiE5o9Lw",
        "outputId": "3e8d5f32-08ed-4287-e0ad-4021b6aeb3ce"
      },
      "execution_count": null,
      "outputs": [
        {
          "output_type": "execute_result",
          "data": {
            "text/plain": [
              "1330     Loss of Tax Revenues Is Felt Acutely in West, ...\n",
              "7790     Meet Diane Warren, Whose Songs You've Been Rui...\n",
              "10973    Mario Draghi succeeds Antonio Fazio as Bank of...\n",
              "18328                         When You're Not Over Your Ex\n",
              "20104    31 Real-Life Bridal Parties Who Nailed The Mix...\n",
              "Name: headline, dtype: object"
            ]
          },
          "metadata": {},
          "execution_count": 8
        }
      ]
    },
    {
      "cell_type": "code",
      "source": [
        "y_train.head()"
      ],
      "metadata": {
        "id": "K6RQ42sHouID",
        "colab": {
          "base_uri": "https://localhost:8080/"
        },
        "outputId": "109fb43c-6827-4846-b3fb-99ce1a8a388d"
      },
      "execution_count": null,
      "outputs": [
        {
          "output_type": "execute_result",
          "data": {
            "text/plain": [
              "1330     not clickbait\n",
              "7790         clickbait\n",
              "10973    not clickbait\n",
              "18328        clickbait\n",
              "20104        clickbait\n",
              "Name: label, dtype: object"
            ]
          },
          "metadata": {},
          "execution_count": 9
        }
      ]
    },
    {
      "cell_type": "markdown",
      "source": [
        "## Tokenizer 1"
      ],
      "metadata": {
        "id": "LeO0XYc8qjmQ"
      }
    },
    {
      "cell_type": "code",
      "source": [
        "from sklearn.feature_extraction.text import CountVectorizer\n",
        "vect = CountVectorizer().fit(X_train)\n",
        "X = vect.transform(X_train)\n",
        "print(\"X:\\n{}\".format(repr(X)))"
      ],
      "metadata": {
        "id": "1KBrqMU2qcCY",
        "colab": {
          "base_uri": "https://localhost:8080/"
        },
        "outputId": "144b562d-f5ca-46b1-95c9-12dab9a49e17"
      },
      "execution_count": null,
      "outputs": [
        {
          "output_type": "stream",
          "name": "stdout",
          "text": [
            "X:\n",
            "<18734x17858 sparse matrix of type '<class 'numpy.int64'>'\n",
            "\twith 165127 stored elements in Compressed Sparse Row format>\n"
          ]
        }
      ]
    },
    {
      "cell_type": "code",
      "source": [
        "feature_names = vect.get_feature_names()\n",
        "print(\"Number of features: {}\".format(len(feature_names)))\n",
        "print(\"First 20 features:\\n{}\".format(feature_names[:20]))\n",
        "print(\"Features 210 to 230:\\n{}\".format(feature_names[210:230]))\n",
        "print(\"Every 200th feature:\\n{}\".format(feature_names[::200]))"
      ],
      "metadata": {
        "id": "NHDZdfOqqcEm",
        "colab": {
          "base_uri": "https://localhost:8080/"
        },
        "outputId": "23e20c04-a1e7-4e68-8372-db09b78190d8"
      },
      "execution_count": null,
      "outputs": [
        {
          "output_type": "stream",
          "name": "stdout",
          "text": [
            "Number of features: 17858\n",
            "First 20 features:\n",
            "['00', '000', '000th', '00s', '01', '05', '08', '08m', '09', '10', '100', '1000', '100m', '100th', '100ºf', '101', '102', '103', '104', '106']\n",
            "Features 210 to 230:\n",
            "['42nd', '43', '431', '435', '44', '440', '447', '44th', '45', '450', '452', '455', '46', '460', '468', '47', '48', '48th', '49', '491']\n",
            "Every 200th feature:\n",
            "['00', '3nd', 'abused', 'afghan', 'altercation', 'anymore', 'assassinate', 'ayala', 'basf', 'benz', 'blip', 'bradford', 'bugging', 'cameras', 'cation', 'cheerleading', 'cleaner', 'comcast', 'consent', 'coulton', 'cruz', 'dawns', 'demi', 'difference', 'divorce', 'drm', 'eerie', 'engine', 'exam', 'fakhravar', 'fiedler', 'flourishing', 'freman', 'gazans', 'go', 'grinder', 'hand', 'heavyweights', 'homage', 'hurdles', 'inanimate', 'insults', 'istanbul', 'joseline', 'kickback', 'laguna', 'leicester', 'livestream', 'macarena', 'mario', 'meats', 'migraines', 'molossian', 'muqtada', 'nerve', 'novel', 'openoffice', 'overtime', 'pastry', 'pesticide', 'plane', 'possessing', 'privatize', 'pumpernickel', 'rainstorm', 'recount', 'removable', 'retro', 'rockefeller', 'safety', 'schulman', 'senses', 'shines', 'sitter', 'snickering', 'speedskating', 'statistician', 'studies', 'surrounded', 'tapper', 'thanks', 'toby', 'travelling', 'ty', 'unrequited', 'vergara', 'waldorf', 'wgt', 'wonton', 'zeal']\n"
          ]
        },
        {
          "output_type": "stream",
          "name": "stderr",
          "text": [
            "/usr/local/lib/python3.8/dist-packages/sklearn/utils/deprecation.py:87: FutureWarning: Function get_feature_names is deprecated; get_feature_names is deprecated in 1.0 and will be removed in 1.2. Please use get_feature_names_out instead.\n",
            "  warnings.warn(msg, category=FutureWarning)\n"
          ]
        }
      ]
    },
    {
      "cell_type": "markdown",
      "source": [
        "### Logistic regression with cross validation"
      ],
      "metadata": {
        "id": "jOKdWk9b8TN1"
      }
    },
    {
      "cell_type": "code",
      "source": [
        "from sklearn.model_selection import cross_val_score\n",
        "from sklearn.linear_model import LogisticRegression\n",
        "from sklearn.model_selection import GridSearchCV\n",
        "from sklearn.metrics import roc_auc_score\n",
        "\n",
        "scores = cross_val_score(LogisticRegression(), X, y_train, cv=5)\n",
        "print(\"Mean cross-validation accuracy: {:.4f}\".format(np.mean(scores)))"
      ],
      "metadata": {
        "id": "QoQp5fAlqiWs",
        "colab": {
          "base_uri": "https://localhost:8080/"
        },
        "outputId": "8f3f4248-89ed-465d-ee95-94a2520fa470"
      },
      "execution_count": null,
      "outputs": [
        {
          "output_type": "stream",
          "name": "stdout",
          "text": [
            "Mean cross-validation accuracy: 0.97\n"
          ]
        }
      ]
    },
    {
      "cell_type": "markdown",
      "source": [
        "### Tune parameters using Gridsearch CV"
      ],
      "metadata": {
        "id": "uNnXju6Kq3nn"
      }
    },
    {
      "cell_type": "code",
      "source": [
        "param_grid = {'C': [0.001, 0.01, 0.1, 1, 10]}\n",
        "grid = GridSearchCV(LogisticRegression(), param_grid, cv=5)\n",
        "grid.fit(X, y_train)\n",
        "print(\"Best cross-validation score: {:.4f}\".format(grid.best_score_))\n",
        "print(\"Best parameters: \", grid.best_params_)"
      ],
      "metadata": {
        "id": "OHCkdP6lqiY0",
        "colab": {
          "base_uri": "https://localhost:8080/"
        },
        "outputId": "6ca8afad-19ba-4d71-b456-ecc4652b9438"
      },
      "execution_count": null,
      "outputs": [
        {
          "output_type": "stream",
          "name": "stderr",
          "text": [
            "/usr/local/lib/python3.8/dist-packages/sklearn/linear_model/_logistic.py:814: ConvergenceWarning: lbfgs failed to converge (status=1):\n",
            "STOP: TOTAL NO. of ITERATIONS REACHED LIMIT.\n",
            "\n",
            "Increase the number of iterations (max_iter) or scale the data as shown in:\n",
            "    https://scikit-learn.org/stable/modules/preprocessing.html\n",
            "Please also refer to the documentation for alternative solver options:\n",
            "    https://scikit-learn.org/stable/modules/linear_model.html#logistic-regression\n",
            "  n_iter_i = _check_optimize_result(\n",
            "/usr/local/lib/python3.8/dist-packages/sklearn/linear_model/_logistic.py:814: ConvergenceWarning: lbfgs failed to converge (status=1):\n",
            "STOP: TOTAL NO. of ITERATIONS REACHED LIMIT.\n",
            "\n",
            "Increase the number of iterations (max_iter) or scale the data as shown in:\n",
            "    https://scikit-learn.org/stable/modules/preprocessing.html\n",
            "Please also refer to the documentation for alternative solver options:\n",
            "    https://scikit-learn.org/stable/modules/linear_model.html#logistic-regression\n",
            "  n_iter_i = _check_optimize_result(\n",
            "/usr/local/lib/python3.8/dist-packages/sklearn/linear_model/_logistic.py:814: ConvergenceWarning: lbfgs failed to converge (status=1):\n",
            "STOP: TOTAL NO. of ITERATIONS REACHED LIMIT.\n",
            "\n",
            "Increase the number of iterations (max_iter) or scale the data as shown in:\n",
            "    https://scikit-learn.org/stable/modules/preprocessing.html\n",
            "Please also refer to the documentation for alternative solver options:\n",
            "    https://scikit-learn.org/stable/modules/linear_model.html#logistic-regression\n",
            "  n_iter_i = _check_optimize_result(\n",
            "/usr/local/lib/python3.8/dist-packages/sklearn/linear_model/_logistic.py:814: ConvergenceWarning: lbfgs failed to converge (status=1):\n",
            "STOP: TOTAL NO. of ITERATIONS REACHED LIMIT.\n",
            "\n",
            "Increase the number of iterations (max_iter) or scale the data as shown in:\n",
            "    https://scikit-learn.org/stable/modules/preprocessing.html\n",
            "Please also refer to the documentation for alternative solver options:\n",
            "    https://scikit-learn.org/stable/modules/linear_model.html#logistic-regression\n",
            "  n_iter_i = _check_optimize_result(\n",
            "/usr/local/lib/python3.8/dist-packages/sklearn/linear_model/_logistic.py:814: ConvergenceWarning: lbfgs failed to converge (status=1):\n",
            "STOP: TOTAL NO. of ITERATIONS REACHED LIMIT.\n",
            "\n",
            "Increase the number of iterations (max_iter) or scale the data as shown in:\n",
            "    https://scikit-learn.org/stable/modules/preprocessing.html\n",
            "Please also refer to the documentation for alternative solver options:\n",
            "    https://scikit-learn.org/stable/modules/linear_model.html#logistic-regression\n",
            "  n_iter_i = _check_optimize_result(\n"
          ]
        },
        {
          "output_type": "stream",
          "name": "stdout",
          "text": [
            "Best cross-validation score: 0.9685\n",
            "Best parameters:  {'C': 10}\n"
          ]
        },
        {
          "output_type": "stream",
          "name": "stderr",
          "text": [
            "/usr/local/lib/python3.8/dist-packages/sklearn/linear_model/_logistic.py:814: ConvergenceWarning: lbfgs failed to converge (status=1):\n",
            "STOP: TOTAL NO. of ITERATIONS REACHED LIMIT.\n",
            "\n",
            "Increase the number of iterations (max_iter) or scale the data as shown in:\n",
            "    https://scikit-learn.org/stable/modules/preprocessing.html\n",
            "Please also refer to the documentation for alternative solver options:\n",
            "    https://scikit-learn.org/stable/modules/linear_model.html#logistic-regression\n",
            "  n_iter_i = _check_optimize_result(\n"
          ]
        }
      ]
    },
    {
      "cell_type": "code",
      "source": [
        "Xtest = vect.transform(X_test)\n",
        "print(\"Test score: {:.4f}\".format(grid.score(Xtest, y_test)))"
      ],
      "metadata": {
        "id": "VNp0QmlFqibV",
        "colab": {
          "base_uri": "https://localhost:8080/"
        },
        "outputId": "af1faf35-409b-41c7-9aec-9a597c2656fd"
      },
      "execution_count": null,
      "outputs": [
        {
          "output_type": "stream",
          "name": "stdout",
          "text": [
            "Test score: 0.9704\n"
          ]
        }
      ]
    },
    {
      "cell_type": "code",
      "source": [
        "cv_score = []\n",
        "test_score = []\n",
        "\n",
        "cv_score.append(grid.best_score_)\n",
        "test_score.append(grid.score(Xtest, y_test))"
      ],
      "metadata": {
        "id": "8jk2t9G5Gstj"
      },
      "execution_count": null,
      "outputs": []
    },
    {
      "cell_type": "markdown",
      "source": [
        "### Using AUC"
      ],
      "metadata": {
        "id": "br7mXbi5D-N6"
      }
    },
    {
      "cell_type": "code",
      "source": [
        "from sklearn.linear_model import LogisticRegressionCV\n",
        "from sklearn.metrics import roc_auc_score\n",
        "\n",
        "lr = LogisticRegressionCV(scoring='roc_auc', cv=5, max_iter=1000)\n",
        "lr_1 = lr.fit(X, y_train)\n",
        "print(\"AUC train score: {:.4f}\".format(lr_1.score(X, y_train)))"
      ],
      "metadata": {
        "colab": {
          "base_uri": "https://localhost:8080/"
        },
        "id": "lwQghgIyB_1T",
        "outputId": "63e98ffe-61c8-41ce-c706-e3723a1b1c16"
      },
      "execution_count": null,
      "outputs": [
        {
          "output_type": "stream",
          "name": "stdout",
          "text": [
            "AUC train score: 0.9999\n"
          ]
        }
      ]
    },
    {
      "cell_type": "code",
      "source": [
        "print(\"AUC test score: {:.4f}\".format(lr_1.score(Xtest, y_test)))"
      ],
      "metadata": {
        "colab": {
          "base_uri": "https://localhost:8080/"
        },
        "id": "fGgopvu3Di-E",
        "outputId": "e96f98f7-75ac-4b0b-f32a-8c60644cbbbd"
      },
      "execution_count": null,
      "outputs": [
        {
          "output_type": "stream",
          "name": "stdout",
          "text": [
            "AUC test score: 0.9956\n"
          ]
        }
      ]
    },
    {
      "cell_type": "code",
      "source": [
        "AUC_train = []\n",
        "AUC_test = []\n",
        "\n",
        "AUC_train.append(lr_1.score(X, y_train))\n",
        "AUC_test.append(lr_1.score(Xtest, y_test))"
      ],
      "metadata": {
        "id": "hxYG-GqfHCsb"
      },
      "execution_count": null,
      "outputs": []
    },
    {
      "cell_type": "markdown",
      "source": [
        "### Visualizing the coefficients"
      ],
      "metadata": {
        "id": "jHkpE8lUrA38"
      }
    },
    {
      "cell_type": "code",
      "source": [
        "# helper function to plot top positive and negative coefficients\n",
        "\n",
        "def visualize_coefficients(coefficients, feature_names, n_top_features=25):\n",
        "    \"\"\"Visualize coefficients of a linear model.\n",
        "    Parameters\n",
        "    ----------\n",
        "    coefficients : nd-array, shape (n_features,)\n",
        "        Model coefficients.\n",
        "    feature_names : list or nd-array of strings, shape (n_features,)\n",
        "        Feature names for labeling the coefficients.\n",
        "    n_top_features : int, default=25\n",
        "        How many features to show. The function will show the largest (most\n",
        "        positive) and smallest (most negative)  n_top_features coefficients,\n",
        "        for a total of 2 * n_top_features coefficients.\n",
        "    \"\"\"\n",
        "    coefficients = coefficients.squeeze()\n",
        "    if coefficients.ndim > 1:\n",
        "        # this is not a row or column vector\n",
        "        raise ValueError(\"coeffients must be 1d array or column vector, got\"\n",
        "                         \" shape {}\".format(coefficients.shape))\n",
        "    coefficients = coefficients.ravel()\n",
        "\n",
        "    if len(coefficients) != len(feature_names):\n",
        "        raise ValueError(\"Number of coefficients {} doesn't match number of\"\n",
        "                         \"feature names {}.\".format(len(coefficients),\n",
        "                                                    len(feature_names)))\n",
        "    # get coefficients with large absolute values\n",
        "    coef = coefficients.ravel()\n",
        "    positive_coefficients = np.argsort(coef)[-n_top_features:]\n",
        "    negative_coefficients = np.argsort(coef)[:n_top_features]\n",
        "    interesting_coefficients = np.hstack([negative_coefficients,\n",
        "                                          positive_coefficients])\n",
        "    # plot them\n",
        "    plt.figure(figsize=(15, 5))\n",
        "    colors = ['#ff2020' if c < 0 else '#0000aa'\n",
        "              for c in coef[interesting_coefficients]]\n",
        "    plt.bar(np.arange(2 * n_top_features), coef[interesting_coefficients],\n",
        "            color=colors)\n",
        "    feature_names = np.array(feature_names)\n",
        "    plt.subplots_adjust(bottom=0.3)\n",
        "    plt.xticks(np.arange(1, 1 + 2 * n_top_features),\n",
        "               feature_names[interesting_coefficients], rotation=60,\n",
        "               ha=\"right\")\n",
        "    plt.ylabel(\"Coefficient magnitude\")\n",
        "    plt.xlabel(\"Feature\")"
      ],
      "metadata": {
        "id": "lsqVkdQD9uat"
      },
      "execution_count": null,
      "outputs": []
    },
    {
      "cell_type": "code",
      "source": [
        "import matplotlib.pyplot as plt\n",
        "\n",
        "coefs = lr_1.coef_\n",
        "feature_names = vect.get_feature_names()\n",
        "\n",
        "visualize_coefficients(coefs, feature_names, n_top_features=20)"
      ],
      "metadata": {
        "colab": {
          "base_uri": "https://localhost:8080/",
          "height": 309
        },
        "id": "ERgmvxMz_4pV",
        "outputId": "a45bbc6b-fe1b-4567-ff9e-460dc56bdf41"
      },
      "execution_count": null,
      "outputs": [
        {
          "output_type": "stream",
          "name": "stderr",
          "text": [
            "/usr/local/lib/python3.8/dist-packages/sklearn/utils/deprecation.py:87: FutureWarning: Function get_feature_names is deprecated; get_feature_names is deprecated in 1.0 and will be removed in 1.2. Please use get_feature_names_out instead.\n",
            "  warnings.warn(msg, category=FutureWarning)\n"
          ]
        },
        {
          "output_type": "display_data",
          "data": {
            "text/plain": [
              "<Figure size 1080x360 with 1 Axes>"
            ],
            "image/png": "[encoded data removed]"
          },
          "metadata": {
            "needs_background": "light"
          }
        }
      ]
    },
    {
      "cell_type": "markdown",
      "source": [
        "## Tokenizer 2: Narrow bag of words to words in at least 10 documents"
      ],
      "metadata": {
        "id": "6vVLtCx1qqDw"
      }
    },
    {
      "cell_type": "code",
      "source": [
        "vect2 = CountVectorizer(min_df=10).fit(X_train)\n",
        "X2 = vect2.transform(X_train)\n",
        "print(\"X with min_df: {}\".format(repr(X2)))"
      ],
      "metadata": {
        "id": "h_d68BOmqroL",
        "colab": {
          "base_uri": "https://localhost:8080/"
        },
        "outputId": "82c0b846-0dc1-49f9-ae13-72b03799b17f"
      },
      "execution_count": null,
      "outputs": [
        {
          "output_type": "stream",
          "name": "stdout",
          "text": [
            "X with min_df: <18734x2526 sparse matrix of type '<class 'numpy.int64'>'\n",
            "\twith 130649 stored elements in Compressed Sparse Row format>\n"
          ]
        }
      ]
    },
    {
      "cell_type": "code",
      "source": [
        "feature_names2 = vect2.get_feature_names()\n",
        "print(\"Number of features: {}\".format(len(feature_names2)))\n",
        "print(\"First 20 features:\\n{}\".format(feature_names2[:20]))\n",
        "print(\"Features 210 to 230:\\n{}\".format(feature_names2[210:230]))\n",
        "print(\"Every 200th feature:\\n{}\".format(feature_names2[::200]))"
      ],
      "metadata": {
        "id": "UDv_UgEHqrqf",
        "colab": {
          "base_uri": "https://localhost:8080/"
        },
        "outputId": "b8c4ef10-0092-4f85-a4fd-89f9d4cf1a51"
      },
      "execution_count": null,
      "outputs": [
        {
          "output_type": "stream",
          "name": "stdout",
          "text": [
            "Number of features: 2526\n",
            "First 20 features:\n",
            "['000', '00s', '08', '10', '100', '11', '12', '13', '14', '15', '16', '17', '18', '19', '1989', '20', '200', '2000s', '2005', '2006']\n",
            "Features 210 to 230:\n",
            "['atlantic', 'attack', 'attacks', 'attempt', 'audience', 'australia', 'australian', 'author', 'authorities', 'auto', 'autumn', 'avoid', 'awakens', 'award', 'awards', 'away', 'awesome', 'awkward', 'babies', 'baby']\n",
            "Every 200th feature:\n",
            "['000', 'as', 'canada', 'culture', 'excited', 'governor', 'italy', 'march', 'oscar', 'random', 'share', 'taught', 'vines']\n"
          ]
        },
        {
          "output_type": "stream",
          "name": "stderr",
          "text": [
            "/usr/local/lib/python3.8/dist-packages/sklearn/utils/deprecation.py:87: FutureWarning: Function get_feature_names is deprecated; get_feature_names is deprecated in 1.0 and will be removed in 1.2. Please use get_feature_names_out instead.\n",
            "  warnings.warn(msg, category=FutureWarning)\n"
          ]
        }
      ]
    },
    {
      "cell_type": "markdown",
      "source": [
        "### Logistic regression with cross validation"
      ],
      "metadata": {
        "id": "ODVvlXDaOfeU"
      }
    },
    {
      "cell_type": "code",
      "source": [
        "scores2 = cross_val_score(LogisticRegression(), X2, y_train, cv=5)\n",
        "print(\"Mean cross-validation accuracy: {:.4f}\".format(np.mean(scores2)))"
      ],
      "metadata": {
        "id": "iGeahVS7qrs6",
        "colab": {
          "base_uri": "https://localhost:8080/"
        },
        "outputId": "0b21cfe9-cb53-4478-b30b-c1b69b12ba71"
      },
      "execution_count": null,
      "outputs": [
        {
          "output_type": "stream",
          "name": "stdout",
          "text": [
            "Mean cross-validation accuracy: 0.9656\n"
          ]
        }
      ]
    },
    {
      "cell_type": "markdown",
      "source": [
        "### Gridsearch CV"
      ],
      "metadata": {
        "id": "QMtBwVCDOtz3"
      }
    },
    {
      "cell_type": "code",
      "source": [
        "param_grid = {'C': [0.001, 0.01, 0.1, 1, 10]}\n",
        "grid = GridSearchCV(LogisticRegression(), param_grid, cv=5)\n",
        "grid.fit(X2, y_train)\n",
        "print(\"Best cross-validation score: {:.4f}\".format(grid.best_score_))\n",
        "print(\"Best parameters: \", grid.best_params_)"
      ],
      "metadata": {
        "id": "1_JNdj-vqrvk",
        "colab": {
          "base_uri": "https://localhost:8080/"
        },
        "outputId": "4d62ee56-d3d0-47f9-94b3-3c4970f640a2"
      },
      "execution_count": null,
      "outputs": [
        {
          "output_type": "stream",
          "name": "stderr",
          "text": [
            "/usr/local/lib/python3.8/dist-packages/sklearn/linear_model/_logistic.py:814: ConvergenceWarning: lbfgs failed to converge (status=1):\n",
            "STOP: TOTAL NO. of ITERATIONS REACHED LIMIT.\n",
            "\n",
            "Increase the number of iterations (max_iter) or scale the data as shown in:\n",
            "    https://scikit-learn.org/stable/modules/preprocessing.html\n",
            "Please also refer to the documentation for alternative solver options:\n",
            "    https://scikit-learn.org/stable/modules/linear_model.html#logistic-regression\n",
            "  n_iter_i = _check_optimize_result(\n",
            "/usr/local/lib/python3.8/dist-packages/sklearn/linear_model/_logistic.py:814: ConvergenceWarning: lbfgs failed to converge (status=1):\n",
            "STOP: TOTAL NO. of ITERATIONS REACHED LIMIT.\n",
            "\n",
            "Increase the number of iterations (max_iter) or scale the data as shown in:\n",
            "    https://scikit-learn.org/stable/modules/preprocessing.html\n",
            "Please also refer to the documentation for alternative solver options:\n",
            "    https://scikit-learn.org/stable/modules/linear_model.html#logistic-regression\n",
            "  n_iter_i = _check_optimize_result(\n",
            "/usr/local/lib/python3.8/dist-packages/sklearn/linear_model/_logistic.py:814: ConvergenceWarning: lbfgs failed to converge (status=1):\n",
            "STOP: TOTAL NO. of ITERATIONS REACHED LIMIT.\n",
            "\n",
            "Increase the number of iterations (max_iter) or scale the data as shown in:\n",
            "    https://scikit-learn.org/stable/modules/preprocessing.html\n",
            "Please also refer to the documentation for alternative solver options:\n",
            "    https://scikit-learn.org/stable/modules/linear_model.html#logistic-regression\n",
            "  n_iter_i = _check_optimize_result(\n",
            "/usr/local/lib/python3.8/dist-packages/sklearn/linear_model/_logistic.py:814: ConvergenceWarning: lbfgs failed to converge (status=1):\n",
            "STOP: TOTAL NO. of ITERATIONS REACHED LIMIT.\n",
            "\n",
            "Increase the number of iterations (max_iter) or scale the data as shown in:\n",
            "    https://scikit-learn.org/stable/modules/preprocessing.html\n",
            "Please also refer to the documentation for alternative solver options:\n",
            "    https://scikit-learn.org/stable/modules/linear_model.html#logistic-regression\n",
            "  n_iter_i = _check_optimize_result(\n",
            "/usr/local/lib/python3.8/dist-packages/sklearn/linear_model/_logistic.py:814: ConvergenceWarning: lbfgs failed to converge (status=1):\n",
            "STOP: TOTAL NO. of ITERATIONS REACHED LIMIT.\n",
            "\n",
            "Increase the number of iterations (max_iter) or scale the data as shown in:\n",
            "    https://scikit-learn.org/stable/modules/preprocessing.html\n",
            "Please also refer to the documentation for alternative solver options:\n",
            "    https://scikit-learn.org/stable/modules/linear_model.html#logistic-regression\n",
            "  n_iter_i = _check_optimize_result(\n"
          ]
        },
        {
          "output_type": "stream",
          "name": "stdout",
          "text": [
            "Best cross-validation score: 0.9656\n",
            "Best parameters:  {'C': 10}\n"
          ]
        },
        {
          "output_type": "stream",
          "name": "stderr",
          "text": [
            "/usr/local/lib/python3.8/dist-packages/sklearn/linear_model/_logistic.py:814: ConvergenceWarning: lbfgs failed to converge (status=1):\n",
            "STOP: TOTAL NO. of ITERATIONS REACHED LIMIT.\n",
            "\n",
            "Increase the number of iterations (max_iter) or scale the data as shown in:\n",
            "    https://scikit-learn.org/stable/modules/preprocessing.html\n",
            "Please also refer to the documentation for alternative solver options:\n",
            "    https://scikit-learn.org/stable/modules/linear_model.html#logistic-regression\n",
            "  n_iter_i = _check_optimize_result(\n"
          ]
        }
      ]
    },
    {
      "cell_type": "code",
      "source": [
        "Xtest2 = vect2.transform(X_test)\n",
        "print(\"Test score: {:.4f}\".format(grid.score(Xtest2, y_test)))\n",
        "\n",
        "cv_score.append(grid.best_score_)\n",
        "test_score.append(grid.score(Xtest2, y_test))"
      ],
      "metadata": {
        "id": "J0zy3qu2qrxd",
        "colab": {
          "base_uri": "https://localhost:8080/"
        },
        "outputId": "79a47465-9f54-42c0-ef46-80322490de4d"
      },
      "execution_count": null,
      "outputs": [
        {
          "output_type": "stream",
          "name": "stdout",
          "text": [
            "Test score: 0.9653\n"
          ]
        }
      ]
    },
    {
      "cell_type": "markdown",
      "source": [
        "### AUC"
      ],
      "metadata": {
        "id": "aIV9dUsVPNq_"
      }
    },
    {
      "cell_type": "code",
      "source": [
        "lr_2 = lr.fit(X2, y_train)\n",
        "print(\"AUC train score: {:.4f}\".format(lr_2.score(X2, y_train)))\n",
        "print(\"AUC test score: {:.4f}\".format(lr_2.score(Xtest2, y_test)))\n",
        "\n",
        "AUC_train.append(lr_2.score(X2, y_train))\n",
        "AUC_test.append(lr_2.score(Xtest2, y_test))"
      ],
      "metadata": {
        "id": "oGSMM0R5qrzY",
        "colab": {
          "base_uri": "https://localhost:8080/"
        },
        "outputId": "3568a4ad-a1d1-4bc1-db07-f398aae2aee5"
      },
      "execution_count": null,
      "outputs": [
        {
          "output_type": "stream",
          "name": "stdout",
          "text": [
            "AUC train score: 0.9993\n",
            "AUC test score: 0.9947\n"
          ]
        }
      ]
    },
    {
      "cell_type": "markdown",
      "source": [
        "### Visualizaztion"
      ],
      "metadata": {
        "id": "hY4Ee4Q0PZE1"
      }
    },
    {
      "cell_type": "code",
      "source": [
        "coefs2 = lr_2.coef_\n",
        "feature_names2 = vect2.get_feature_names()\n",
        "\n",
        "visualize_coefficients(coefs2, feature_names2, n_top_features=20)"
      ],
      "metadata": {
        "colab": {
          "base_uri": "https://localhost:8080/",
          "height": 306
        },
        "id": "ZlVnkmOIJaFq",
        "outputId": "8088f846-5cd9-4a9d-d3f7-b5aa287e42a2"
      },
      "execution_count": null,
      "outputs": [
        {
          "output_type": "stream",
          "name": "stderr",
          "text": [
            "/usr/local/lib/python3.8/dist-packages/sklearn/utils/deprecation.py:87: FutureWarning: Function get_feature_names is deprecated; get_feature_names is deprecated in 1.0 and will be removed in 1.2. Please use get_feature_names_out instead.\n",
            "  warnings.warn(msg, category=FutureWarning)\n"
          ]
        },
        {
          "output_type": "display_data",
          "data": {
            "text/plain": [
              "<Figure size 1080x360 with 1 Axes>"
            ],
            "image/png": "[encoded data removed]"
          },
          "metadata": {
            "needs_background": "light"
          }
        }
      ]
    },
    {
      "cell_type": "markdown",
      "source": [
        "## Tokenizer 3: deleting Stop-words"
      ],
      "metadata": {
        "id": "WLIHAwymqsDZ"
      }
    },
    {
      "cell_type": "code",
      "source": [
        "from sklearn.feature_extraction.text import ENGLISH_STOP_WORDS\n",
        "print(\"Number of stop words: {}\".format(len(ENGLISH_STOP_WORDS)))\n",
        "print(\"Every 10th stopword:\\n{}\".format(list(ENGLISH_STOP_WORDS)[::10]))"
      ],
      "metadata": {
        "id": "DUD_EA7dqu0L",
        "colab": {
          "base_uri": "https://localhost:8080/"
        },
        "outputId": "ade4713e-9921-4b61-8a6c-f36a7a364493"
      },
      "execution_count": null,
      "outputs": [
        {
          "output_type": "stream",
          "name": "stdout",
          "text": [
            "Number of stop words: 318\n",
            "Every 10th stopword:\n",
            "['please', 'describe', 'whereafter', 'whole', 'no', 'since', 'against', 'own', 'enough', 'other', 'cry', 'now', 'put', 'also', 'fill', 'twenty', 'an', 'ours', 'than', 'amongst', 'though', 'amoungst', 'another', 'upon', 'becoming', 'thence', 'several', 'five', 'had', 'again', 'first', 'back']\n"
          ]
        }
      ]
    },
    {
      "cell_type": "code",
      "source": [
        "vect3 = CountVectorizer(min_df=5, stop_words=\"english\").fit(X_train)\n",
        "X3 = vect3.transform(X_train)\n",
        "print(\"X with stop words:\\n{}\".format(repr(X3)))"
      ],
      "metadata": {
        "id": "TaMRRGVPqu2n",
        "colab": {
          "base_uri": "https://localhost:8080/"
        },
        "outputId": "29b8c067-36fe-498b-d1d9-d2365ff2f01f"
      },
      "execution_count": null,
      "outputs": [
        {
          "output_type": "stream",
          "name": "stdout",
          "text": [
            "X with stop words:\n",
            "<18734x4294 sparse matrix of type '<class 'numpy.int64'>'\n",
            "\twith 88959 stored elements in Compressed Sparse Row format>\n"
          ]
        }
      ]
    },
    {
      "cell_type": "code",
      "source": [
        "feature_names3 = vect3.get_feature_names()\n",
        "print(\"Number of features: {}\".format(len(feature_names3)))\n",
        "print(\"First 20 features:\\n{}\".format(feature_names3[:20]))\n",
        "print(\"Features 210 to 230:\\n{}\".format(feature_names3[210:230]))\n",
        "print(\"Every 200th feature:\\n{}\".format(feature_names3[::200]))"
      ],
      "metadata": {
        "id": "mgtusVCwqu4_",
        "colab": {
          "base_uri": "https://localhost:8080/"
        },
        "outputId": "e200dbc8-5b5f-46f8-8d70-82208ee869b1"
      },
      "execution_count": null,
      "outputs": [
        {
          "output_type": "stream",
          "name": "stdout",
          "text": [
            "Number of features: 4294\n",
            "First 20 features:\n",
            "['000', '00s', '08', '09', '10', '100', '11', '12', '120', '13', '14', '15', '16', '17', '18', '19', '1989', '20', '200', '2000s']\n",
            "Features 210 to 230:\n",
            "['airstrikes', 'airways', 'al', 'alabama', 'alan', 'alarm', 'alaska', 'album', 'albums', 'alcohol', 'alcoholic', 'alert', 'alex', 'alice', 'alive', 'allegations', 'alleged', 'allegedly', 'allen', 'alliance']\n",
            "Every 200th feature:\n",
            "['000', 'aim', 'bags', 'buffalo', 'clashes', 'crucial', 'dog', 'exploration', 'fun', 'hedge', 'iowa', 'lawyers', 'massachusetts', 'nerve', 'people', 'protect', 'resolution', 'self', 'spirit', 'tallest', 'tsunami', 'wikimedia']\n"
          ]
        },
        {
          "output_type": "stream",
          "name": "stderr",
          "text": [
            "/usr/local/lib/python3.8/dist-packages/sklearn/utils/deprecation.py:87: FutureWarning: Function get_feature_names is deprecated; get_feature_names is deprecated in 1.0 and will be removed in 1.2. Please use get_feature_names_out instead.\n",
            "  warnings.warn(msg, category=FutureWarning)\n"
          ]
        }
      ]
    },
    {
      "cell_type": "markdown",
      "source": [
        "### Logistic regression with cross validation"
      ],
      "metadata": {
        "id": "0iEZEA1mPA9r"
      }
    },
    {
      "cell_type": "code",
      "source": [
        "scores3 = cross_val_score(LogisticRegression(), X3, y_train, cv=5)\n",
        "print(\"Mean cross-validation accuracy: {:.4f}\".format(np.mean(scores3)))"
      ],
      "metadata": {
        "id": "Q0TRDOePqu7Q",
        "colab": {
          "base_uri": "https://localhost:8080/"
        },
        "outputId": "d98eed6e-c0a7-4998-8e2c-3a7103978fbd"
      },
      "execution_count": null,
      "outputs": [
        {
          "output_type": "stream",
          "name": "stdout",
          "text": [
            "Mean cross-validation accuracy: 0.9453\n"
          ]
        }
      ]
    },
    {
      "cell_type": "markdown",
      "source": [
        "### Gridsearch CV"
      ],
      "metadata": {
        "id": "ToKR0ZYMO0Bd"
      }
    },
    {
      "cell_type": "code",
      "source": [
        "param_grid = {'C': [0.001, 0.01, 0.1, 1, 10]}\n",
        "grid = GridSearchCV(LogisticRegression(), param_grid, cv=5)\n",
        "grid.fit(X3, y_train)\n",
        "print(\"Best cross-validation score: {:.4f}\".format(grid.best_score_))\n",
        "print(\"Best parameters: \", grid.best_params_)"
      ],
      "metadata": {
        "id": "Oc-vRruuq8_X",
        "colab": {
          "base_uri": "https://localhost:8080/"
        },
        "outputId": "0d42bdcb-1dc3-47bf-cd71-18205834473b"
      },
      "execution_count": null,
      "outputs": [
        {
          "output_type": "stream",
          "name": "stderr",
          "text": [
            "/usr/local/lib/python3.8/dist-packages/sklearn/linear_model/_logistic.py:814: ConvergenceWarning: lbfgs failed to converge (status=1):\n",
            "STOP: TOTAL NO. of ITERATIONS REACHED LIMIT.\n",
            "\n",
            "Increase the number of iterations (max_iter) or scale the data as shown in:\n",
            "    https://scikit-learn.org/stable/modules/preprocessing.html\n",
            "Please also refer to the documentation for alternative solver options:\n",
            "    https://scikit-learn.org/stable/modules/linear_model.html#logistic-regression\n",
            "  n_iter_i = _check_optimize_result(\n",
            "/usr/local/lib/python3.8/dist-packages/sklearn/linear_model/_logistic.py:814: ConvergenceWarning: lbfgs failed to converge (status=1):\n",
            "STOP: TOTAL NO. of ITERATIONS REACHED LIMIT.\n",
            "\n",
            "Increase the number of iterations (max_iter) or scale the data as shown in:\n",
            "    https://scikit-learn.org/stable/modules/preprocessing.html\n",
            "Please also refer to the documentation for alternative solver options:\n",
            "    https://scikit-learn.org/stable/modules/linear_model.html#logistic-regression\n",
            "  n_iter_i = _check_optimize_result(\n",
            "/usr/local/lib/python3.8/dist-packages/sklearn/linear_model/_logistic.py:814: ConvergenceWarning: lbfgs failed to converge (status=1):\n",
            "STOP: TOTAL NO. of ITERATIONS REACHED LIMIT.\n",
            "\n",
            "Increase the number of iterations (max_iter) or scale the data as shown in:\n",
            "    https://scikit-learn.org/stable/modules/preprocessing.html\n",
            "Please also refer to the documentation for alternative solver options:\n",
            "    https://scikit-learn.org/stable/modules/linear_model.html#logistic-regression\n",
            "  n_iter_i = _check_optimize_result(\n",
            "/usr/local/lib/python3.8/dist-packages/sklearn/linear_model/_logistic.py:814: ConvergenceWarning: lbfgs failed to converge (status=1):\n",
            "STOP: TOTAL NO. of ITERATIONS REACHED LIMIT.\n",
            "\n",
            "Increase the number of iterations (max_iter) or scale the data as shown in:\n",
            "    https://scikit-learn.org/stable/modules/preprocessing.html\n",
            "Please also refer to the documentation for alternative solver options:\n",
            "    https://scikit-learn.org/stable/modules/linear_model.html#logistic-regression\n",
            "  n_iter_i = _check_optimize_result(\n"
          ]
        },
        {
          "output_type": "stream",
          "name": "stdout",
          "text": [
            "Best cross-validation score: 0.9453\n",
            "Best parameters:  {'C': 1}\n"
          ]
        }
      ]
    },
    {
      "cell_type": "code",
      "source": [
        "Xtest3 = vect3.transform(X_test)\n",
        "print(\"Test score: {:.4f}\".format(grid.score(Xtest3, y_test)))\n",
        "\n",
        "cv_score.append(grid.best_score_)\n",
        "test_score.append(grid.score(Xtest3, y_test))"
      ],
      "metadata": {
        "id": "0_o6PqUkq9B3",
        "colab": {
          "base_uri": "https://localhost:8080/"
        },
        "outputId": "cc0d7a99-5abe-486b-a658-388e360a2033"
      },
      "execution_count": null,
      "outputs": [
        {
          "output_type": "stream",
          "name": "stdout",
          "text": [
            "Test score: 0.9444\n"
          ]
        }
      ]
    },
    {
      "cell_type": "markdown",
      "source": [
        "### AUC"
      ],
      "metadata": {
        "id": "ZJr4CpkBPP-e"
      }
    },
    {
      "cell_type": "code",
      "source": [
        "lr_3 = lr.fit(X3, y_train)\n",
        "print(\"AUC train score: {:.4f}\".format(lr_3.score(X3, y_train)))\n",
        "print(\"AUC test score: {:.4f}\".format(lr_3.score(Xtest3, y_test)))\n",
        "\n",
        "AUC_train.append(lr_3.score(X3, y_train))\n",
        "AUC_test.append(lr_3.score(Xtest3, y_test))"
      ],
      "metadata": {
        "id": "SvVYGiXfq9EF",
        "colab": {
          "base_uri": "https://localhost:8080/"
        },
        "outputId": "925be5b0-8bed-4903-afea-25ed31db3441"
      },
      "execution_count": null,
      "outputs": [
        {
          "output_type": "stream",
          "name": "stdout",
          "text": [
            "AUC train score: 0.9988\n",
            "AUC test score: 0.9884\n"
          ]
        }
      ]
    },
    {
      "cell_type": "markdown",
      "source": [
        "### Visualizaztion"
      ],
      "metadata": {
        "id": "Hq7nhAH5PeyL"
      }
    },
    {
      "cell_type": "code",
      "source": [
        "coefs3 = lr_3.coef_\n",
        "feature_names3 = vect3.get_feature_names()\n",
        "\n",
        "visualize_coefficients(coefs3, feature_names3, n_top_features=20)"
      ],
      "metadata": {
        "colab": {
          "base_uri": "https://localhost:8080/",
          "height": 378
        },
        "id": "UBbxbp8_Jodh",
        "outputId": "65b139c3-161f-448a-a62a-d0485b51823b"
      },
      "execution_count": null,
      "outputs": [
        {
          "output_type": "stream",
          "name": "stderr",
          "text": [
            "/usr/local/lib/python3.8/dist-packages/sklearn/utils/deprecation.py:87: FutureWarning: Function get_feature_names is deprecated; get_feature_names is deprecated in 1.0 and will be removed in 1.2. Please use get_feature_names_out instead.\n",
            "  warnings.warn(msg, category=FutureWarning)\n"
          ]
        },
        {
          "output_type": "display_data",
          "data": {
            "text/plain": [
              "<Figure size 1080x360 with 1 Axes>"
            ],
            "image/png": "[encoded data removed]"
          },
          "metadata": {
            "needs_background": "light"
          }
        }
      ]
    },
    {
      "cell_type": "markdown",
      "source": [
        "We can see that deleting stop words removes words such as \"you\", \"your\", \"these\" and gives us more sense on what non-clickbait headlines look like."
      ],
      "metadata": {
        "id": "hRtCABJEQLRv"
      }
    },
    {
      "cell_type": "markdown",
      "source": [
        "## Tokenizer 4: Rescaling the Data with tf-idf"
      ],
      "metadata": {
        "id": "XmI8v5RHBJOn"
      }
    },
    {
      "cell_type": "code",
      "source": [
        "from sklearn.feature_extraction.text import TfidfVectorizer\n",
        "\n",
        "vect4 = TfidfVectorizer(min_df=5, norm=None).fit(X_train)\n",
        "X4 = vect4.transform(X_train)\n",
        "print(\"X with tf-idf:\\n{}\".format(repr(X4)))"
      ],
      "metadata": {
        "id": "ET3i4_otq9Is",
        "colab": {
          "base_uri": "https://localhost:8080/"
        },
        "outputId": "6e6ae701-a7e5-4c51-aa87-36166b34c99e"
      },
      "execution_count": null,
      "outputs": [
        {
          "output_type": "stream",
          "name": "stdout",
          "text": [
            "X with tf-idf:\n",
            "<18734x4516 sparse matrix of type '<class 'numpy.float64'>'\n",
            "\twith 143586 stored elements in Compressed Sparse Row format>\n"
          ]
        }
      ]
    },
    {
      "cell_type": "code",
      "source": [
        "feature_names4 = vect4.get_feature_names()\n",
        "print(\"Number of features: {}\".format(len(feature_names4)))\n",
        "print(\"First 20 features:\\n{}\".format(feature_names4[:20]))\n",
        "print(\"Features 210 to 230:\\n{}\".format(feature_names4[210:230]))\n",
        "print(\"Every 200th feature:\\n{}\".format(feature_names4[::200]))"
      ],
      "metadata": {
        "id": "9EkUOHC8rHRX",
        "colab": {
          "base_uri": "https://localhost:8080/"
        },
        "outputId": "545f40c1-8586-4718-fb94-e922b9b0cb4f"
      },
      "execution_count": null,
      "outputs": [
        {
          "output_type": "stream",
          "name": "stdout",
          "text": [
            "Number of features: 4516\n",
            "First 20 features:\n",
            "['000', '00s', '08', '09', '10', '100', '11', '12', '120', '13', '14', '15', '16', '17', '18', '19', '1989', '20', '200', '2000s']\n",
            "Features 210 to 230:\n",
            "['airline', 'airliner', 'airlines', 'airplane', 'airport', 'airstrikes', 'airways', 'al', 'alabama', 'alan', 'alarm', 'alaska', 'album', 'albums', 'alcohol', 'alcoholic', 'alert', 'alex', 'alice', 'alive']\n",
            "Every 200th feature:\n",
            "['000', 'ahmadinejad', 'autumn', 'breach', 'chicken', 'couple', 'dinner', 'equality', 'flags', 'growing', 'icelandic', 'karl', 'local', 'miss', 'official', 'planned', 'race', 'riots', 'share', 'starbucks', 'television', 'turns', 'what']\n"
          ]
        },
        {
          "output_type": "stream",
          "name": "stderr",
          "text": [
            "/usr/local/lib/python3.8/dist-packages/sklearn/utils/deprecation.py:87: FutureWarning: Function get_feature_names is deprecated; get_feature_names is deprecated in 1.0 and will be removed in 1.2. Please use get_feature_names_out instead.\n",
            "  warnings.warn(msg, category=FutureWarning)\n"
          ]
        }
      ]
    },
    {
      "cell_type": "markdown",
      "source": [
        "### Logistic regression with cross validation"
      ],
      "metadata": {
        "id": "qlaEL99zPEtV"
      }
    },
    {
      "cell_type": "code",
      "source": [
        "scores4 = cross_val_score(LogisticRegression(), X4, y_train, cv=5)\n",
        "print(\"Mean cross-validation accuracy: {:.4f}\".format(np.mean(scores4)))"
      ],
      "metadata": {
        "id": "wjFRkacHrHUP",
        "colab": {
          "base_uri": "https://localhost:8080/"
        },
        "outputId": "99e663aa-c6ae-41ce-b8a9-64bc7491cb6a"
      },
      "execution_count": null,
      "outputs": [
        {
          "output_type": "stream",
          "name": "stdout",
          "text": [
            "Mean cross-validation accuracy: 0.9642\n"
          ]
        }
      ]
    },
    {
      "cell_type": "markdown",
      "source": [
        "### Gridsearch CV"
      ],
      "metadata": {
        "id": "qa6JDZUWO4Rr"
      }
    },
    {
      "cell_type": "code",
      "source": [
        "param_grid = {'C': [0.001, 0.01, 0.1, 1, 10]}\n",
        "grid = GridSearchCV(LogisticRegression(), param_grid, cv=5)\n",
        "grid.fit(X4, y_train)\n",
        "print(\"Best cross-validation score: {:.4f}\".format(grid.best_score_))\n",
        "print(\"Best parameters: \", grid.best_params_)"
      ],
      "metadata": {
        "colab": {
          "base_uri": "https://localhost:8080/"
        },
        "id": "GlC7qSjWIkZV",
        "outputId": "702842ac-7f9d-47da-a9bc-456e7afbed44"
      },
      "execution_count": null,
      "outputs": [
        {
          "output_type": "stream",
          "name": "stderr",
          "text": [
            "/usr/local/lib/python3.8/dist-packages/sklearn/linear_model/_logistic.py:814: ConvergenceWarning: lbfgs failed to converge (status=1):\n",
            "STOP: TOTAL NO. of ITERATIONS REACHED LIMIT.\n",
            "\n",
            "Increase the number of iterations (max_iter) or scale the data as shown in:\n",
            "    https://scikit-learn.org/stable/modules/preprocessing.html\n",
            "Please also refer to the documentation for alternative solver options:\n",
            "    https://scikit-learn.org/stable/modules/linear_model.html#logistic-regression\n",
            "  n_iter_i = _check_optimize_result(\n",
            "/usr/local/lib/python3.8/dist-packages/sklearn/linear_model/_logistic.py:814: ConvergenceWarning: lbfgs failed to converge (status=1):\n",
            "STOP: TOTAL NO. of ITERATIONS REACHED LIMIT.\n",
            "\n",
            "Increase the number of iterations (max_iter) or scale the data as shown in:\n",
            "    https://scikit-learn.org/stable/modules/preprocessing.html\n",
            "Please also refer to the documentation for alternative solver options:\n",
            "    https://scikit-learn.org/stable/modules/linear_model.html#logistic-regression\n",
            "  n_iter_i = _check_optimize_result(\n",
            "/usr/local/lib/python3.8/dist-packages/sklearn/linear_model/_logistic.py:814: ConvergenceWarning: lbfgs failed to converge (status=1):\n",
            "STOP: TOTAL NO. of ITERATIONS REACHED LIMIT.\n",
            "\n",
            "Increase the number of iterations (max_iter) or scale the data as shown in:\n",
            "    https://scikit-learn.org/stable/modules/preprocessing.html\n",
            "Please also refer to the documentation for alternative solver options:\n",
            "    https://scikit-learn.org/stable/modules/linear_model.html#logistic-regression\n",
            "  n_iter_i = _check_optimize_result(\n",
            "/usr/local/lib/python3.8/dist-packages/sklearn/linear_model/_logistic.py:814: ConvergenceWarning: lbfgs failed to converge (status=1):\n",
            "STOP: TOTAL NO. of ITERATIONS REACHED LIMIT.\n",
            "\n",
            "Increase the number of iterations (max_iter) or scale the data as shown in:\n",
            "    https://scikit-learn.org/stable/modules/preprocessing.html\n",
            "Please also refer to the documentation for alternative solver options:\n",
            "    https://scikit-learn.org/stable/modules/linear_model.html#logistic-regression\n",
            "  n_iter_i = _check_optimize_result(\n",
            "/usr/local/lib/python3.8/dist-packages/sklearn/linear_model/_logistic.py:814: ConvergenceWarning: lbfgs failed to converge (status=1):\n",
            "STOP: TOTAL NO. of ITERATIONS REACHED LIMIT.\n",
            "\n",
            "Increase the number of iterations (max_iter) or scale the data as shown in:\n",
            "    https://scikit-learn.org/stable/modules/preprocessing.html\n",
            "Please also refer to the documentation for alternative solver options:\n",
            "    https://scikit-learn.org/stable/modules/linear_model.html#logistic-regression\n",
            "  n_iter_i = _check_optimize_result(\n"
          ]
        },
        {
          "output_type": "stream",
          "name": "stdout",
          "text": [
            "Best cross-validation score: 0.9699\n",
            "Best parameters:  {'C': 0.1}\n"
          ]
        }
      ]
    },
    {
      "cell_type": "code",
      "source": [
        "Xtest4 = vect4.transform(X_test)\n",
        "print(\"Test score: {:.4f}\".format(grid.score(Xtest4, y_test)))\n",
        "\n",
        "cv_score.append(grid.best_score_)\n",
        "test_score.append(grid.score(Xtest4, y_test))"
      ],
      "metadata": {
        "colab": {
          "base_uri": "https://localhost:8080/"
        },
        "id": "iI7xg8pGJOJ4",
        "outputId": "4c75be21-92d0-4ca9-df1d-41305d163c6c"
      },
      "execution_count": null,
      "outputs": [
        {
          "output_type": "stream",
          "name": "stdout",
          "text": [
            "Test score: 0.9705\n"
          ]
        }
      ]
    },
    {
      "cell_type": "markdown",
      "source": [
        "### AUC"
      ],
      "metadata": {
        "id": "NNOQ-C1zPSa4"
      }
    },
    {
      "cell_type": "code",
      "source": [
        "lr_4 = lr.fit(X4, y_train)\n",
        "print(\"AUC train score: {:.4f}\".format(lr_4.score(X4, y_train)))\n",
        "print(\"AUC test score: {:.4f}\".format(lr_4.score(Xtest4, y_test)))\n",
        "\n",
        "AUC_train.append(lr_4.score(X4, y_train))\n",
        "AUC_test.append(lr_4.score(Xtest4, y_test))"
      ],
      "metadata": {
        "colab": {
          "base_uri": "https://localhost:8080/"
        },
        "id": "FHGvxYBoJOr_",
        "outputId": "a0fe8576-5615-42ac-9cdd-4569c431a436"
      },
      "execution_count": null,
      "outputs": [
        {
          "output_type": "stream",
          "name": "stdout",
          "text": [
            "AUC train score: 0.9998\n",
            "AUC test score: 0.9956\n"
          ]
        }
      ]
    },
    {
      "cell_type": "markdown",
      "source": [
        "### Visualizaztion"
      ],
      "metadata": {
        "id": "KyeEssbOPg9I"
      }
    },
    {
      "cell_type": "code",
      "source": [
        "coefs4 = lr_4.coef_\n",
        "feature_names4 = vect4.get_feature_names()\n",
        "\n",
        "visualize_coefficients(coefs4, feature_names4, n_top_features=20)"
      ],
      "metadata": {
        "colab": {
          "base_uri": "https://localhost:8080/",
          "height": 307
        },
        "id": "oUkhGjFRJOuU",
        "outputId": "1012a1db-d8b4-44c9-9714-5d3909462412"
      },
      "execution_count": null,
      "outputs": [
        {
          "output_type": "stream",
          "name": "stderr",
          "text": [
            "/usr/local/lib/python3.8/dist-packages/sklearn/utils/deprecation.py:87: FutureWarning: Function get_feature_names is deprecated; get_feature_names is deprecated in 1.0 and will be removed in 1.2. Please use get_feature_names_out instead.\n",
            "  warnings.warn(msg, category=FutureWarning)\n"
          ]
        },
        {
          "output_type": "display_data",
          "data": {
            "text/plain": [
              "<Figure size 1080x360 with 1 Axes>"
            ],
            "image/png": "[encoded data removed]"
          },
          "metadata": {
            "needs_background": "light"
          }
        }
      ]
    },
    {
      "cell_type": "markdown",
      "source": [
        "## Tokenizer 5: n-grams"
      ],
      "metadata": {
        "id": "71380Aw7BvW_"
      }
    },
    {
      "cell_type": "code",
      "source": [
        "vect5 = TfidfVectorizer(ngram_range=(1,3) ,min_df=5, norm=None).fit(X_train)\n",
        "X5 = vect5.transform(X_train)\n",
        "print(\"X with 3-grams:\\n{}\".format(repr(X5)))"
      ],
      "metadata": {
        "colab": {
          "base_uri": "https://localhost:8080/"
        },
        "id": "iCOsoHFOBzZ8",
        "outputId": "ecdf66e5-a5f5-49fd-ec1d-1877ced444d4"
      },
      "execution_count": null,
      "outputs": [
        {
          "output_type": "stream",
          "name": "stdout",
          "text": [
            "X with 3-grams:\n",
            "<18734x8687 sparse matrix of type '<class 'numpy.float64'>'\n",
            "\twith 198283 stored elements in Compressed Sparse Row format>\n"
          ]
        }
      ]
    },
    {
      "cell_type": "code",
      "source": [
        "feature_names5 = vect5.get_feature_names()\n",
        "print(\"Number of features: {}\".format(len(feature_names5)))\n",
        "print(\"First 20 features:\\n{}\".format(feature_names5[:20]))\n",
        "print(\"Features 210 to 230:\\n{}\".format(feature_names5[210:230]))\n",
        "print(\"Every 200th feature:\\n{}\".format(feature_names5[::200]))"
      ],
      "metadata": {
        "id": "cti6F-jeBzcY",
        "colab": {
          "base_uri": "https://localhost:8080/"
        },
        "outputId": "a02bdeee-3d39-40b0-c01b-596378d65321"
      },
      "execution_count": null,
      "outputs": [
        {
          "output_type": "stream",
          "name": "stdout",
          "text": [
            "Number of features: 8687\n",
            "First 20 features:\n",
            "['000', '000 jobs', '00s', '08', '09', '10', '10 000', '10 things', '10 year', '10 year old', '10 years', '100', '100 years', '100 years of', '11', '11 things', '11 times', '12', '12 charts', '12 reasons']\n",
            "Features 210 to 230:\n",
            "['30 things you', '300', '300 000', '31', '32', '33', '34', '35', '36', '37', '38', '39', '3rd', '40', '400', '41', '42', '43', '44', '45']\n",
            "Every 200th feature:\n",
            "['000', '27 times', 'affairs', 'animals', 'at world', 'best', 'build', 'chance', 'comment', 'dalai lama', 'dinners', 'efron', 'facts you', 'focuses on', 'gather', 'guy', 'hillary', 'impossible to answer', 'injury', 'jesse', 'lama', 'll actually', 'marry based', 'most adorable', 'nfl week picks', 'on for', 'part of the', 'points', 'puppy', 'regular', 'rugby', 'series of', 'so much', 'streak', 'teen', 'the hunger', 'this little', 'to play', 'try this', 'veterans', 'week of december', 'will determine', 'yoga', 'your day']\n"
          ]
        },
        {
          "output_type": "stream",
          "name": "stderr",
          "text": [
            "/usr/local/lib/python3.8/dist-packages/sklearn/utils/deprecation.py:87: FutureWarning: Function get_feature_names is deprecated; get_feature_names is deprecated in 1.0 and will be removed in 1.2. Please use get_feature_names_out instead.\n",
            "  warnings.warn(msg, category=FutureWarning)\n"
          ]
        }
      ]
    },
    {
      "cell_type": "markdown",
      "source": [
        "### Logistic regression with cross validation"
      ],
      "metadata": {
        "id": "US0LQ3sYPIFZ"
      }
    },
    {
      "cell_type": "code",
      "source": [
        "scores5 = cross_val_score(LogisticRegression(), X5, y_train, cv=5)\n",
        "print(\"Mean cross-validation accuracy: {:.4f}\".format(np.mean(scores5)))"
      ],
      "metadata": {
        "id": "HYrf6EsQBzei",
        "colab": {
          "base_uri": "https://localhost:8080/"
        },
        "outputId": "f3a64668-af8c-42af-c3ce-b94fbeb05cd5"
      },
      "execution_count": null,
      "outputs": [
        {
          "output_type": "stream",
          "name": "stdout",
          "text": [
            "Mean cross-validation accuracy: 0.9695\n"
          ]
        }
      ]
    },
    {
      "cell_type": "markdown",
      "source": [
        "### Gridsearch CV"
      ],
      "metadata": {
        "id": "OYQBhlPdO8hG"
      }
    },
    {
      "cell_type": "code",
      "source": [
        "param_grid = {'C': [0.001, 0.01, 0.1, 1, 10]}\n",
        "grid = GridSearchCV(LogisticRegression(), param_grid, cv=5)\n",
        "grid.fit(X5, y_train)\n",
        "print(\"Best cross-validation score: {:.4f}\".format(grid.best_score_))\n",
        "print(\"Best parameters: \", grid.best_params_)"
      ],
      "metadata": {
        "id": "302EmSW3Bzhb",
        "colab": {
          "base_uri": "https://localhost:8080/"
        },
        "outputId": "7995caa7-8478-41bf-ee8c-1c9f4433b222"
      },
      "execution_count": null,
      "outputs": [
        {
          "output_type": "stream",
          "name": "stdout",
          "text": [
            "Best cross-validation score: 0.9730\n",
            "Best parameters:  {'C': 0.1}\n"
          ]
        }
      ]
    },
    {
      "cell_type": "code",
      "source": [
        "Xtest5 = vect5.transform(X_test)\n",
        "print(\"Test score: {:.4f}\".format(grid.score(Xtest5, y_test)))\n",
        "\n",
        "cv_score.append(grid.best_score_)\n",
        "test_score.append(grid.score(Xtest5, y_test))"
      ],
      "metadata": {
        "id": "XTy89Q5SBzkc",
        "colab": {
          "base_uri": "https://localhost:8080/"
        },
        "outputId": "a634bce5-dc6e-4d66-b8bc-d33d5507abc7"
      },
      "execution_count": null,
      "outputs": [
        {
          "output_type": "stream",
          "name": "stdout",
          "text": [
            "Test score: 0.9705\n"
          ]
        }
      ]
    },
    {
      "cell_type": "markdown",
      "source": [
        "### AUC"
      ],
      "metadata": {
        "id": "w7tTUmmXPUz7"
      }
    },
    {
      "cell_type": "code",
      "source": [
        "lr_5 = lr.fit(X5, y_train)\n",
        "print(\"AUC train score: {:.4f}\".format(lr_5.score(X5, y_train)))\n",
        "print(\"AUC test score: {:.4f}\".format(lr_5.score(Xtest5, y_test)))\n",
        "\n",
        "AUC_train.append(lr_5.score(X5, y_train))\n",
        "AUC_test.append(lr_5.score(Xtest5, y_test))"
      ],
      "metadata": {
        "colab": {
          "base_uri": "https://localhost:8080/"
        },
        "id": "UFhDWb1PJP-B",
        "outputId": "90120238-90d4-4427-fcf3-90db96abf442"
      },
      "execution_count": null,
      "outputs": [
        {
          "output_type": "stream",
          "name": "stdout",
          "text": [
            "AUC train score: 0.9999\n",
            "AUC test score: 0.9957\n"
          ]
        }
      ]
    },
    {
      "cell_type": "markdown",
      "source": [
        "### Visualizaztion"
      ],
      "metadata": {
        "id": "uXYU8dZKPjCS"
      }
    },
    {
      "cell_type": "code",
      "source": [
        "coefs5 = lr_5.coef_\n",
        "feature_names5 = vect5.get_feature_names()\n",
        "\n",
        "visualize_coefficients(coefs5, feature_names5, n_top_features=20)"
      ],
      "metadata": {
        "colab": {
          "base_uri": "https://localhost:8080/",
          "height": 380
        },
        "id": "PxSERiFSJQAW",
        "outputId": "7506e059-779c-46a9-8a41-0ed2111abc6a"
      },
      "execution_count": null,
      "outputs": [
        {
          "output_type": "stream",
          "name": "stderr",
          "text": [
            "/usr/local/lib/python3.8/dist-packages/sklearn/utils/deprecation.py:87: FutureWarning: Function get_feature_names is deprecated; get_feature_names is deprecated in 1.0 and will be removed in 1.2. Please use get_feature_names_out instead.\n",
            "  warnings.warn(msg, category=FutureWarning)\n"
          ]
        },
        {
          "output_type": "display_data",
          "data": {
            "text/plain": [
              "<Figure size 1080x360 with 1 Axes>"
            ],
            "image/png": "[encoded data removed]"
          },
          "metadata": {
            "needs_background": "light"
          }
        }
      ]
    },
    {
      "cell_type": "markdown",
      "source": [
        "## Model selection"
      ],
      "metadata": {
        "id": "I0DnWgz9NA0t"
      }
    },
    {
      "cell_type": "code",
      "source": [
        "table = pd.DataFrame(cv_score, columns=['CV score'], index=['Tokenizer 1', 'Tokenizer 2', 'Tokenizer 3', 'Tokenizer 4', 'Tokenizer 5'])\n",
        "table['Test score'] = test_score\n",
        "table['Train AUC'] = AUC_train\n",
        "table['Test AUC'] = AUC_test\n",
        "table"
      ],
      "metadata": {
        "colab": {
          "base_uri": "https://localhost:8080/",
          "height": 206
        },
        "id": "QCk2VseIJQFT",
        "outputId": "e115e361-0f23-450c-e71c-daed0381e5eb"
      },
      "execution_count": null,
      "outputs": [
        {
          "output_type": "execute_result",
          "data": {
            "text/plain": [
              "             CV score  Test score  Train AUC  Test AUC\n",
              "Tokenizer 1  0.968507    0.970376   0.999939  0.995608\n",
              "Tokenizer 2  0.965624    0.965252   0.999283  0.994691\n",
              "Tokenizer 3  0.945287    0.944436   0.998820  0.988365\n",
              "Tokenizer 4  0.969948    0.970536   0.999790  0.995556\n",
              "Tokenizer 5  0.972990    0.970536   0.999946  0.995662"
            ],
            "text/html": [
              "\n",
              "  <div id=\"df-6e22f37b-bbfd-413a-89ee-981575cdcd59\">\n",
              "    <div class=\"colab-df-container\">\n",
              "      <div>\n",
              "<style scoped>\n",
              "    .dataframe tbody tr th:only-of-type {\n",
              "        vertical-align: middle;\n",
              "    }\n",
              "\n",
              "    .dataframe tbody tr th {\n",
              "        vertical-align: top;\n",
              "    }\n",
              "\n",
              "    .dataframe thead th {\n",
              "        text-align: right;\n",
              "    }\n",
              "</style>\n",
              "<table border=\"1\" class=\"dataframe\">\n",
              "  <thead>\n",
              "    <tr style=\"text-align: right;\">\n",
              "      <th></th>\n",
              "      <th>CV score</th>\n",
              "      <th>Test score</th>\n",
              "      <th>Train AUC</th>\n",
              "      <th>Test AUC</th>\n",
              "    </tr>\n",
              "  </thead>\n",
              "  <tbody>\n",
              "    <tr>\n",
              "      <th>Tokenizer 1</th>\n",
              "      <td>0.968507</td>\n",
              "      <td>0.970376</td>\n",
              "      <td>0.999939</td>\n",
              "      <td>0.995608</td>\n",
              "    </tr>\n",
              "    <tr>\n",
              "      <th>Tokenizer 2</th>\n",
              "      <td>0.965624</td>\n",
              "      <td>0.965252</td>\n",
              "      <td>0.999283</td>\n",
              "      <td>0.994691</td>\n",
              "    </tr>\n",
              "    <tr>\n",
              "      <th>Tokenizer 3</th>\n",
              "      <td>0.945287</td>\n",
              "      <td>0.944436</td>\n",
              "      <td>0.998820</td>\n",
              "      <td>0.988365</td>\n",
              "    </tr>\n",
              "    <tr>\n",
              "      <th>Tokenizer 4</th>\n",
              "      <td>0.969948</td>\n",
              "      <td>0.970536</td>\n",
              "      <td>0.999790</td>\n",
              "      <td>0.995556</td>\n",
              "    </tr>\n",
              "    <tr>\n",
              "      <th>Tokenizer 5</th>\n",
              "      <td>0.972990</td>\n",
              "      <td>0.970536</td>\n",
              "      <td>0.999946</td>\n",
              "      <td>0.995662</td>\n",
              "    </tr>\n",
              "  </tbody>\n",
              "</table>\n",
              "</div>\n",
              "      <button class=\"colab-df-convert\" onclick=\"convertToInteractive('df-6e22f37b-bbfd-413a-89ee-981575cdcd59')\"\n",
              "              title=\"Convert this dataframe to an interactive table.\"\n",
              "              style=\"display:none;\">\n",
              "        \n",
              "  <svg xmlns=\"http://www.w3.org/2000/svg\" height=\"24px\"viewBox=\"0 0 24 24\"\n",
              "       width=\"24px\">\n",
              "    <path d=\"M0 0h24v24H0V0z\" fill=\"none\"/>\n",
              "    <path d=\"M18.56 5.44l.94 2.06.94-2.06 2.06-.94-2.06-.94-.94-2.06-.94 2.06-2.06.94zm-11 1L8.5 8.5l.94-2.06 2.06-.94-2.06-.94L8.5 2.5l-.94 2.06-2.06.94zm10 10l.94 2.06.94-2.06 2.06-.94-2.06-.94-.94-2.06-.94 2.06-2.06.94z\"/><path d=\"M17.41 7.96l-1.37-1.37c-.4-.4-.92-.59-1.43-.59-.52 0-1.04.2-1.43.59L10.3 9.45l-7.72 7.72c-.78.78-.78 2.05 0 2.83L4 21.41c.39.39.9.59 1.41.59.51 0 1.02-.2 1.41-.59l7.78-7.78 2.81-2.81c.8-.78.8-2.07 0-2.86zM5.41 20L4 18.59l7.72-7.72 1.47 1.35L5.41 20z\"/>\n",
              "  </svg>\n",
              "      </button>\n",
              "      \n",
              "  <style>\n",
              "    .colab-df-container {\n",
              "      display:flex;\n",
              "      flex-wrap:wrap;\n",
              "      gap: 12px;\n",
              "    }\n",
              "\n",
              "    .colab-df-convert {\n",
              "      background-color: #E8F0FE;\n",
              "      border: none;\n",
              "      border-radius: 50%;\n",
              "      cursor: pointer;\n",
              "      display: none;\n",
              "      fill: #1967D2;\n",
              "      height: 32px;\n",
              "      padding: 0 0 0 0;\n",
              "      width: 32px;\n",
              "    }\n",
              "\n",
              "    .colab-df-convert:hover {\n",
              "      background-color: #E2EBFA;\n",
              "      box-shadow: 0px 1px 2px rgba(60, 64, 67, 0.3), 0px 1px 3px 1px rgba(60, 64, 67, 0.15);\n",
              "      fill: #174EA6;\n",
              "    }\n",
              "\n",
              "    [theme=dark] .colab-df-convert {\n",
              "      background-color: #3B4455;\n",
              "      fill: #D2E3FC;\n",
              "    }\n",
              "\n",
              "    [theme=dark] .colab-df-convert:hover {\n",
              "      background-color: #434B5C;\n",
              "      box-shadow: 0px 1px 3px 1px rgba(0, 0, 0, 0.15);\n",
              "      filter: drop-shadow(0px 1px 2px rgba(0, 0, 0, 0.3));\n",
              "      fill: #FFFFFF;\n",
              "    }\n",
              "  </style>\n",
              "\n",
              "      <script>\n",
              "        const buttonEl =\n",
              "          document.querySelector('#df-6e22f37b-bbfd-413a-89ee-981575cdcd59 button.colab-df-convert');\n",
              "        buttonEl.style.display =\n",
              "          google.colab.kernel.accessAllowed ? 'block' : 'none';\n",
              "\n",
              "        async function convertToInteractive(key) {\n",
              "          const element = document.querySelector('#df-6e22f37b-bbfd-413a-89ee-981575cdcd59');\n",
              "          const dataTable =\n",
              "            await google.colab.kernel.invokeFunction('convertToInteractive',\n",
              "                                                     [key], {});\n",
              "          if (!dataTable) return;\n",
              "\n",
              "          const docLinkHtml = 'Like what you see? Visit the ' +\n",
              "            '<a target=\"_blank\" href=https://colab.research.google.com/notebooks/data_table.ipynb>data table notebook</a>'\n",
              "            + ' to learn more about interactive tables.';\n",
              "          element.innerHTML = '';\n",
              "          dataTable['output_type'] = 'display_data';\n",
              "          await google.colab.output.renderOutput(dataTable, element);\n",
              "          const docLink = document.createElement('div');\n",
              "          docLink.innerHTML = docLinkHtml;\n",
              "          element.appendChild(docLink);\n",
              "        }\n",
              "      </script>\n",
              "    </div>\n",
              "  </div>\n",
              "  "
            ]
          },
          "metadata": {},
          "execution_count": 83
        }
      ]
    },
    {
      "cell_type": "markdown",
      "source": [
        "The logistic regression model using tokenizer 5, which uses up to 3-grams in at least 5 documents has the highest CV scores and AUC metrics for both train and test data, so I would choose this model. However, actually all models have quite good prediction performance and perhaps the third model deleting stop-words makes more sense in understanding the situation although its scores are lower."
      ],
      "metadata": {
        "id": "1Bz0AEOJQyFK"
      }
    },
    {
      "cell_type": "markdown",
      "source": [
        "# Part B: Build a predictive neural network using Keras"
      ],
      "metadata": {
        "id": "DzehwjCTrHfy"
      }
    },
    {
      "cell_type": "markdown",
      "source": [
        "Train test split the iris dataset and then run a multilayer perceptron (feed forward neural network) with two hidden layers on the iris dataset using the keras Sequential interface.\n",
        "\n",
        "Data can be imported via the following link:\n",
        "\n",
        "http://vincentarelbundock.github.io/Rdatasets/csv/datasets/iris.csv\n",
        "\n",
        "fit two models with different numbers of hidden layers and or hidden neurons and evaluate each on a test-set.  Describe the differences in the predictive accuracy of models with different numbers of hidden units/neurons.  Describe the predictive strength of your best model.  Be sure to explain your choice and evaluate this model using the test set."
      ],
      "metadata": {
        "id": "DUK8NydJrJNA"
      }
    },
    {
      "cell_type": "markdown",
      "source": [
        "## Import Iris data"
      ],
      "metadata": {
        "id": "odmADRSM_ppi"
      }
    },
    {
      "cell_type": "code",
      "source": [
        "# Import libraries\n",
        "import tensorflow.keras as keras\n",
        "from tensorflow.keras.models import Sequential\n",
        "from tensorflow.keras.layers import Dense, Dropout, Activation\n",
        "from tensorflow.keras.optimizers import SGD"
      ],
      "metadata": {
        "id": "0exrJF0csDMR"
      },
      "execution_count": null,
      "outputs": []
    },
    {
      "cell_type": "code",
      "source": [
        "# Import data\n",
        "import pandas as pd\n",
        "\n",
        "data = pd.read_csv(\"http://vincentarelbundock.github.io/Rdatasets/csv/datasets/iris.csv\")\n",
        "\n",
        "data = data.iloc[:,1:]\n",
        "y = data['Species']\n",
        "X = data.loc[:, data.columns != 'Species']\n",
        "\n",
        "display(pd.get_dummies(y))\n",
        "display(data.head())\n",
        "display(X.head())\n",
        "display(y[0::10])"
      ],
      "metadata": {
        "id": "ND6h2i2hrL-N",
        "colab": {
          "base_uri": "https://localhost:8080/",
          "height": 1000
        },
        "outputId": "0b73499f-71df-445a-ab25-b7db08848f8a"
      },
      "execution_count": null,
      "outputs": [
        {
          "output_type": "display_data",
          "data": {
            "text/plain": [
              "     setosa  versicolor  virginica\n",
              "0         1           0          0\n",
              "1         1           0          0\n",
              "2         1           0          0\n",
              "3         1           0          0\n",
              "4         1           0          0\n",
              "..      ...         ...        ...\n",
              "145       0           0          1\n",
              "146       0           0          1\n",
              "147       0           0          1\n",
              "148       0           0          1\n",
              "149       0           0          1\n",
              "\n",
              "[150 rows x 3 columns]"
            ],
            "text/html": [
              "\n",
              "  <div id=\"df-84476a47-adb3-4710-aac8-d35010c0e0b8\">\n",
              "    <div class=\"colab-df-container\">\n",
              "      <div>\n",
              "<style scoped>\n",
              "    .dataframe tbody tr th:only-of-type {\n",
              "        vertical-align: middle;\n",
              "    }\n",
              "\n",
              "    .dataframe tbody tr th {\n",
              "        vertical-align: top;\n",
              "    }\n",
              "\n",
              "    .dataframe thead th {\n",
              "        text-align: right;\n",
              "    }\n",
              "</style>\n",
              "<table border=\"1\" class=\"dataframe\">\n",
              "  <thead>\n",
              "    <tr style=\"text-align: right;\">\n",
              "      <th></th>\n",
              "      <th>setosa</th>\n",
              "      <th>versicolor</th>\n",
              "      <th>virginica</th>\n",
              "    </tr>\n",
              "  </thead>\n",
              "  <tbody>\n",
              "    <tr>\n",
              "      <th>0</th>\n",
              "      <td>1</td>\n",
              "      <td>0</td>\n",
              "      <td>0</td>\n",
              "    </tr>\n",
              "    <tr>\n",
              "      <th>1</th>\n",
              "      <td>1</td>\n",
              "      <td>0</td>\n",
              "      <td>0</td>\n",
              "    </tr>\n",
              "    <tr>\n",
              "      <th>2</th>\n",
              "      <td>1</td>\n",
              "      <td>0</td>\n",
              "      <td>0</td>\n",
              "    </tr>\n",
              "    <tr>\n",
              "      <th>3</th>\n",
              "      <td>1</td>\n",
              "      <td>0</td>\n",
              "      <td>0</td>\n",
              "    </tr>\n",
              "    <tr>\n",
              "      <th>4</th>\n",
              "      <td>1</td>\n",
              "      <td>0</td>\n",
              "      <td>0</td>\n",
              "    </tr>\n",
              "    <tr>\n",
              "      <th>...</th>\n",
              "      <td>...</td>\n",
              "      <td>...</td>\n",
              "      <td>...</td>\n",
              "    </tr>\n",
              "    <tr>\n",
              "      <th>145</th>\n",
              "      <td>0</td>\n",
              "      <td>0</td>\n",
              "      <td>1</td>\n",
              "    </tr>\n",
              "    <tr>\n",
              "      <th>146</th>\n",
              "      <td>0</td>\n",
              "      <td>0</td>\n",
              "      <td>1</td>\n",
              "    </tr>\n",
              "    <tr>\n",
              "      <th>147</th>\n",
              "      <td>0</td>\n",
              "      <td>0</td>\n",
              "      <td>1</td>\n",
              "    </tr>\n",
              "    <tr>\n",
              "      <th>148</th>\n",
              "      <td>0</td>\n",
              "      <td>0</td>\n",
              "      <td>1</td>\n",
              "    </tr>\n",
              "    <tr>\n",
              "      <th>149</th>\n",
              "      <td>0</td>\n",
              "      <td>0</td>\n",
              "      <td>1</td>\n",
              "    </tr>\n",
              "  </tbody>\n",
              "</table>\n",
              "<p>150 rows × 3 columns</p>\n",
              "</div>\n",
              "      <button class=\"colab-df-convert\" onclick=\"convertToInteractive('df-84476a47-adb3-4710-aac8-d35010c0e0b8')\"\n",
              "              title=\"Convert this dataframe to an interactive table.\"\n",
              "              style=\"display:none;\">\n",
              "        \n",
              "  <svg xmlns=\"http://www.w3.org/2000/svg\" height=\"24px\"viewBox=\"0 0 24 24\"\n",
              "       width=\"24px\">\n",
              "    <path d=\"M0 0h24v24H0V0z\" fill=\"none\"/>\n",
              "    <path d=\"M18.56 5.44l.94 2.06.94-2.06 2.06-.94-2.06-.94-.94-2.06-.94 2.06-2.06.94zm-11 1L8.5 8.5l.94-2.06 2.06-.94-2.06-.94L8.5 2.5l-.94 2.06-2.06.94zm10 10l.94 2.06.94-2.06 2.06-.94-2.06-.94-.94-2.06-.94 2.06-2.06.94z\"/><path d=\"M17.41 7.96l-1.37-1.37c-.4-.4-.92-.59-1.43-.59-.52 0-1.04.2-1.43.59L10.3 9.45l-7.72 7.72c-.78.78-.78 2.05 0 2.83L4 21.41c.39.39.9.59 1.41.59.51 0 1.02-.2 1.41-.59l7.78-7.78 2.81-2.81c.8-.78.8-2.07 0-2.86zM5.41 20L4 18.59l7.72-7.72 1.47 1.35L5.41 20z\"/>\n",
              "  </svg>\n",
              "      </button>\n",
              "      \n",
              "  <style>\n",
              "    .colab-df-container {\n",
              "      display:flex;\n",
              "      flex-wrap:wrap;\n",
              "      gap: 12px;\n",
              "    }\n",
              "\n",
              "    .colab-df-convert {\n",
              "      background-color: #E8F0FE;\n",
              "      border: none;\n",
              "      border-radius: 50%;\n",
              "      cursor: pointer;\n",
              "      display: none;\n",
              "      fill: #1967D2;\n",
              "      height: 32px;\n",
              "      padding: 0 0 0 0;\n",
              "      width: 32px;\n",
              "    }\n",
              "\n",
              "    .colab-df-convert:hover {\n",
              "      background-color: #E2EBFA;\n",
              "      box-shadow: 0px 1px 2px rgba(60, 64, 67, 0.3), 0px 1px 3px 1px rgba(60, 64, 67, 0.15);\n",
              "      fill: #174EA6;\n",
              "    }\n",
              "\n",
              "    [theme=dark] .colab-df-convert {\n",
              "      background-color: #3B4455;\n",
              "      fill: #D2E3FC;\n",
              "    }\n",
              "\n",
              "    [theme=dark] .colab-df-convert:hover {\n",
              "      background-color: #434B5C;\n",
              "      box-shadow: 0px 1px 3px 1px rgba(0, 0, 0, 0.15);\n",
              "      filter: drop-shadow(0px 1px 2px rgba(0, 0, 0, 0.3));\n",
              "      fill: #FFFFFF;\n",
              "    }\n",
              "  </style>\n",
              "\n",
              "      <script>\n",
              "        const buttonEl =\n",
              "          document.querySelector('#df-84476a47-adb3-4710-aac8-d35010c0e0b8 button.colab-df-convert');\n",
              "        buttonEl.style.display =\n",
              "          google.colab.kernel.accessAllowed ? 'block' : 'none';\n",
              "\n",
              "        async function convertToInteractive(key) {\n",
              "          const element = document.querySelector('#df-84476a47-adb3-4710-aac8-d35010c0e0b8');\n",
              "          const dataTable =\n",
              "            await google.colab.kernel.invokeFunction('convertToInteractive',\n",
              "                                                     [key], {});\n",
              "          if (!dataTable) return;\n",
              "\n",
              "          const docLinkHtml = 'Like what you see? Visit the ' +\n",
              "            '<a target=\"_blank\" href=https://colab.research.google.com/notebooks/data_table.ipynb>data table notebook</a>'\n",
              "            + ' to learn more about interactive tables.';\n",
              "          element.innerHTML = '';\n",
              "          dataTable['output_type'] = 'display_data';\n",
              "          await google.colab.output.renderOutput(dataTable, element);\n",
              "          const docLink = document.createElement('div');\n",
              "          docLink.innerHTML = docLinkHtml;\n",
              "          element.appendChild(docLink);\n",
              "        }\n",
              "      </script>\n",
              "    </div>\n",
              "  </div>\n",
              "  "
            ]
          },
          "metadata": {}
        },
        {
          "output_type": "display_data",
          "data": {
            "text/plain": [
              "   Sepal.Length  Sepal.Width  Petal.Length  Petal.Width Species\n",
              "0           5.1          3.5           1.4          0.2  setosa\n",
              "1           4.9          3.0           1.4          0.2  setosa\n",
              "2           4.7          3.2           1.3          0.2  setosa\n",
              "3           4.6          3.1           1.5          0.2  setosa\n",
              "4           5.0          3.6           1.4          0.2  setosa"
            ],
            "text/html": [
              "\n",
              "  <div id=\"df-6f6cf66b-99f5-4b48-a098-7d700ceb638c\">\n",
              "    <div class=\"colab-df-container\">\n",
              "      <div>\n",
              "<style scoped>\n",
              "    .dataframe tbody tr th:only-of-type {\n",
              "        vertical-align: middle;\n",
              "    }\n",
              "\n",
              "    .dataframe tbody tr th {\n",
              "        vertical-align: top;\n",
              "    }\n",
              "\n",
              "    .dataframe thead th {\n",
              "        text-align: right;\n",
              "    }\n",
              "</style>\n",
              "<table border=\"1\" class=\"dataframe\">\n",
              "  <thead>\n",
              "    <tr style=\"text-align: right;\">\n",
              "      <th></th>\n",
              "      <th>Sepal.Length</th>\n",
              "      <th>Sepal.Width</th>\n",
              "      <th>Petal.Length</th>\n",
              "      <th>Petal.Width</th>\n",
              "      <th>Species</th>\n",
              "    </tr>\n",
              "  </thead>\n",
              "  <tbody>\n",
              "    <tr>\n",
              "      <th>0</th>\n",
              "      <td>5.1</td>\n",
              "      <td>3.5</td>\n",
              "      <td>1.4</td>\n",
              "      <td>0.2</td>\n",
              "      <td>setosa</td>\n",
              "    </tr>\n",
              "    <tr>\n",
              "      <th>1</th>\n",
              "      <td>4.9</td>\n",
              "      <td>3.0</td>\n",
              "      <td>1.4</td>\n",
              "      <td>0.2</td>\n",
              "      <td>setosa</td>\n",
              "    </tr>\n",
              "    <tr>\n",
              "      <th>2</th>\n",
              "      <td>4.7</td>\n",
              "      <td>3.2</td>\n",
              "      <td>1.3</td>\n",
              "      <td>0.2</td>\n",
              "      <td>setosa</td>\n",
              "    </tr>\n",
              "    <tr>\n",
              "      <th>3</th>\n",
              "      <td>4.6</td>\n",
              "      <td>3.1</td>\n",
              "      <td>1.5</td>\n",
              "      <td>0.2</td>\n",
              "      <td>setosa</td>\n",
              "    </tr>\n",
              "    <tr>\n",
              "      <th>4</th>\n",
              "      <td>5.0</td>\n",
              "      <td>3.6</td>\n",
              "      <td>1.4</td>\n",
              "      <td>0.2</td>\n",
              "      <td>setosa</td>\n",
              "    </tr>\n",
              "  </tbody>\n",
              "</table>\n",
              "</div>\n",
              "      <button class=\"colab-df-convert\" onclick=\"convertToInteractive('df-6f6cf66b-99f5-4b48-a098-7d700ceb638c')\"\n",
              "              title=\"Convert this dataframe to an interactive table.\"\n",
              "              style=\"display:none;\">\n",
              "        \n",
              "  <svg xmlns=\"http://www.w3.org/2000/svg\" height=\"24px\"viewBox=\"0 0 24 24\"\n",
              "       width=\"24px\">\n",
              "    <path d=\"M0 0h24v24H0V0z\" fill=\"none\"/>\n",
              "    <path d=\"M18.56 5.44l.94 2.06.94-2.06 2.06-.94-2.06-.94-.94-2.06-.94 2.06-2.06.94zm-11 1L8.5 8.5l.94-2.06 2.06-.94-2.06-.94L8.5 2.5l-.94 2.06-2.06.94zm10 10l.94 2.06.94-2.06 2.06-.94-2.06-.94-.94-2.06-.94 2.06-2.06.94z\"/><path d=\"M17.41 7.96l-1.37-1.37c-.4-.4-.92-.59-1.43-.59-.52 0-1.04.2-1.43.59L10.3 9.45l-7.72 7.72c-.78.78-.78 2.05 0 2.83L4 21.41c.39.39.9.59 1.41.59.51 0 1.02-.2 1.41-.59l7.78-7.78 2.81-2.81c.8-.78.8-2.07 0-2.86zM5.41 20L4 18.59l7.72-7.72 1.47 1.35L5.41 20z\"/>\n",
              "  </svg>\n",
              "      </button>\n",
              "      \n",
              "  <style>\n",
              "    .colab-df-container {\n",
              "      display:flex;\n",
              "      flex-wrap:wrap;\n",
              "      gap: 12px;\n",
              "    }\n",
              "\n",
              "    .colab-df-convert {\n",
              "      background-color: #E8F0FE;\n",
              "      border: none;\n",
              "      border-radius: 50%;\n",
              "      cursor: pointer;\n",
              "      display: none;\n",
              "      fill: #1967D2;\n",
              "      height: 32px;\n",
              "      padding: 0 0 0 0;\n",
              "      width: 32px;\n",
              "    }\n",
              "\n",
              "    .colab-df-convert:hover {\n",
              "      background-color: #E2EBFA;\n",
              "      box-shadow: 0px 1px 2px rgba(60, 64, 67, 0.3), 0px 1px 3px 1px rgba(60, 64, 67, 0.15);\n",
              "      fill: #174EA6;\n",
              "    }\n",
              "\n",
              "    [theme=dark] .colab-df-convert {\n",
              "      background-color: #3B4455;\n",
              "      fill: #D2E3FC;\n",
              "    }\n",
              "\n",
              "    [theme=dark] .colab-df-convert:hover {\n",
              "      background-color: #434B5C;\n",
              "      box-shadow: 0px 1px 3px 1px rgba(0, 0, 0, 0.15);\n",
              "      filter: drop-shadow(0px 1px 2px rgba(0, 0, 0, 0.3));\n",
              "      fill: #FFFFFF;\n",
              "    }\n",
              "  </style>\n",
              "\n",
              "      <script>\n",
              "        const buttonEl =\n",
              "          document.querySelector('#df-6f6cf66b-99f5-4b48-a098-7d700ceb638c button.colab-df-convert');\n",
              "        buttonEl.style.display =\n",
              "          google.colab.kernel.accessAllowed ? 'block' : 'none';\n",
              "\n",
              "        async function convertToInteractive(key) {\n",
              "          const element = document.querySelector('#df-6f6cf66b-99f5-4b48-a098-7d700ceb638c');\n",
              "          const dataTable =\n",
              "            await google.colab.kernel.invokeFunction('convertToInteractive',\n",
              "                                                     [key], {});\n",
              "          if (!dataTable) return;\n",
              "\n",
              "          const docLinkHtml = 'Like what you see? Visit the ' +\n",
              "            '<a target=\"_blank\" href=https://colab.research.google.com/notebooks/data_table.ipynb>data table notebook</a>'\n",
              "            + ' to learn more about interactive tables.';\n",
              "          element.innerHTML = '';\n",
              "          dataTable['output_type'] = 'display_data';\n",
              "          await google.colab.output.renderOutput(dataTable, element);\n",
              "          const docLink = document.createElement('div');\n",
              "          docLink.innerHTML = docLinkHtml;\n",
              "          element.appendChild(docLink);\n",
              "        }\n",
              "      </script>\n",
              "    </div>\n",
              "  </div>\n",
              "  "
            ]
          },
          "metadata": {}
        },
        {
          "output_type": "display_data",
          "data": {
            "text/plain": [
              "   Sepal.Length  Sepal.Width  Petal.Length  Petal.Width\n",
              "0           5.1          3.5           1.4          0.2\n",
              "1           4.9          3.0           1.4          0.2\n",
              "2           4.7          3.2           1.3          0.2\n",
              "3           4.6          3.1           1.5          0.2\n",
              "4           5.0          3.6           1.4          0.2"
            ],
            "text/html": [
              "\n",
              "  <div id=\"df-3ab21b2b-ced1-4cc6-91b5-72e111ce374b\">\n",
              "    <div class=\"colab-df-container\">\n",
              "      <div>\n",
              "<style scoped>\n",
              "    .dataframe tbody tr th:only-of-type {\n",
              "        vertical-align: middle;\n",
              "    }\n",
              "\n",
              "    .dataframe tbody tr th {\n",
              "        vertical-align: top;\n",
              "    }\n",
              "\n",
              "    .dataframe thead th {\n",
              "        text-align: right;\n",
              "    }\n",
              "</style>\n",
              "<table border=\"1\" class=\"dataframe\">\n",
              "  <thead>\n",
              "    <tr style=\"text-align: right;\">\n",
              "      <th></th>\n",
              "      <th>Sepal.Length</th>\n",
              "      <th>Sepal.Width</th>\n",
              "      <th>Petal.Length</th>\n",
              "      <th>Petal.Width</th>\n",
              "    </tr>\n",
              "  </thead>\n",
              "  <tbody>\n",
              "    <tr>\n",
              "      <th>0</th>\n",
              "      <td>5.1</td>\n",
              "      <td>3.5</td>\n",
              "      <td>1.4</td>\n",
              "      <td>0.2</td>\n",
              "    </tr>\n",
              "    <tr>\n",
              "      <th>1</th>\n",
              "      <td>4.9</td>\n",
              "      <td>3.0</td>\n",
              "      <td>1.4</td>\n",
              "      <td>0.2</td>\n",
              "    </tr>\n",
              "    <tr>\n",
              "      <th>2</th>\n",
              "      <td>4.7</td>\n",
              "      <td>3.2</td>\n",
              "      <td>1.3</td>\n",
              "      <td>0.2</td>\n",
              "    </tr>\n",
              "    <tr>\n",
              "      <th>3</th>\n",
              "      <td>4.6</td>\n",
              "      <td>3.1</td>\n",
              "      <td>1.5</td>\n",
              "      <td>0.2</td>\n",
              "    </tr>\n",
              "    <tr>\n",
              "      <th>4</th>\n",
              "      <td>5.0</td>\n",
              "      <td>3.6</td>\n",
              "      <td>1.4</td>\n",
              "      <td>0.2</td>\n",
              "    </tr>\n",
              "  </tbody>\n",
              "</table>\n",
              "</div>\n",
              "      <button class=\"colab-df-convert\" onclick=\"convertToInteractive('df-3ab21b2b-ced1-4cc6-91b5-72e111ce374b')\"\n",
              "              title=\"Convert this dataframe to an interactive table.\"\n",
              "              style=\"display:none;\">\n",
              "        \n",
              "  <svg xmlns=\"http://www.w3.org/2000/svg\" height=\"24px\"viewBox=\"0 0 24 24\"\n",
              "       width=\"24px\">\n",
              "    <path d=\"M0 0h24v24H0V0z\" fill=\"none\"/>\n",
              "    <path d=\"M18.56 5.44l.94 2.06.94-2.06 2.06-.94-2.06-.94-.94-2.06-.94 2.06-2.06.94zm-11 1L8.5 8.5l.94-2.06 2.06-.94-2.06-.94L8.5 2.5l-.94 2.06-2.06.94zm10 10l.94 2.06.94-2.06 2.06-.94-2.06-.94-.94-2.06-.94 2.06-2.06.94z\"/><path d=\"M17.41 7.96l-1.37-1.37c-.4-.4-.92-.59-1.43-.59-.52 0-1.04.2-1.43.59L10.3 9.45l-7.72 7.72c-.78.78-.78 2.05 0 2.83L4 21.41c.39.39.9.59 1.41.59.51 0 1.02-.2 1.41-.59l7.78-7.78 2.81-2.81c.8-.78.8-2.07 0-2.86zM5.41 20L4 18.59l7.72-7.72 1.47 1.35L5.41 20z\"/>\n",
              "  </svg>\n",
              "      </button>\n",
              "      \n",
              "  <style>\n",
              "    .colab-df-container {\n",
              "      display:flex;\n",
              "      flex-wrap:wrap;\n",
              "      gap: 12px;\n",
              "    }\n",
              "\n",
              "    .colab-df-convert {\n",
              "      background-color: #E8F0FE;\n",
              "      border: none;\n",
              "      border-radius: 50%;\n",
              "      cursor: pointer;\n",
              "      display: none;\n",
              "      fill: #1967D2;\n",
              "      height: 32px;\n",
              "      padding: 0 0 0 0;\n",
              "      width: 32px;\n",
              "    }\n",
              "\n",
              "    .colab-df-convert:hover {\n",
              "      background-color: #E2EBFA;\n",
              "      box-shadow: 0px 1px 2px rgba(60, 64, 67, 0.3), 0px 1px 3px 1px rgba(60, 64, 67, 0.15);\n",
              "      fill: #174EA6;\n",
              "    }\n",
              "\n",
              "    [theme=dark] .colab-df-convert {\n",
              "      background-color: #3B4455;\n",
              "      fill: #D2E3FC;\n",
              "    }\n",
              "\n",
              "    [theme=dark] .colab-df-convert:hover {\n",
              "      background-color: #434B5C;\n",
              "      box-shadow: 0px 1px 3px 1px rgba(0, 0, 0, 0.15);\n",
              "      filter: drop-shadow(0px 1px 2px rgba(0, 0, 0, 0.3));\n",
              "      fill: #FFFFFF;\n",
              "    }\n",
              "  </style>\n",
              "\n",
              "      <script>\n",
              "        const buttonEl =\n",
              "          document.querySelector('#df-3ab21b2b-ced1-4cc6-91b5-72e111ce374b button.colab-df-convert');\n",
              "        buttonEl.style.display =\n",
              "          google.colab.kernel.accessAllowed ? 'block' : 'none';\n",
              "\n",
              "        async function convertToInteractive(key) {\n",
              "          const element = document.querySelector('#df-3ab21b2b-ced1-4cc6-91b5-72e111ce374b');\n",
              "          const dataTable =\n",
              "            await google.colab.kernel.invokeFunction('convertToInteractive',\n",
              "                                                     [key], {});\n",
              "          if (!dataTable) return;\n",
              "\n",
              "          const docLinkHtml = 'Like what you see? Visit the ' +\n",
              "            '<a target=\"_blank\" href=https://colab.research.google.com/notebooks/data_table.ipynb>data table notebook</a>'\n",
              "            + ' to learn more about interactive tables.';\n",
              "          element.innerHTML = '';\n",
              "          dataTable['output_type'] = 'display_data';\n",
              "          await google.colab.output.renderOutput(dataTable, element);\n",
              "          const docLink = document.createElement('div');\n",
              "          docLink.innerHTML = docLinkHtml;\n",
              "          element.appendChild(docLink);\n",
              "        }\n",
              "      </script>\n",
              "    </div>\n",
              "  </div>\n",
              "  "
            ]
          },
          "metadata": {}
        },
        {
          "output_type": "display_data",
          "data": {
            "text/plain": [
              "0          setosa\n",
              "10         setosa\n",
              "20         setosa\n",
              "30         setosa\n",
              "40         setosa\n",
              "50     versicolor\n",
              "60     versicolor\n",
              "70     versicolor\n",
              "80     versicolor\n",
              "90     versicolor\n",
              "100     virginica\n",
              "110     virginica\n",
              "120     virginica\n",
              "130     virginica\n",
              "140     virginica\n",
              "Name: Species, dtype: object"
            ]
          },
          "metadata": {}
        }
      ]
    },
    {
      "cell_type": "code",
      "source": [
        "# Train test split\n",
        "from sklearn.model_selection import train_test_split\n",
        "\n",
        "X_train, X_test, y_train, y_test = train_test_split(X, pd.get_dummies(y), stratify=pd.get_dummies(y), random_state=73)"
      ],
      "metadata": {
        "id": "UL6InPcAAgW_"
      },
      "execution_count": null,
      "outputs": []
    },
    {
      "cell_type": "markdown",
      "source": [
        "## Model 1: 2 hidden layers"
      ],
      "metadata": {
        "id": "a8ZbxkawDEKO"
      }
    },
    {
      "cell_type": "code",
      "source": [
        "#Build layers with Dense, followed by Activation()\n",
        "\n",
        "# two hidden layers with 32 nodes\n",
        "# Activation is set to relu\n",
        "# one output layer with 3 categories.  \n",
        "# softmax function used to calculate 0 to 1 probabilities for each of 3 categories\n",
        "\n",
        "model = Sequential([\n",
        "    Dense(32, input_dim=4),\n",
        "    Activation('relu'),\n",
        "    Dense(32),\n",
        "    Activation('relu'),\n",
        "    Dense(3),\n",
        "    Activation('softmax'),\n",
        "])\n",
        "\n",
        "model.summary()"
      ],
      "metadata": {
        "id": "1h7m8SmmrMCt",
        "colab": {
          "base_uri": "https://localhost:8080/"
        },
        "outputId": "b071726c-d4f7-472a-899a-c0271ff7cc11"
      },
      "execution_count": null,
      "outputs": [
        {
          "output_type": "stream",
          "name": "stdout",
          "text": [
            "Model: \"sequential\"\n",
            "_________________________________________________________________\n",
            " Layer (type)                Output Shape              Param #   \n",
            "=================================================================\n",
            " dense (Dense)               (None, 32)                160       \n",
            "                                                                 \n",
            " activation (Activation)     (None, 32)                0         \n",
            "                                                                 \n",
            " dense_1 (Dense)             (None, 32)                1056      \n",
            "                                                                 \n",
            " activation_1 (Activation)   (None, 32)                0         \n",
            "                                                                 \n",
            " dense_2 (Dense)             (None, 3)                 99        \n",
            "                                                                 \n",
            " activation_2 (Activation)   (None, 3)                 0         \n",
            "                                                                 \n",
            "=================================================================\n",
            "Total params: 1,315\n",
            "Trainable params: 1,315\n",
            "Non-trainable params: 0\n",
            "_________________________________________________________________\n"
          ]
        }
      ]
    },
    {
      "cell_type": "code",
      "source": [
        "# Once your model looks good, configure its learning process with .compile():\n",
        "sgd = SGD(lr=0.0001)  # define a learning rate for optimization\n",
        "\n",
        "model.compile(loss='categorical_crossentropy',\n",
        "              optimizer='sgd',\n",
        "              metrics=['accuracy'])"
      ],
      "metadata": {
        "id": "GnHuwgtaozQA",
        "colab": {
          "base_uri": "https://localhost:8080/"
        },
        "outputId": "1694dc09-d8d1-4365-d48c-3e4e4a11981a"
      },
      "execution_count": null,
      "outputs": [
        {
          "output_type": "stream",
          "name": "stderr",
          "text": [
            "/usr/local/lib/python3.8/dist-packages/keras/optimizers/optimizer_v2/gradient_descent.py:108: UserWarning: The `lr` argument is deprecated, use `learning_rate` instead.\n",
            "  super(SGD, self).__init__(name, **kwargs)\n"
          ]
        }
      ]
    },
    {
      "cell_type": "code",
      "source": [
        "# Train the model, iterating on the data in batches of 128 samples\n",
        "model.fit(X_train, y_train, validation_data=(X_test,y_test), epochs=100, batch_size=128)"
      ],
      "metadata": {
        "id": "HBLMIzmxo8At",
        "colab": {
          "base_uri": "https://localhost:8080/"
        },
        "outputId": "d5a2cfc4-12de-4630-824c-eb7d73ee8a60"
      },
      "execution_count": null,
      "outputs": [
        {
          "output_type": "stream",
          "name": "stdout",
          "text": [
            "Epoch 1/100\n",
            "1/1 [==============================] - 2s 2s/step - loss: 1.3339 - accuracy: 0.3393 - val_loss: 1.1905 - val_accuracy: 0.3158\n",
            "Epoch 2/100\n",
            "1/1 [==============================] - 0s 36ms/step - loss: 1.1844 - accuracy: 0.3393 - val_loss: 1.1044 - val_accuracy: 0.3158\n",
            "Epoch 3/100\n",
            "1/1 [==============================] - 0s 75ms/step - loss: 1.0987 - accuracy: 0.3393 - val_loss: 1.0614 - val_accuracy: 0.3158\n",
            "Epoch 4/100\n",
            "1/1 [==============================] - 0s 90ms/step - loss: 1.0553 - accuracy: 0.3750 - val_loss: 1.0394 - val_accuracy: 0.5789\n",
            "Epoch 5/100\n",
            "1/1 [==============================] - 0s 56ms/step - loss: 1.0331 - accuracy: 0.6250 - val_loss: 1.0271 - val_accuracy: 0.5789\n",
            "Epoch 6/100\n",
            "1/1 [==============================] - 0s 58ms/step - loss: 1.0206 - accuracy: 0.5625 - val_loss: 1.0190 - val_accuracy: 0.4474\n",
            "Epoch 7/100\n",
            "1/1 [==============================] - 0s 81ms/step - loss: 1.0124 - accuracy: 0.4464 - val_loss: 1.0127 - val_accuracy: 0.3421\n",
            "Epoch 8/100\n",
            "1/1 [==============================] - 0s 91ms/step - loss: 1.0060 - accuracy: 0.3839 - val_loss: 1.0072 - val_accuracy: 0.3421\n",
            "Epoch 9/100\n",
            "1/1 [==============================] - 0s 73ms/step - loss: 1.0005 - accuracy: 0.3661 - val_loss: 1.0020 - val_accuracy: 0.3421\n",
            "Epoch 10/100\n",
            "1/1 [==============================] - 0s 103ms/step - loss: 0.9954 - accuracy: 0.3482 - val_loss: 0.9971 - val_accuracy: 0.3421\n",
            "Epoch 11/100\n",
            "1/1 [==============================] - 0s 119ms/step - loss: 0.9905 - accuracy: 0.3482 - val_loss: 0.9922 - val_accuracy: 0.3421\n",
            "Epoch 12/100\n",
            "1/1 [==============================] - 0s 103ms/step - loss: 0.9859 - accuracy: 0.3482 - val_loss: 0.9875 - val_accuracy: 0.3421\n",
            "Epoch 13/100\n",
            "1/1 [==============================] - 0s 60ms/step - loss: 0.9813 - accuracy: 0.3482 - val_loss: 0.9828 - val_accuracy: 0.3421\n",
            "Epoch 14/100\n",
            "1/1 [==============================] - 0s 63ms/step - loss: 0.9768 - accuracy: 0.3482 - val_loss: 0.9782 - val_accuracy: 0.3421\n",
            "Epoch 15/100\n",
            "1/1 [==============================] - 0s 90ms/step - loss: 0.9724 - accuracy: 0.3482 - val_loss: 0.9737 - val_accuracy: 0.3421\n",
            "Epoch 16/100\n",
            "1/1 [==============================] - 0s 139ms/step - loss: 0.9681 - accuracy: 0.3482 - val_loss: 0.9692 - val_accuracy: 0.3421\n",
            "Epoch 17/100\n",
            "1/1 [==============================] - 0s 65ms/step - loss: 0.9638 - accuracy: 0.3482 - val_loss: 0.9647 - val_accuracy: 0.3421\n",
            "Epoch 18/100\n",
            "1/1 [==============================] - 0s 55ms/step - loss: 0.9596 - accuracy: 0.3482 - val_loss: 0.9603 - val_accuracy: 0.3421\n",
            "Epoch 19/100\n",
            "1/1 [==============================] - 0s 46ms/step - loss: 0.9554 - accuracy: 0.3482 - val_loss: 0.9560 - val_accuracy: 0.3421\n",
            "Epoch 20/100\n",
            "1/1 [==============================] - 0s 65ms/step - loss: 0.9513 - accuracy: 0.3571 - val_loss: 0.9517 - val_accuracy: 0.3421\n",
            "Epoch 21/100\n",
            "1/1 [==============================] - 0s 65ms/step - loss: 0.9472 - accuracy: 0.3661 - val_loss: 0.9474 - val_accuracy: 0.3421\n",
            "Epoch 22/100\n",
            "1/1 [==============================] - 0s 77ms/step - loss: 0.9432 - accuracy: 0.3661 - val_loss: 0.9432 - val_accuracy: 0.3421\n",
            "Epoch 23/100\n",
            "1/1 [==============================] - 0s 85ms/step - loss: 0.9393 - accuracy: 0.3661 - val_loss: 0.9391 - val_accuracy: 0.3421\n",
            "Epoch 24/100\n",
            "1/1 [==============================] - 0s 37ms/step - loss: 0.9354 - accuracy: 0.3661 - val_loss: 0.9350 - val_accuracy: 0.3421\n",
            "Epoch 25/100\n",
            "1/1 [==============================] - 0s 37ms/step - loss: 0.9315 - accuracy: 0.3661 - val_loss: 0.9309 - val_accuracy: 0.3421\n",
            "Epoch 26/100\n",
            "1/1 [==============================] - 0s 41ms/step - loss: 0.9276 - accuracy: 0.3661 - val_loss: 0.9268 - val_accuracy: 0.3421\n",
            "Epoch 27/100\n",
            "1/1 [==============================] - 0s 64ms/step - loss: 0.9238 - accuracy: 0.3661 - val_loss: 0.9228 - val_accuracy: 0.3421\n",
            "Epoch 28/100\n",
            "1/1 [==============================] - 0s 78ms/step - loss: 0.9200 - accuracy: 0.3661 - val_loss: 0.9188 - val_accuracy: 0.3421\n",
            "Epoch 29/100\n",
            "1/1 [==============================] - 0s 52ms/step - loss: 0.9162 - accuracy: 0.3661 - val_loss: 0.9148 - val_accuracy: 0.3421\n",
            "Epoch 30/100\n",
            "1/1 [==============================] - 0s 61ms/step - loss: 0.9123 - accuracy: 0.3661 - val_loss: 0.9107 - val_accuracy: 0.3421\n",
            "Epoch 31/100\n",
            "1/1 [==============================] - 0s 93ms/step - loss: 0.9085 - accuracy: 0.3661 - val_loss: 0.9067 - val_accuracy: 0.3421\n",
            "Epoch 32/100\n",
            "1/1 [==============================] - 0s 64ms/step - loss: 0.9047 - accuracy: 0.3661 - val_loss: 0.9027 - val_accuracy: 0.3421\n",
            "Epoch 33/100\n",
            "1/1 [==============================] - 0s 66ms/step - loss: 0.9009 - accuracy: 0.3661 - val_loss: 0.8987 - val_accuracy: 0.3421\n",
            "Epoch 34/100\n",
            "1/1 [==============================] - 0s 58ms/step - loss: 0.8971 - accuracy: 0.3661 - val_loss: 0.8947 - val_accuracy: 0.3421\n",
            "Epoch 35/100\n",
            "1/1 [==============================] - 0s 60ms/step - loss: 0.8933 - accuracy: 0.3929 - val_loss: 0.8907 - val_accuracy: 0.3947\n",
            "Epoch 36/100\n",
            "1/1 [==============================] - 0s 67ms/step - loss: 0.8895 - accuracy: 0.3929 - val_loss: 0.8867 - val_accuracy: 0.4211\n",
            "Epoch 37/100\n",
            "1/1 [==============================] - 0s 144ms/step - loss: 0.8857 - accuracy: 0.4196 - val_loss: 0.8828 - val_accuracy: 0.4737\n",
            "Epoch 38/100\n",
            "1/1 [==============================] - 0s 70ms/step - loss: 0.8819 - accuracy: 0.4643 - val_loss: 0.8788 - val_accuracy: 0.4737\n",
            "Epoch 39/100\n",
            "1/1 [==============================] - 0s 60ms/step - loss: 0.8782 - accuracy: 0.4911 - val_loss: 0.8748 - val_accuracy: 0.5000\n",
            "Epoch 40/100\n",
            "1/1 [==============================] - 0s 91ms/step - loss: 0.8744 - accuracy: 0.5446 - val_loss: 0.8709 - val_accuracy: 0.5263\n",
            "Epoch 41/100\n",
            "1/1 [==============================] - 0s 53ms/step - loss: 0.8706 - accuracy: 0.5804 - val_loss: 0.8669 - val_accuracy: 0.6316\n",
            "Epoch 42/100\n",
            "1/1 [==============================] - 0s 98ms/step - loss: 0.8669 - accuracy: 0.5893 - val_loss: 0.8630 - val_accuracy: 0.6579\n",
            "Epoch 43/100\n",
            "1/1 [==============================] - 0s 78ms/step - loss: 0.8631 - accuracy: 0.6250 - val_loss: 0.8590 - val_accuracy: 0.6842\n",
            "Epoch 44/100\n",
            "1/1 [==============================] - 0s 93ms/step - loss: 0.8594 - accuracy: 0.6607 - val_loss: 0.8551 - val_accuracy: 0.6842\n",
            "Epoch 45/100\n",
            "1/1 [==============================] - 0s 90ms/step - loss: 0.8557 - accuracy: 0.6696 - val_loss: 0.8512 - val_accuracy: 0.6842\n",
            "Epoch 46/100\n",
            "1/1 [==============================] - 0s 80ms/step - loss: 0.8519 - accuracy: 0.6786 - val_loss: 0.8473 - val_accuracy: 0.6842\n",
            "Epoch 47/100\n",
            "1/1 [==============================] - 0s 112ms/step - loss: 0.8482 - accuracy: 0.7143 - val_loss: 0.8435 - val_accuracy: 0.7105\n",
            "Epoch 48/100\n",
            "1/1 [==============================] - 0s 80ms/step - loss: 0.8445 - accuracy: 0.7232 - val_loss: 0.8396 - val_accuracy: 0.7368\n",
            "Epoch 49/100\n",
            "1/1 [==============================] - 0s 75ms/step - loss: 0.8408 - accuracy: 0.7411 - val_loss: 0.8357 - val_accuracy: 0.7368\n",
            "Epoch 50/100\n",
            "1/1 [==============================] - 0s 74ms/step - loss: 0.8371 - accuracy: 0.7500 - val_loss: 0.8319 - val_accuracy: 0.7368\n",
            "Epoch 51/100\n",
            "1/1 [==============================] - 0s 127ms/step - loss: 0.8334 - accuracy: 0.7500 - val_loss: 0.8280 - val_accuracy: 0.7368\n",
            "Epoch 52/100\n",
            "1/1 [==============================] - 0s 69ms/step - loss: 0.8298 - accuracy: 0.7500 - val_loss: 0.8242 - val_accuracy: 0.7368\n",
            "Epoch 53/100\n",
            "1/1 [==============================] - 0s 56ms/step - loss: 0.8261 - accuracy: 0.7589 - val_loss: 0.8204 - val_accuracy: 0.7368\n",
            "Epoch 54/100\n",
            "1/1 [==============================] - 0s 71ms/step - loss: 0.8225 - accuracy: 0.7589 - val_loss: 0.8166 - val_accuracy: 0.7368\n",
            "Epoch 55/100\n",
            "1/1 [==============================] - 0s 58ms/step - loss: 0.8188 - accuracy: 0.7589 - val_loss: 0.8128 - val_accuracy: 0.7632\n",
            "Epoch 56/100\n",
            "1/1 [==============================] - 0s 161ms/step - loss: 0.8152 - accuracy: 0.7589 - val_loss: 0.8090 - val_accuracy: 0.7632\n",
            "Epoch 57/100\n",
            "1/1 [==============================] - 0s 93ms/step - loss: 0.8115 - accuracy: 0.7589 - val_loss: 0.8052 - val_accuracy: 0.7895\n",
            "Epoch 58/100\n",
            "1/1 [==============================] - 0s 56ms/step - loss: 0.8079 - accuracy: 0.7589 - val_loss: 0.8014 - val_accuracy: 0.7895\n",
            "Epoch 59/100\n",
            "1/1 [==============================] - 0s 56ms/step - loss: 0.8043 - accuracy: 0.7589 - val_loss: 0.7977 - val_accuracy: 0.7895\n",
            "Epoch 60/100\n",
            "1/1 [==============================] - 0s 58ms/step - loss: 0.8006 - accuracy: 0.7679 - val_loss: 0.7939 - val_accuracy: 0.7895\n",
            "Epoch 61/100\n",
            "1/1 [==============================] - 0s 68ms/step - loss: 0.7970 - accuracy: 0.7679 - val_loss: 0.7901 - val_accuracy: 0.8158\n",
            "Epoch 62/100\n",
            "1/1 [==============================] - 0s 96ms/step - loss: 0.7934 - accuracy: 0.7679 - val_loss: 0.7863 - val_accuracy: 0.8158\n",
            "Epoch 63/100\n",
            "1/1 [==============================] - 0s 71ms/step - loss: 0.7898 - accuracy: 0.7679 - val_loss: 0.7826 - val_accuracy: 0.8421\n",
            "Epoch 64/100\n",
            "1/1 [==============================] - 0s 66ms/step - loss: 0.7862 - accuracy: 0.7679 - val_loss: 0.7788 - val_accuracy: 0.8421\n",
            "Epoch 65/100\n",
            "1/1 [==============================] - 0s 173ms/step - loss: 0.7826 - accuracy: 0.7768 - val_loss: 0.7750 - val_accuracy: 0.8421\n",
            "Epoch 66/100\n",
            "1/1 [==============================] - 0s 88ms/step - loss: 0.7790 - accuracy: 0.7768 - val_loss: 0.7713 - val_accuracy: 0.8421\n",
            "Epoch 67/100\n",
            "1/1 [==============================] - 0s 42ms/step - loss: 0.7754 - accuracy: 0.7857 - val_loss: 0.7675 - val_accuracy: 0.8421\n",
            "Epoch 68/100\n",
            "1/1 [==============================] - 0s 122ms/step - loss: 0.7718 - accuracy: 0.7946 - val_loss: 0.7638 - val_accuracy: 0.8421\n",
            "Epoch 69/100\n",
            "1/1 [==============================] - 0s 76ms/step - loss: 0.7682 - accuracy: 0.7946 - val_loss: 0.7600 - val_accuracy: 0.8421\n",
            "Epoch 70/100\n",
            "1/1 [==============================] - 0s 72ms/step - loss: 0.7646 - accuracy: 0.7946 - val_loss: 0.7563 - val_accuracy: 0.8421\n",
            "Epoch 71/100\n",
            "1/1 [==============================] - 0s 63ms/step - loss: 0.7610 - accuracy: 0.7946 - val_loss: 0.7526 - val_accuracy: 0.8421\n",
            "Epoch 72/100\n",
            "1/1 [==============================] - 0s 116ms/step - loss: 0.7574 - accuracy: 0.7946 - val_loss: 0.7488 - val_accuracy: 0.8421\n",
            "Epoch 73/100\n",
            "1/1 [==============================] - 0s 92ms/step - loss: 0.7538 - accuracy: 0.7946 - val_loss: 0.7451 - val_accuracy: 0.8421\n",
            "Epoch 74/100\n",
            "1/1 [==============================] - 0s 91ms/step - loss: 0.7503 - accuracy: 0.7946 - val_loss: 0.7414 - val_accuracy: 0.8421\n",
            "Epoch 75/100\n",
            "1/1 [==============================] - 0s 80ms/step - loss: 0.7467 - accuracy: 0.7946 - val_loss: 0.7377 - val_accuracy: 0.8421\n",
            "Epoch 76/100\n",
            "1/1 [==============================] - 0s 81ms/step - loss: 0.7431 - accuracy: 0.7946 - val_loss: 0.7340 - val_accuracy: 0.8421\n",
            "Epoch 77/100\n",
            "1/1 [==============================] - 0s 54ms/step - loss: 0.7396 - accuracy: 0.7946 - val_loss: 0.7303 - val_accuracy: 0.8421\n",
            "Epoch 78/100\n",
            "1/1 [==============================] - 0s 74ms/step - loss: 0.7360 - accuracy: 0.7946 - val_loss: 0.7266 - val_accuracy: 0.8421\n",
            "Epoch 79/100\n",
            "1/1 [==============================] - 0s 104ms/step - loss: 0.7325 - accuracy: 0.8036 - val_loss: 0.7230 - val_accuracy: 0.8421\n",
            "Epoch 80/100\n",
            "1/1 [==============================] - 0s 120ms/step - loss: 0.7289 - accuracy: 0.8036 - val_loss: 0.7193 - val_accuracy: 0.8421\n",
            "Epoch 81/100\n",
            "1/1 [==============================] - 0s 52ms/step - loss: 0.7254 - accuracy: 0.8036 - val_loss: 0.7157 - val_accuracy: 0.8421\n",
            "Epoch 82/100\n",
            "1/1 [==============================] - 0s 45ms/step - loss: 0.7219 - accuracy: 0.8125 - val_loss: 0.7120 - val_accuracy: 0.8421\n",
            "Epoch 83/100\n",
            "1/1 [==============================] - 0s 39ms/step - loss: 0.7184 - accuracy: 0.8214 - val_loss: 0.7084 - val_accuracy: 0.8684\n",
            "Epoch 84/100\n",
            "1/1 [==============================] - 0s 142ms/step - loss: 0.7149 - accuracy: 0.8214 - val_loss: 0.7048 - val_accuracy: 0.8684\n",
            "Epoch 85/100\n",
            "1/1 [==============================] - 0s 96ms/step - loss: 0.7114 - accuracy: 0.8214 - val_loss: 0.7012 - val_accuracy: 0.8684\n",
            "Epoch 86/100\n",
            "1/1 [==============================] - 0s 66ms/step - loss: 0.7079 - accuracy: 0.8214 - val_loss: 0.6976 - val_accuracy: 0.8684\n",
            "Epoch 87/100\n",
            "1/1 [==============================] - 0s 93ms/step - loss: 0.7045 - accuracy: 0.8214 - val_loss: 0.6940 - val_accuracy: 0.8684\n",
            "Epoch 88/100\n",
            "1/1 [==============================] - 0s 81ms/step - loss: 0.7010 - accuracy: 0.8214 - val_loss: 0.6904 - val_accuracy: 0.8684\n",
            "Epoch 89/100\n",
            "1/1 [==============================] - 0s 75ms/step - loss: 0.6976 - accuracy: 0.8214 - val_loss: 0.6869 - val_accuracy: 0.8684\n",
            "Epoch 90/100\n",
            "1/1 [==============================] - 0s 114ms/step - loss: 0.6941 - accuracy: 0.8214 - val_loss: 0.6834 - val_accuracy: 0.8684\n",
            "Epoch 91/100\n",
            "1/1 [==============================] - 0s 83ms/step - loss: 0.6907 - accuracy: 0.8304 - val_loss: 0.6799 - val_accuracy: 0.8684\n",
            "Epoch 92/100\n",
            "1/1 [==============================] - 0s 68ms/step - loss: 0.6873 - accuracy: 0.8304 - val_loss: 0.6763 - val_accuracy: 0.8684\n",
            "Epoch 93/100\n",
            "1/1 [==============================] - 0s 44ms/step - loss: 0.6839 - accuracy: 0.8393 - val_loss: 0.6729 - val_accuracy: 0.8684\n",
            "Epoch 94/100\n",
            "1/1 [==============================] - 0s 51ms/step - loss: 0.6805 - accuracy: 0.8393 - val_loss: 0.6694 - val_accuracy: 0.8684\n",
            "Epoch 95/100\n",
            "1/1 [==============================] - 0s 48ms/step - loss: 0.6772 - accuracy: 0.8393 - val_loss: 0.6659 - val_accuracy: 0.8684\n",
            "Epoch 96/100\n",
            "1/1 [==============================] - 0s 54ms/step - loss: 0.6738 - accuracy: 0.8393 - val_loss: 0.6625 - val_accuracy: 0.8684\n",
            "Epoch 97/100\n",
            "1/1 [==============================] - 0s 66ms/step - loss: 0.6705 - accuracy: 0.8482 - val_loss: 0.6591 - val_accuracy: 0.8684\n",
            "Epoch 98/100\n",
            "1/1 [==============================] - 0s 87ms/step - loss: 0.6672 - accuracy: 0.8482 - val_loss: 0.6557 - val_accuracy: 0.8684\n",
            "Epoch 99/100\n",
            "1/1 [==============================] - 0s 74ms/step - loss: 0.6638 - accuracy: 0.8482 - val_loss: 0.6523 - val_accuracy: 0.8684\n",
            "Epoch 100/100\n",
            "1/1 [==============================] - 0s 78ms/step - loss: 0.6606 - accuracy: 0.8482 - val_loss: 0.6489 - val_accuracy: 0.8684\n"
          ]
        },
        {
          "output_type": "execute_result",
          "data": {
            "text/plain": [
              "<keras.callbacks.History at 0x7f61aaf74910>"
            ]
          },
          "metadata": {},
          "execution_count": 6
        }
      ]
    },
    {
      "cell_type": "code",
      "source": [
        "score = model.evaluate(X_test, y_test, batch_size=128) # extract loss and accuracy from test data evaluation\n",
        "print(score)"
      ],
      "metadata": {
        "id": "SGouOJ9xo8O0",
        "colab": {
          "base_uri": "https://localhost:8080/"
        },
        "outputId": "68a996d4-3f6c-4c49-9fe4-4a76a2ac141a"
      },
      "execution_count": null,
      "outputs": [
        {
          "output_type": "stream",
          "name": "stdout",
          "text": [
            "1/1 [==============================] - 0s 22ms/step - loss: 0.6489 - accuracy: 0.8684\n",
            "[0.648918628692627, 0.8684210777282715]\n"
          ]
        }
      ]
    },
    {
      "cell_type": "code",
      "source": [
        "layers = []\n",
        "neurons = []\n",
        "test_score = []\n",
        "\n",
        "layers.append('2')\n",
        "neurons.append('32')\n",
        "test_score.append(score)"
      ],
      "metadata": {
        "id": "7D9KQUwqXLRR"
      },
      "execution_count": null,
      "outputs": []
    },
    {
      "cell_type": "code",
      "source": [
        "import numpy as np\n",
        "\n",
        "# Prediction from keras classification model\n",
        "print(X_test.shape)\n",
        "\n",
        "# for predicted probabilities\n",
        "ypreds = model.predict(X_test)\n",
        "print(ypreds) #gives prediction of each category, largest is selected for predict_classes()\n",
        "\n",
        "# for predicted label index of one hot encoded y data columns\n",
        "# Can use this to return correct label from well ordered list of labels\n",
        "# manually! sklearn does it for us automatically\n",
        "ypreds_classindex = np.argmax(model.predict(X_test), axis=-1)\n",
        "print(ypreds_classindex) "
      ],
      "metadata": {
        "id": "WyjcEaTjo8W1",
        "colab": {
          "base_uri": "https://localhost:8080/"
        },
        "outputId": "69423088-bdc6-44b7-8ff3-c092564914b2"
      },
      "execution_count": null,
      "outputs": [
        {
          "output_type": "stream",
          "name": "stdout",
          "text": [
            "(38, 4)\n",
            "2/2 [==============================] - 0s 7ms/step\n",
            "[[0.1676677  0.43332064 0.39901158]\n",
            " [0.12401573 0.36985347 0.5061308 ]\n",
            " [0.5905548  0.27547905 0.13396618]\n",
            " [0.6076416  0.26239654 0.12996182]\n",
            " [0.08871158 0.33869365 0.57259476]\n",
            " [0.5555872  0.2864698  0.15794311]\n",
            " [0.09084964 0.33283862 0.57631177]\n",
            " [0.13863216 0.43845332 0.4229146 ]\n",
            " [0.5750888  0.2803664  0.14454484]\n",
            " [0.10642365 0.4019174  0.49165908]\n",
            " [0.1390931  0.45089564 0.4100112 ]\n",
            " [0.07955321 0.34496665 0.5754801 ]\n",
            " [0.6300552  0.2453058  0.12463909]\n",
            " [0.11085299 0.4022421  0.48690498]\n",
            " [0.57954836 0.27645808 0.14399353]\n",
            " [0.57711303 0.2798853  0.14300174]\n",
            " [0.09084964 0.33283862 0.57631177]\n",
            " [0.0902886  0.36869165 0.54101974]\n",
            " [0.19345275 0.41928577 0.3872615 ]\n",
            " [0.1505362  0.42230204 0.4271618 ]\n",
            " [0.08340052 0.35456088 0.56203866]\n",
            " [0.08173978 0.32490146 0.59335876]\n",
            " [0.6589123  0.23074272 0.11034498]\n",
            " [0.09491441 0.393815   0.5112705 ]\n",
            " [0.58874553 0.2749823  0.13627215]\n",
            " [0.5803357  0.27842513 0.14123915]\n",
            " [0.17112157 0.4101131  0.41876537]\n",
            " [0.11627768 0.44049186 0.44323057]\n",
            " [0.14658685 0.45960334 0.39380968]\n",
            " [0.20372342 0.42516947 0.3711071 ]\n",
            " [0.05681264 0.36546206 0.5777254 ]\n",
            " [0.05757516 0.3437839  0.598641  ]\n",
            " [0.608511   0.26137465 0.13011435]\n",
            " [0.54769427 0.2991163  0.15318947]\n",
            " [0.08891979 0.30390254 0.6071777 ]\n",
            " [0.53157985 0.30297944 0.16544072]\n",
            " [0.16115807 0.43995962 0.39888224]\n",
            " [0.11003821 0.36358482 0.52637696]]\n",
            "2/2 [==============================] - 0s 6ms/step\n",
            "[1 2 0 0 2 0 2 1 0 2 1 2 0 2 0 0 2 2 1 2 2 2 0 2 0 0 2 2 1 1 2 2 0 0 2 0 1\n",
            " 2]\n"
          ]
        }
      ]
    },
    {
      "cell_type": "markdown",
      "source": [
        "## Model 2: 3 hidden layers"
      ],
      "metadata": {
        "id": "l4G0BzroDMo1"
      }
    },
    {
      "cell_type": "code",
      "source": [
        "#Build layers with Dense, followed by Activation()\n",
        "\n",
        "# three hidden layers with 32 nodes\n",
        "# Activation is set to relu\n",
        "# one output layer with 3 categories.  \n",
        "# softmax function used to calculate 0 to 1 probabilities for each of 3 categories\n",
        "\n",
        "model2 = Sequential([\n",
        "    Dense(32, input_dim=4),\n",
        "    Activation('relu'),\n",
        "    Dense(32),\n",
        "    Activation('relu'),\n",
        "    Dense(32),\n",
        "    Activation('relu'),\n",
        "    Dense(3),\n",
        "    Activation('softmax'),\n",
        "])\n",
        "\n",
        "model2.summary()"
      ],
      "metadata": {
        "colab": {
          "base_uri": "https://localhost:8080/"
        },
        "id": "EuJbYKP_C7lZ",
        "outputId": "a0a7e4f8-8aaf-4029-98cc-7f3fc0cbe143"
      },
      "execution_count": null,
      "outputs": [
        {
          "output_type": "stream",
          "name": "stdout",
          "text": [
            "Model: \"sequential_1\"\n",
            "_________________________________________________________________\n",
            " Layer (type)                Output Shape              Param #   \n",
            "=================================================================\n",
            " dense_3 (Dense)             (None, 32)                160       \n",
            "                                                                 \n",
            " activation_3 (Activation)   (None, 32)                0         \n",
            "                                                                 \n",
            " dense_4 (Dense)             (None, 32)                1056      \n",
            "                                                                 \n",
            " activation_4 (Activation)   (None, 32)                0         \n",
            "                                                                 \n",
            " dense_5 (Dense)             (None, 32)                1056      \n",
            "                                                                 \n",
            " activation_5 (Activation)   (None, 32)                0         \n",
            "                                                                 \n",
            " dense_6 (Dense)             (None, 3)                 99        \n",
            "                                                                 \n",
            " activation_6 (Activation)   (None, 3)                 0         \n",
            "                                                                 \n",
            "=================================================================\n",
            "Total params: 2,371\n",
            "Trainable params: 2,371\n",
            "Non-trainable params: 0\n",
            "_________________________________________________________________\n"
          ]
        }
      ]
    },
    {
      "cell_type": "code",
      "source": [
        "# Once your model looks good, configure its learning process with .compile():\n",
        "sgd = SGD(lr=0.0001)  # define a learning rate for optimization\n",
        "\n",
        "model2.compile(loss='categorical_crossentropy',\n",
        "              optimizer='sgd',\n",
        "              metrics=['accuracy'])"
      ],
      "metadata": {
        "colab": {
          "base_uri": "https://localhost:8080/"
        },
        "id": "dfijwOBLLnZf",
        "outputId": "7f5b5071-ddcb-4b84-f271-d2dc733a2493"
      },
      "execution_count": null,
      "outputs": [
        {
          "output_type": "stream",
          "name": "stderr",
          "text": [
            "/usr/local/lib/python3.8/dist-packages/keras/optimizers/optimizer_v2/gradient_descent.py:108: UserWarning: The `lr` argument is deprecated, use `learning_rate` instead.\n",
            "  super(SGD, self).__init__(name, **kwargs)\n"
          ]
        }
      ]
    },
    {
      "cell_type": "code",
      "source": [
        "# Train the model, iterating on the data in batches of 128 samples\n",
        "model2.fit(X_train, y_train, validation_data=(X_test,y_test), epochs=100, batch_size=128)"
      ],
      "metadata": {
        "colab": {
          "base_uri": "https://localhost:8080/"
        },
        "id": "PT56w8PvLr_M",
        "outputId": "62281e6a-9bec-4b9f-ca32-285ce7ed3a7b"
      },
      "execution_count": null,
      "outputs": [
        {
          "output_type": "stream",
          "name": "stdout",
          "text": [
            "Epoch 1/100\n",
            "1/1 [==============================] - 1s 657ms/step - loss: 1.1436 - accuracy: 0.3393 - val_loss: 1.1336 - val_accuracy: 0.3158\n",
            "Epoch 2/100\n",
            "1/1 [==============================] - 0s 43ms/step - loss: 1.1194 - accuracy: 0.3393 - val_loss: 1.1130 - val_accuracy: 0.3158\n",
            "Epoch 3/100\n",
            "1/1 [==============================] - 0s 45ms/step - loss: 1.1001 - accuracy: 0.3661 - val_loss: 1.0952 - val_accuracy: 0.4474\n",
            "Epoch 4/100\n",
            "1/1 [==============================] - 0s 33ms/step - loss: 1.0832 - accuracy: 0.4286 - val_loss: 1.0789 - val_accuracy: 0.5000\n",
            "Epoch 5/100\n",
            "1/1 [==============================] - 0s 36ms/step - loss: 1.0678 - accuracy: 0.5446 - val_loss: 1.0637 - val_accuracy: 0.5263\n",
            "Epoch 6/100\n",
            "1/1 [==============================] - 0s 33ms/step - loss: 1.0533 - accuracy: 0.5982 - val_loss: 1.0493 - val_accuracy: 0.5789\n",
            "Epoch 7/100\n",
            "1/1 [==============================] - 0s 46ms/step - loss: 1.0396 - accuracy: 0.6161 - val_loss: 1.0358 - val_accuracy: 0.6316\n",
            "Epoch 8/100\n",
            "1/1 [==============================] - 0s 35ms/step - loss: 1.0268 - accuracy: 0.6071 - val_loss: 1.0228 - val_accuracy: 0.6053\n",
            "Epoch 9/100\n",
            "1/1 [==============================] - 0s 33ms/step - loss: 1.0147 - accuracy: 0.5982 - val_loss: 1.0109 - val_accuracy: 0.5789\n",
            "Epoch 10/100\n",
            "1/1 [==============================] - 0s 31ms/step - loss: 1.0039 - accuracy: 0.5982 - val_loss: 1.0000 - val_accuracy: 0.5526\n",
            "Epoch 11/100\n",
            "1/1 [==============================] - 0s 40ms/step - loss: 0.9940 - accuracy: 0.5625 - val_loss: 0.9898 - val_accuracy: 0.5526\n",
            "Epoch 12/100\n",
            "1/1 [==============================] - 0s 37ms/step - loss: 0.9845 - accuracy: 0.5357 - val_loss: 0.9801 - val_accuracy: 0.5263\n",
            "Epoch 13/100\n",
            "1/1 [==============================] - 0s 27ms/step - loss: 0.9755 - accuracy: 0.4821 - val_loss: 0.9707 - val_accuracy: 0.4474\n",
            "Epoch 14/100\n",
            "1/1 [==============================] - 0s 31ms/step - loss: 0.9668 - accuracy: 0.4375 - val_loss: 0.9615 - val_accuracy: 0.3947\n",
            "Epoch 15/100\n",
            "1/1 [==============================] - 0s 29ms/step - loss: 0.9582 - accuracy: 0.4196 - val_loss: 0.9525 - val_accuracy: 0.3947\n",
            "Epoch 16/100\n",
            "1/1 [==============================] - 0s 33ms/step - loss: 0.9499 - accuracy: 0.4018 - val_loss: 0.9437 - val_accuracy: 0.3684\n",
            "Epoch 17/100\n",
            "1/1 [==============================] - 0s 36ms/step - loss: 0.9417 - accuracy: 0.3839 - val_loss: 0.9351 - val_accuracy: 0.3421\n",
            "Epoch 18/100\n",
            "1/1 [==============================] - 0s 35ms/step - loss: 0.9337 - accuracy: 0.3750 - val_loss: 0.9266 - val_accuracy: 0.3421\n",
            "Epoch 19/100\n",
            "1/1 [==============================] - 0s 28ms/step - loss: 0.9257 - accuracy: 0.3571 - val_loss: 0.9182 - val_accuracy: 0.3684\n",
            "Epoch 20/100\n",
            "1/1 [==============================] - 0s 29ms/step - loss: 0.9179 - accuracy: 0.3929 - val_loss: 0.9101 - val_accuracy: 0.5000\n",
            "Epoch 21/100\n",
            "1/1 [==============================] - 0s 29ms/step - loss: 0.9103 - accuracy: 0.5804 - val_loss: 0.9022 - val_accuracy: 0.6842\n",
            "Epoch 22/100\n",
            "1/1 [==============================] - 0s 27ms/step - loss: 0.9028 - accuracy: 0.6250 - val_loss: 0.8945 - val_accuracy: 0.6842\n",
            "Epoch 23/100\n",
            "1/1 [==============================] - 0s 28ms/step - loss: 0.8955 - accuracy: 0.6339 - val_loss: 0.8869 - val_accuracy: 0.6842\n",
            "Epoch 24/100\n",
            "1/1 [==============================] - 0s 27ms/step - loss: 0.8883 - accuracy: 0.6696 - val_loss: 0.8795 - val_accuracy: 0.6842\n",
            "Epoch 25/100\n",
            "1/1 [==============================] - 0s 28ms/step - loss: 0.8813 - accuracy: 0.6786 - val_loss: 0.8722 - val_accuracy: 0.6842\n",
            "Epoch 26/100\n",
            "1/1 [==============================] - 0s 32ms/step - loss: 0.8743 - accuracy: 0.6786 - val_loss: 0.8651 - val_accuracy: 0.6842\n",
            "Epoch 27/100\n",
            "1/1 [==============================] - 0s 32ms/step - loss: 0.8675 - accuracy: 0.6786 - val_loss: 0.8580 - val_accuracy: 0.6842\n",
            "Epoch 28/100\n",
            "1/1 [==============================] - 0s 28ms/step - loss: 0.8607 - accuracy: 0.6786 - val_loss: 0.8510 - val_accuracy: 0.6842\n",
            "Epoch 29/100\n",
            "1/1 [==============================] - 0s 29ms/step - loss: 0.8539 - accuracy: 0.6786 - val_loss: 0.8441 - val_accuracy: 0.6842\n",
            "Epoch 30/100\n",
            "1/1 [==============================] - 0s 34ms/step - loss: 0.8473 - accuracy: 0.6875 - val_loss: 0.8372 - val_accuracy: 0.6842\n",
            "Epoch 31/100\n",
            "1/1 [==============================] - 0s 51ms/step - loss: 0.8406 - accuracy: 0.6875 - val_loss: 0.8304 - val_accuracy: 0.6842\n",
            "Epoch 32/100\n",
            "1/1 [==============================] - 0s 32ms/step - loss: 0.8340 - accuracy: 0.6964 - val_loss: 0.8235 - val_accuracy: 0.6842\n",
            "Epoch 33/100\n",
            "1/1 [==============================] - 0s 46ms/step - loss: 0.8274 - accuracy: 0.7054 - val_loss: 0.8167 - val_accuracy: 0.7105\n",
            "Epoch 34/100\n",
            "1/1 [==============================] - 0s 31ms/step - loss: 0.8207 - accuracy: 0.7143 - val_loss: 0.8099 - val_accuracy: 0.7105\n",
            "Epoch 35/100\n",
            "1/1 [==============================] - 0s 30ms/step - loss: 0.8141 - accuracy: 0.7143 - val_loss: 0.8030 - val_accuracy: 0.7105\n",
            "Epoch 36/100\n",
            "1/1 [==============================] - 0s 33ms/step - loss: 0.8076 - accuracy: 0.7143 - val_loss: 0.7962 - val_accuracy: 0.7105\n",
            "Epoch 37/100\n",
            "1/1 [==============================] - 0s 29ms/step - loss: 0.8010 - accuracy: 0.7143 - val_loss: 0.7894 - val_accuracy: 0.7105\n",
            "Epoch 38/100\n",
            "1/1 [==============================] - 0s 38ms/step - loss: 0.7944 - accuracy: 0.7143 - val_loss: 0.7826 - val_accuracy: 0.7105\n",
            "Epoch 39/100\n",
            "1/1 [==============================] - 0s 30ms/step - loss: 0.7878 - accuracy: 0.7232 - val_loss: 0.7759 - val_accuracy: 0.7368\n",
            "Epoch 40/100\n",
            "1/1 [==============================] - 0s 28ms/step - loss: 0.7813 - accuracy: 0.7321 - val_loss: 0.7692 - val_accuracy: 0.7368\n",
            "Epoch 41/100\n",
            "1/1 [==============================] - 0s 32ms/step - loss: 0.7747 - accuracy: 0.7321 - val_loss: 0.7626 - val_accuracy: 0.7368\n",
            "Epoch 42/100\n",
            "1/1 [==============================] - 0s 30ms/step - loss: 0.7683 - accuracy: 0.7411 - val_loss: 0.7559 - val_accuracy: 0.7368\n",
            "Epoch 43/100\n",
            "1/1 [==============================] - 0s 28ms/step - loss: 0.7618 - accuracy: 0.7411 - val_loss: 0.7494 - val_accuracy: 0.7368\n",
            "Epoch 44/100\n",
            "1/1 [==============================] - 0s 27ms/step - loss: 0.7554 - accuracy: 0.7500 - val_loss: 0.7428 - val_accuracy: 0.7368\n",
            "Epoch 45/100\n",
            "1/1 [==============================] - 0s 29ms/step - loss: 0.7490 - accuracy: 0.7500 - val_loss: 0.7363 - val_accuracy: 0.7368\n",
            "Epoch 46/100\n",
            "1/1 [==============================] - 0s 41ms/step - loss: 0.7426 - accuracy: 0.7589 - val_loss: 0.7299 - val_accuracy: 0.7368\n",
            "Epoch 47/100\n",
            "1/1 [==============================] - 0s 28ms/step - loss: 0.7363 - accuracy: 0.7589 - val_loss: 0.7235 - val_accuracy: 0.7368\n",
            "Epoch 48/100\n",
            "1/1 [==============================] - 0s 30ms/step - loss: 0.7300 - accuracy: 0.7589 - val_loss: 0.7172 - val_accuracy: 0.7895\n",
            "Epoch 49/100\n",
            "1/1 [==============================] - 0s 30ms/step - loss: 0.7238 - accuracy: 0.7589 - val_loss: 0.7109 - val_accuracy: 0.8158\n",
            "Epoch 50/100\n",
            "1/1 [==============================] - 0s 38ms/step - loss: 0.7177 - accuracy: 0.7589 - val_loss: 0.7047 - val_accuracy: 0.8158\n",
            "Epoch 51/100\n",
            "1/1 [==============================] - 0s 31ms/step - loss: 0.7116 - accuracy: 0.7768 - val_loss: 0.6986 - val_accuracy: 0.8158\n",
            "Epoch 52/100\n",
            "1/1 [==============================] - 0s 30ms/step - loss: 0.7057 - accuracy: 0.7946 - val_loss: 0.6926 - val_accuracy: 0.8158\n",
            "Epoch 53/100\n",
            "1/1 [==============================] - 0s 28ms/step - loss: 0.6998 - accuracy: 0.7946 - val_loss: 0.6867 - val_accuracy: 0.8158\n",
            "Epoch 54/100\n",
            "1/1 [==============================] - 0s 27ms/step - loss: 0.6941 - accuracy: 0.8036 - val_loss: 0.6808 - val_accuracy: 0.8158\n",
            "Epoch 55/100\n",
            "1/1 [==============================] - 0s 30ms/step - loss: 0.6884 - accuracy: 0.8125 - val_loss: 0.6751 - val_accuracy: 0.8421\n",
            "Epoch 56/100\n",
            "1/1 [==============================] - 0s 37ms/step - loss: 0.6827 - accuracy: 0.8214 - val_loss: 0.6693 - val_accuracy: 0.8421\n",
            "Epoch 57/100\n",
            "1/1 [==============================] - 0s 27ms/step - loss: 0.6771 - accuracy: 0.8214 - val_loss: 0.6638 - val_accuracy: 0.8421\n",
            "Epoch 58/100\n",
            "1/1 [==============================] - 0s 27ms/step - loss: 0.6715 - accuracy: 0.8304 - val_loss: 0.6581 - val_accuracy: 0.8421\n",
            "Epoch 59/100\n",
            "1/1 [==============================] - 0s 27ms/step - loss: 0.6659 - accuracy: 0.8304 - val_loss: 0.6524 - val_accuracy: 0.8421\n",
            "Epoch 60/100\n",
            "1/1 [==============================] - 0s 30ms/step - loss: 0.6602 - accuracy: 0.8304 - val_loss: 0.6466 - val_accuracy: 0.8421\n",
            "Epoch 61/100\n",
            "1/1 [==============================] - 0s 29ms/step - loss: 0.6542 - accuracy: 0.8304 - val_loss: 0.6400 - val_accuracy: 0.8421\n",
            "Epoch 62/100\n",
            "1/1 [==============================] - 0s 27ms/step - loss: 0.6476 - accuracy: 0.8214 - val_loss: 0.6333 - val_accuracy: 0.8158\n",
            "Epoch 63/100\n",
            "1/1 [==============================] - 0s 27ms/step - loss: 0.6411 - accuracy: 0.8214 - val_loss: 0.6268 - val_accuracy: 0.8158\n",
            "Epoch 64/100\n",
            "1/1 [==============================] - 0s 30ms/step - loss: 0.6348 - accuracy: 0.8214 - val_loss: 0.6206 - val_accuracy: 0.8158\n",
            "Epoch 65/100\n",
            "1/1 [==============================] - 0s 29ms/step - loss: 0.6285 - accuracy: 0.8214 - val_loss: 0.6144 - val_accuracy: 0.8158\n",
            "Epoch 66/100\n",
            "1/1 [==============================] - 0s 34ms/step - loss: 0.6225 - accuracy: 0.8214 - val_loss: 0.6085 - val_accuracy: 0.8158\n",
            "Epoch 67/100\n",
            "1/1 [==============================] - 0s 41ms/step - loss: 0.6166 - accuracy: 0.8214 - val_loss: 0.6027 - val_accuracy: 0.8421\n",
            "Epoch 68/100\n",
            "1/1 [==============================] - 0s 36ms/step - loss: 0.6108 - accuracy: 0.8393 - val_loss: 0.5971 - val_accuracy: 0.8421\n",
            "Epoch 69/100\n",
            "1/1 [==============================] - 0s 32ms/step - loss: 0.6052 - accuracy: 0.8393 - val_loss: 0.5916 - val_accuracy: 0.8421\n",
            "Epoch 70/100\n",
            "1/1 [==============================] - 0s 41ms/step - loss: 0.5997 - accuracy: 0.8393 - val_loss: 0.5863 - val_accuracy: 0.8421\n",
            "Epoch 71/100\n",
            "1/1 [==============================] - 0s 58ms/step - loss: 0.5943 - accuracy: 0.8393 - val_loss: 0.5810 - val_accuracy: 0.8684\n",
            "Epoch 72/100\n",
            "1/1 [==============================] - 0s 56ms/step - loss: 0.5890 - accuracy: 0.8393 - val_loss: 0.5758 - val_accuracy: 0.8684\n",
            "Epoch 73/100\n",
            "1/1 [==============================] - 0s 47ms/step - loss: 0.5837 - accuracy: 0.8393 - val_loss: 0.5707 - val_accuracy: 0.8684\n",
            "Epoch 74/100\n",
            "1/1 [==============================] - 0s 49ms/step - loss: 0.5786 - accuracy: 0.8393 - val_loss: 0.5656 - val_accuracy: 0.8684\n",
            "Epoch 75/100\n",
            "1/1 [==============================] - 0s 36ms/step - loss: 0.5735 - accuracy: 0.8393 - val_loss: 0.5607 - val_accuracy: 0.8684\n",
            "Epoch 76/100\n",
            "1/1 [==============================] - 0s 34ms/step - loss: 0.5686 - accuracy: 0.8482 - val_loss: 0.5561 - val_accuracy: 0.8684\n",
            "Epoch 77/100\n",
            "1/1 [==============================] - 0s 51ms/step - loss: 0.5640 - accuracy: 0.8482 - val_loss: 0.5517 - val_accuracy: 0.8684\n",
            "Epoch 78/100\n",
            "1/1 [==============================] - 0s 41ms/step - loss: 0.5595 - accuracy: 0.8482 - val_loss: 0.5474 - val_accuracy: 0.8684\n",
            "Epoch 79/100\n",
            "1/1 [==============================] - 0s 35ms/step - loss: 0.5553 - accuracy: 0.8482 - val_loss: 0.5433 - val_accuracy: 0.8684\n",
            "Epoch 80/100\n",
            "1/1 [==============================] - 0s 45ms/step - loss: 0.5511 - accuracy: 0.8571 - val_loss: 0.5394 - val_accuracy: 0.8684\n",
            "Epoch 81/100\n",
            "1/1 [==============================] - 0s 47ms/step - loss: 0.5471 - accuracy: 0.8571 - val_loss: 0.5355 - val_accuracy: 0.8684\n",
            "Epoch 82/100\n",
            "1/1 [==============================] - 0s 35ms/step - loss: 0.5432 - accuracy: 0.8571 - val_loss: 0.5317 - val_accuracy: 0.8684\n",
            "Epoch 83/100\n",
            "1/1 [==============================] - 0s 37ms/step - loss: 0.5393 - accuracy: 0.8571 - val_loss: 0.5280 - val_accuracy: 0.8684\n",
            "Epoch 84/100\n",
            "1/1 [==============================] - 0s 54ms/step - loss: 0.5356 - accuracy: 0.8571 - val_loss: 0.5245 - val_accuracy: 0.8684\n",
            "Epoch 85/100\n",
            "1/1 [==============================] - 0s 39ms/step - loss: 0.5319 - accuracy: 0.8571 - val_loss: 0.5209 - val_accuracy: 0.8947\n",
            "Epoch 86/100\n",
            "1/1 [==============================] - 0s 33ms/step - loss: 0.5283 - accuracy: 0.8661 - val_loss: 0.5174 - val_accuracy: 0.8947\n",
            "Epoch 87/100\n",
            "1/1 [==============================] - 0s 39ms/step - loss: 0.5248 - accuracy: 0.8661 - val_loss: 0.5141 - val_accuracy: 0.8947\n",
            "Epoch 88/100\n",
            "1/1 [==============================] - 0s 36ms/step - loss: 0.5213 - accuracy: 0.8661 - val_loss: 0.5107 - val_accuracy: 0.8947\n",
            "Epoch 89/100\n",
            "1/1 [==============================] - 0s 54ms/step - loss: 0.5179 - accuracy: 0.8750 - val_loss: 0.5074 - val_accuracy: 0.8947\n",
            "Epoch 90/100\n",
            "1/1 [==============================] - 0s 55ms/step - loss: 0.5145 - accuracy: 0.8750 - val_loss: 0.5042 - val_accuracy: 0.8947\n",
            "Epoch 91/100\n",
            "1/1 [==============================] - 0s 39ms/step - loss: 0.5112 - accuracy: 0.8750 - val_loss: 0.5011 - val_accuracy: 0.8947\n",
            "Epoch 92/100\n",
            "1/1 [==============================] - 0s 36ms/step - loss: 0.5079 - accuracy: 0.8750 - val_loss: 0.4980 - val_accuracy: 0.8947\n",
            "Epoch 93/100\n",
            "1/1 [==============================] - 0s 33ms/step - loss: 0.5047 - accuracy: 0.8839 - val_loss: 0.4949 - val_accuracy: 0.8947\n",
            "Epoch 94/100\n",
            "1/1 [==============================] - 0s 35ms/step - loss: 0.5016 - accuracy: 0.8839 - val_loss: 0.4919 - val_accuracy: 0.8947\n",
            "Epoch 95/100\n",
            "1/1 [==============================] - 0s 45ms/step - loss: 0.4985 - accuracy: 0.8839 - val_loss: 0.4890 - val_accuracy: 0.8947\n",
            "Epoch 96/100\n",
            "1/1 [==============================] - 0s 40ms/step - loss: 0.4954 - accuracy: 0.8839 - val_loss: 0.4861 - val_accuracy: 0.8947\n",
            "Epoch 97/100\n",
            "1/1 [==============================] - 0s 35ms/step - loss: 0.4924 - accuracy: 0.9107 - val_loss: 0.4834 - val_accuracy: 0.8947\n",
            "Epoch 98/100\n",
            "1/1 [==============================] - 0s 37ms/step - loss: 0.4895 - accuracy: 0.9107 - val_loss: 0.4805 - val_accuracy: 0.8947\n",
            "Epoch 99/100\n",
            "1/1 [==============================] - 0s 44ms/step - loss: 0.4866 - accuracy: 0.9107 - val_loss: 0.4779 - val_accuracy: 0.8947\n",
            "Epoch 100/100\n",
            "1/1 [==============================] - 0s 37ms/step - loss: 0.4837 - accuracy: 0.9107 - val_loss: 0.4751 - val_accuracy: 0.8947\n"
          ]
        },
        {
          "output_type": "execute_result",
          "data": {
            "text/plain": [
              "<keras.callbacks.History at 0x7f61a84df370>"
            ]
          },
          "metadata": {},
          "execution_count": 12
        }
      ]
    },
    {
      "cell_type": "code",
      "source": [
        "score2 = model2.evaluate(X_test, y_test, batch_size=128) # extract loss and accuracy from test data evaluation\n",
        "print(score2)\n",
        "\n",
        "layers.append('3')\n",
        "neurons.append('32')\n",
        "test_score.append(score2)"
      ],
      "metadata": {
        "colab": {
          "base_uri": "https://localhost:8080/"
        },
        "id": "IKlqGgd7Lv0h",
        "outputId": "3069cbb0-1bc9-4936-f4de-65c46fc4b97a"
      },
      "execution_count": null,
      "outputs": [
        {
          "output_type": "stream",
          "name": "stdout",
          "text": [
            "1/1 [==============================] - 0s 24ms/step - loss: 0.4751 - accuracy: 0.8947\n",
            "[0.47509267926216125, 0.8947368264198303]\n"
          ]
        }
      ]
    },
    {
      "cell_type": "code",
      "source": [
        "import numpy as np\n",
        "\n",
        "# Prediction from keras classification model\n",
        "print(X_test.shape)\n",
        "\n",
        "# for predicted probabilities\n",
        "ypreds2 = model2.predict(X_test)\n",
        "print(ypreds2) #gives prediction of each category, largest is selected for predict_classes()\n",
        "\n",
        "# for predicted label index of one hot encoded y data columns\n",
        "# Can use this to return correct label from well ordered list of labels\n",
        "# manually! sklearn does it for us automatically\n",
        "ypreds_classindex2 = np.argmax(model2.predict(X_test), axis=-1)\n",
        "print(ypreds_classindex2) "
      ],
      "metadata": {
        "colab": {
          "base_uri": "https://localhost:8080/"
        },
        "id": "6KNcirz1Lv3L",
        "outputId": "7baa6617-d73b-4ce2-ed68-6917ee8db9e4"
      },
      "execution_count": null,
      "outputs": [
        {
          "output_type": "stream",
          "name": "stdout",
          "text": [
            "(38, 4)\n",
            "2/2 [==============================] - 0s 5ms/step\n",
            "[[0.11967087 0.47370926 0.40662   ]\n",
            " [0.06479436 0.4191394  0.51606625]\n",
            " [0.85179055 0.12951133 0.01869813]\n",
            " [0.85803777 0.12364796 0.01831428]\n",
            " [0.04167067 0.41791257 0.5404167 ]\n",
            " [0.8016676  0.16684048 0.03149197]\n",
            " [0.03795452 0.33154002 0.6305053 ]\n",
            " [0.0863345  0.4432928  0.47037268]\n",
            " [0.82956314 0.14519377 0.02524302]\n",
            " [0.05202341 0.39037645 0.55760026]\n",
            " [0.09260737 0.48964143 0.41775116]\n",
            " [0.03517817 0.35259083 0.6122311 ]\n",
            " [0.87847596 0.10784291 0.01368106]\n",
            " [0.05888411 0.43948895 0.5016269 ]\n",
            " [0.83318895 0.14292194 0.02388896]\n",
            " [0.82505816 0.14702778 0.02791415]\n",
            " [0.03795452 0.33154002 0.6305053 ]\n",
            " [0.03841446 0.3567028  0.60488266]\n",
            " [0.15126152 0.4841889  0.36454952]\n",
            " [0.09806509 0.46605596 0.4358789 ]\n",
            " [0.03367743 0.32406393 0.64225864]\n",
            " [0.03520592 0.3804901  0.5843039 ]\n",
            " [0.8982676  0.09180441 0.00992797]\n",
            " [0.05034452 0.3993576  0.550298  ]\n",
            " [0.8456362  0.13292092 0.02144292]\n",
            " [0.8340946  0.14121427 0.02469114]\n",
            " [0.12123813 0.49196306 0.38679883]\n",
            " [0.06792974 0.46332076 0.46874937]\n",
            " [0.10747594 0.51559305 0.37693095]\n",
            " [0.16855621 0.47428602 0.3571577 ]\n",
            " [0.02152681 0.29496548 0.6835077 ]\n",
            " [0.024926   0.29867363 0.6764003 ]\n",
            " [0.85523236 0.12508906 0.01967864]\n",
            " [0.80899835 0.16220546 0.02879629]\n",
            " [0.03485873 0.34629154 0.61884975]\n",
            " [0.77751964 0.1830033  0.03947708]\n",
            " [0.1166821  0.49458578 0.3887321 ]\n",
            " [0.05482031 0.42228183 0.52289784]]\n",
            "2/2 [==============================] - 0s 4ms/step\n",
            "[1 2 0 0 2 0 2 2 0 2 1 2 0 2 0 0 2 2 1 1 2 2 0 2 0 0 1 2 1 1 2 2 0 0 2 0 1\n",
            " 2]\n"
          ]
        }
      ]
    },
    {
      "cell_type": "markdown",
      "source": [
        "## Model 3: 3 hidden layers with 64 hidden neurons"
      ],
      "metadata": {
        "id": "u8Yb4S1cX5jr"
      }
    },
    {
      "cell_type": "code",
      "source": [
        "#Build layers with Dense, followed by Activation()\n",
        "\n",
        "# three hidden layers with 64 nodes\n",
        "# Activation is set to relu\n",
        "# one output layer with 3 categories.  \n",
        "# softmax function used to calculate 0 to 1 probabilities for each of 3 categories\n",
        "\n",
        "model3 = Sequential([\n",
        "    Dense(64, input_dim=4),\n",
        "    Activation('relu'),\n",
        "    Dense(64),\n",
        "    Activation('relu'),\n",
        "    Dense(64),\n",
        "    Activation('relu'),\n",
        "    Dense(3),\n",
        "    Activation('softmax'),\n",
        "])\n",
        "\n",
        "model3.summary()"
      ],
      "metadata": {
        "colab": {
          "base_uri": "https://localhost:8080/"
        },
        "id": "HtapAg78YGbT",
        "outputId": "903dacd6-4d24-4f89-8972-78cd4d231d93"
      },
      "execution_count": null,
      "outputs": [
        {
          "output_type": "stream",
          "name": "stdout",
          "text": [
            "Model: \"sequential_2\"\n",
            "_________________________________________________________________\n",
            " Layer (type)                Output Shape              Param #   \n",
            "=================================================================\n",
            " dense_7 (Dense)             (None, 64)                320       \n",
            "                                                                 \n",
            " activation_7 (Activation)   (None, 64)                0         \n",
            "                                                                 \n",
            " dense_8 (Dense)             (None, 64)                4160      \n",
            "                                                                 \n",
            " activation_8 (Activation)   (None, 64)                0         \n",
            "                                                                 \n",
            " dense_9 (Dense)             (None, 64)                4160      \n",
            "                                                                 \n",
            " activation_9 (Activation)   (None, 64)                0         \n",
            "                                                                 \n",
            " dense_10 (Dense)            (None, 3)                 195       \n",
            "                                                                 \n",
            " activation_10 (Activation)  (None, 3)                 0         \n",
            "                                                                 \n",
            "=================================================================\n",
            "Total params: 8,835\n",
            "Trainable params: 8,835\n",
            "Non-trainable params: 0\n",
            "_________________________________________________________________\n"
          ]
        }
      ]
    },
    {
      "cell_type": "code",
      "source": [
        "# Once your model looks good, configure its learning process with .compile():\n",
        "sgd = SGD(lr=0.0001)  # define a learning rate for optimization\n",
        "\n",
        "model3.compile(loss='categorical_crossentropy',\n",
        "              optimizer='sgd',\n",
        "              metrics=['accuracy'])"
      ],
      "metadata": {
        "colab": {
          "base_uri": "https://localhost:8080/"
        },
        "id": "J1j8UGBGYM1E",
        "outputId": "d3c8cbb4-2cbb-4800-a52f-a046b34856e5"
      },
      "execution_count": null,
      "outputs": [
        {
          "output_type": "stream",
          "name": "stderr",
          "text": [
            "/usr/local/lib/python3.8/dist-packages/keras/optimizers/optimizer_v2/gradient_descent.py:108: UserWarning: The `lr` argument is deprecated, use `learning_rate` instead.\n",
            "  super(SGD, self).__init__(name, **kwargs)\n"
          ]
        }
      ]
    },
    {
      "cell_type": "code",
      "source": [
        "# Train the model, iterating on the data in batches of 128 samples\n",
        "model3.fit(X_train, y_train, validation_data=(X_test,y_test), epochs=100, batch_size=128)"
      ],
      "metadata": {
        "colab": {
          "base_uri": "https://localhost:8080/"
        },
        "id": "iFLGCyo7YM6W",
        "outputId": "17563714-330f-4983-bca2-62f2bc994b68"
      },
      "execution_count": null,
      "outputs": [
        {
          "output_type": "stream",
          "name": "stdout",
          "text": [
            "Epoch 1/100\n",
            "1/1 [==============================] - 1s 751ms/step - loss: 1.0480 - accuracy: 0.3304 - val_loss: 1.0224 - val_accuracy: 0.3421\n",
            "Epoch 2/100\n",
            "1/1 [==============================] - 0s 40ms/step - loss: 1.0213 - accuracy: 0.3304 - val_loss: 1.0066 - val_accuracy: 0.3421\n",
            "Epoch 3/100\n",
            "1/1 [==============================] - 0s 39ms/step - loss: 1.0058 - accuracy: 0.3304 - val_loss: 0.9942 - val_accuracy: 0.3421\n",
            "Epoch 4/100\n",
            "1/1 [==============================] - 0s 37ms/step - loss: 0.9935 - accuracy: 0.3304 - val_loss: 0.9841 - val_accuracy: 0.3421\n",
            "Epoch 5/100\n",
            "1/1 [==============================] - 0s 36ms/step - loss: 0.9834 - accuracy: 0.3304 - val_loss: 0.9751 - val_accuracy: 0.4737\n",
            "Epoch 6/100\n",
            "1/1 [==============================] - 0s 48ms/step - loss: 0.9744 - accuracy: 0.4643 - val_loss: 0.9668 - val_accuracy: 0.6579\n",
            "Epoch 7/100\n",
            "1/1 [==============================] - 0s 58ms/step - loss: 0.9662 - accuracy: 0.6071 - val_loss: 0.9591 - val_accuracy: 0.6842\n",
            "Epoch 8/100\n",
            "1/1 [==============================] - 0s 38ms/step - loss: 0.9587 - accuracy: 0.6518 - val_loss: 0.9519 - val_accuracy: 0.6842\n",
            "Epoch 9/100\n",
            "1/1 [==============================] - 0s 43ms/step - loss: 0.9517 - accuracy: 0.6607 - val_loss: 0.9450 - val_accuracy: 0.6842\n",
            "Epoch 10/100\n",
            "1/1 [==============================] - 0s 38ms/step - loss: 0.9449 - accuracy: 0.6607 - val_loss: 0.9382 - val_accuracy: 0.6842\n",
            "Epoch 11/100\n",
            "1/1 [==============================] - 0s 39ms/step - loss: 0.9383 - accuracy: 0.6607 - val_loss: 0.9315 - val_accuracy: 0.6842\n",
            "Epoch 12/100\n",
            "1/1 [==============================] - 0s 39ms/step - loss: 0.9319 - accuracy: 0.6607 - val_loss: 0.9250 - val_accuracy: 0.6842\n",
            "Epoch 13/100\n",
            "1/1 [==============================] - 0s 44ms/step - loss: 0.9255 - accuracy: 0.6607 - val_loss: 0.9183 - val_accuracy: 0.6842\n",
            "Epoch 14/100\n",
            "1/1 [==============================] - 0s 38ms/step - loss: 0.9191 - accuracy: 0.6607 - val_loss: 0.9117 - val_accuracy: 0.6842\n",
            "Epoch 15/100\n",
            "1/1 [==============================] - 0s 37ms/step - loss: 0.9128 - accuracy: 0.6607 - val_loss: 0.9052 - val_accuracy: 0.6842\n",
            "Epoch 16/100\n",
            "1/1 [==============================] - 0s 37ms/step - loss: 0.9064 - accuracy: 0.6607 - val_loss: 0.8986 - val_accuracy: 0.6842\n",
            "Epoch 17/100\n",
            "1/1 [==============================] - 0s 46ms/step - loss: 0.9000 - accuracy: 0.6607 - val_loss: 0.8919 - val_accuracy: 0.6842\n",
            "Epoch 18/100\n",
            "1/1 [==============================] - 0s 41ms/step - loss: 0.8936 - accuracy: 0.6607 - val_loss: 0.8853 - val_accuracy: 0.6842\n",
            "Epoch 19/100\n",
            "1/1 [==============================] - 0s 41ms/step - loss: 0.8872 - accuracy: 0.6696 - val_loss: 0.8786 - val_accuracy: 0.6842\n",
            "Epoch 20/100\n",
            "1/1 [==============================] - 0s 50ms/step - loss: 0.8808 - accuracy: 0.6696 - val_loss: 0.8719 - val_accuracy: 0.6842\n",
            "Epoch 21/100\n",
            "1/1 [==============================] - 0s 49ms/step - loss: 0.8743 - accuracy: 0.6696 - val_loss: 0.8651 - val_accuracy: 0.6842\n",
            "Epoch 22/100\n",
            "1/1 [==============================] - 0s 40ms/step - loss: 0.8677 - accuracy: 0.6696 - val_loss: 0.8582 - val_accuracy: 0.6842\n",
            "Epoch 23/100\n",
            "1/1 [==============================] - 0s 36ms/step - loss: 0.8612 - accuracy: 0.6786 - val_loss: 0.8513 - val_accuracy: 0.6842\n",
            "Epoch 24/100\n",
            "1/1 [==============================] - 0s 38ms/step - loss: 0.8546 - accuracy: 0.6786 - val_loss: 0.8445 - val_accuracy: 0.6842\n",
            "Epoch 25/100\n",
            "1/1 [==============================] - 0s 38ms/step - loss: 0.8480 - accuracy: 0.6786 - val_loss: 0.8377 - val_accuracy: 0.6842\n",
            "Epoch 26/100\n",
            "1/1 [==============================] - 0s 45ms/step - loss: 0.8414 - accuracy: 0.6786 - val_loss: 0.8308 - val_accuracy: 0.6842\n",
            "Epoch 27/100\n",
            "1/1 [==============================] - 0s 37ms/step - loss: 0.8348 - accuracy: 0.6786 - val_loss: 0.8241 - val_accuracy: 0.6842\n",
            "Epoch 28/100\n",
            "1/1 [==============================] - 0s 43ms/step - loss: 0.8283 - accuracy: 0.6786 - val_loss: 0.8176 - val_accuracy: 0.6842\n",
            "Epoch 29/100\n",
            "1/1 [==============================] - 0s 42ms/step - loss: 0.8219 - accuracy: 0.6786 - val_loss: 0.8111 - val_accuracy: 0.6842\n",
            "Epoch 30/100\n",
            "1/1 [==============================] - 0s 46ms/step - loss: 0.8157 - accuracy: 0.6786 - val_loss: 0.8046 - val_accuracy: 0.7105\n",
            "Epoch 31/100\n",
            "1/1 [==============================] - 0s 43ms/step - loss: 0.8095 - accuracy: 0.6875 - val_loss: 0.7982 - val_accuracy: 0.7105\n",
            "Epoch 32/100\n",
            "1/1 [==============================] - 0s 36ms/step - loss: 0.8034 - accuracy: 0.6875 - val_loss: 0.7920 - val_accuracy: 0.7105\n",
            "Epoch 33/100\n",
            "1/1 [==============================] - 0s 39ms/step - loss: 0.7973 - accuracy: 0.6875 - val_loss: 0.7857 - val_accuracy: 0.7105\n",
            "Epoch 34/100\n",
            "1/1 [==============================] - 0s 40ms/step - loss: 0.7913 - accuracy: 0.6875 - val_loss: 0.7796 - val_accuracy: 0.7105\n",
            "Epoch 35/100\n",
            "1/1 [==============================] - 0s 45ms/step - loss: 0.7853 - accuracy: 0.6964 - val_loss: 0.7736 - val_accuracy: 0.7105\n",
            "Epoch 36/100\n",
            "1/1 [==============================] - 0s 42ms/step - loss: 0.7796 - accuracy: 0.6964 - val_loss: 0.7678 - val_accuracy: 0.7105\n",
            "Epoch 37/100\n",
            "1/1 [==============================] - 0s 41ms/step - loss: 0.7739 - accuracy: 0.6964 - val_loss: 0.7618 - val_accuracy: 0.7105\n",
            "Epoch 38/100\n",
            "1/1 [==============================] - 0s 44ms/step - loss: 0.7682 - accuracy: 0.6964 - val_loss: 0.7562 - val_accuracy: 0.7105\n",
            "Epoch 39/100\n",
            "1/1 [==============================] - 0s 43ms/step - loss: 0.7626 - accuracy: 0.7054 - val_loss: 0.7505 - val_accuracy: 0.7105\n",
            "Epoch 40/100\n",
            "1/1 [==============================] - 0s 39ms/step - loss: 0.7571 - accuracy: 0.7143 - val_loss: 0.7449 - val_accuracy: 0.7105\n",
            "Epoch 41/100\n",
            "1/1 [==============================] - 0s 40ms/step - loss: 0.7516 - accuracy: 0.7143 - val_loss: 0.7393 - val_accuracy: 0.7105\n",
            "Epoch 42/100\n",
            "1/1 [==============================] - 0s 50ms/step - loss: 0.7462 - accuracy: 0.7143 - val_loss: 0.7339 - val_accuracy: 0.7105\n",
            "Epoch 43/100\n",
            "1/1 [==============================] - 0s 37ms/step - loss: 0.7408 - accuracy: 0.7321 - val_loss: 0.7284 - val_accuracy: 0.7105\n",
            "Epoch 44/100\n",
            "1/1 [==============================] - 0s 46ms/step - loss: 0.7354 - accuracy: 0.7321 - val_loss: 0.7230 - val_accuracy: 0.7105\n",
            "Epoch 45/100\n",
            "1/1 [==============================] - 0s 44ms/step - loss: 0.7301 - accuracy: 0.7411 - val_loss: 0.7177 - val_accuracy: 0.7105\n",
            "Epoch 46/100\n",
            "1/1 [==============================] - 0s 45ms/step - loss: 0.7249 - accuracy: 0.7500 - val_loss: 0.7123 - val_accuracy: 0.7105\n",
            "Epoch 47/100\n",
            "1/1 [==============================] - 0s 36ms/step - loss: 0.7196 - accuracy: 0.7500 - val_loss: 0.7071 - val_accuracy: 0.7368\n",
            "Epoch 48/100\n",
            "1/1 [==============================] - 0s 40ms/step - loss: 0.7144 - accuracy: 0.7500 - val_loss: 0.7018 - val_accuracy: 0.7368\n",
            "Epoch 49/100\n",
            "1/1 [==============================] - 0s 43ms/step - loss: 0.7091 - accuracy: 0.7500 - val_loss: 0.6966 - val_accuracy: 0.7368\n",
            "Epoch 50/100\n",
            "1/1 [==============================] - 0s 36ms/step - loss: 0.7040 - accuracy: 0.7500 - val_loss: 0.6914 - val_accuracy: 0.7368\n",
            "Epoch 51/100\n",
            "1/1 [==============================] - 0s 38ms/step - loss: 0.6988 - accuracy: 0.7500 - val_loss: 0.6862 - val_accuracy: 0.7368\n",
            "Epoch 52/100\n",
            "1/1 [==============================] - 0s 35ms/step - loss: 0.6937 - accuracy: 0.7500 - val_loss: 0.6811 - val_accuracy: 0.7368\n",
            "Epoch 53/100\n",
            "1/1 [==============================] - 0s 49ms/step - loss: 0.6886 - accuracy: 0.7500 - val_loss: 0.6759 - val_accuracy: 0.7368\n",
            "Epoch 54/100\n",
            "1/1 [==============================] - 0s 39ms/step - loss: 0.6836 - accuracy: 0.7500 - val_loss: 0.6708 - val_accuracy: 0.7368\n",
            "Epoch 55/100\n",
            "1/1 [==============================] - 0s 38ms/step - loss: 0.6786 - accuracy: 0.7500 - val_loss: 0.6658 - val_accuracy: 0.7368\n",
            "Epoch 56/100\n",
            "1/1 [==============================] - 0s 34ms/step - loss: 0.6736 - accuracy: 0.7589 - val_loss: 0.6607 - val_accuracy: 0.7368\n",
            "Epoch 57/100\n",
            "1/1 [==============================] - 0s 45ms/step - loss: 0.6687 - accuracy: 0.7589 - val_loss: 0.6557 - val_accuracy: 0.7368\n",
            "Epoch 58/100\n",
            "1/1 [==============================] - 0s 39ms/step - loss: 0.6637 - accuracy: 0.7589 - val_loss: 0.6507 - val_accuracy: 0.7895\n",
            "Epoch 59/100\n",
            "1/1 [==============================] - 0s 41ms/step - loss: 0.6588 - accuracy: 0.7589 - val_loss: 0.6457 - val_accuracy: 0.7895\n",
            "Epoch 60/100\n",
            "1/1 [==============================] - 0s 40ms/step - loss: 0.6539 - accuracy: 0.7589 - val_loss: 0.6409 - val_accuracy: 0.7895\n",
            "Epoch 61/100\n",
            "1/1 [==============================] - 0s 38ms/step - loss: 0.6490 - accuracy: 0.7679 - val_loss: 0.6359 - val_accuracy: 0.7895\n",
            "Epoch 62/100\n",
            "1/1 [==============================] - 0s 40ms/step - loss: 0.6441 - accuracy: 0.7857 - val_loss: 0.6310 - val_accuracy: 0.7895\n",
            "Epoch 63/100\n",
            "1/1 [==============================] - 0s 39ms/step - loss: 0.6392 - accuracy: 0.7857 - val_loss: 0.6260 - val_accuracy: 0.8158\n",
            "Epoch 64/100\n",
            "1/1 [==============================] - 0s 54ms/step - loss: 0.6342 - accuracy: 0.7857 - val_loss: 0.6209 - val_accuracy: 0.8158\n",
            "Epoch 65/100\n",
            "1/1 [==============================] - 0s 37ms/step - loss: 0.6290 - accuracy: 0.7857 - val_loss: 0.6157 - val_accuracy: 0.8158\n",
            "Epoch 66/100\n",
            "1/1 [==============================] - 0s 37ms/step - loss: 0.6237 - accuracy: 0.7946 - val_loss: 0.6103 - val_accuracy: 0.8158\n",
            "Epoch 67/100\n",
            "1/1 [==============================] - 0s 33ms/step - loss: 0.6184 - accuracy: 0.8036 - val_loss: 0.6050 - val_accuracy: 0.8421\n",
            "Epoch 68/100\n",
            "1/1 [==============================] - 0s 45ms/step - loss: 0.6131 - accuracy: 0.8125 - val_loss: 0.5997 - val_accuracy: 0.8684\n",
            "Epoch 69/100\n",
            "1/1 [==============================] - 0s 39ms/step - loss: 0.6080 - accuracy: 0.8214 - val_loss: 0.5947 - val_accuracy: 0.8684\n",
            "Epoch 70/100\n",
            "1/1 [==============================] - 0s 39ms/step - loss: 0.6029 - accuracy: 0.8214 - val_loss: 0.5897 - val_accuracy: 0.8684\n",
            "Epoch 71/100\n",
            "1/1 [==============================] - 0s 36ms/step - loss: 0.5980 - accuracy: 0.8304 - val_loss: 0.5849 - val_accuracy: 0.8684\n",
            "Epoch 72/100\n",
            "1/1 [==============================] - 0s 38ms/step - loss: 0.5932 - accuracy: 0.8304 - val_loss: 0.5803 - val_accuracy: 0.8684\n",
            "Epoch 73/100\n",
            "1/1 [==============================] - 0s 36ms/step - loss: 0.5885 - accuracy: 0.8304 - val_loss: 0.5758 - val_accuracy: 0.8684\n",
            "Epoch 74/100\n",
            "1/1 [==============================] - 0s 41ms/step - loss: 0.5840 - accuracy: 0.8393 - val_loss: 0.5712 - val_accuracy: 0.8684\n",
            "Epoch 75/100\n",
            "1/1 [==============================] - 0s 46ms/step - loss: 0.5795 - accuracy: 0.8393 - val_loss: 0.5669 - val_accuracy: 0.8684\n",
            "Epoch 76/100\n",
            "1/1 [==============================] - 0s 32ms/step - loss: 0.5751 - accuracy: 0.8571 - val_loss: 0.5625 - val_accuracy: 0.8684\n",
            "Epoch 77/100\n",
            "1/1 [==============================] - 0s 47ms/step - loss: 0.5707 - accuracy: 0.8571 - val_loss: 0.5583 - val_accuracy: 0.8684\n",
            "Epoch 78/100\n",
            "1/1 [==============================] - 0s 48ms/step - loss: 0.5664 - accuracy: 0.8571 - val_loss: 0.5541 - val_accuracy: 0.8684\n",
            "Epoch 79/100\n",
            "1/1 [==============================] - 0s 38ms/step - loss: 0.5622 - accuracy: 0.8661 - val_loss: 0.5499 - val_accuracy: 0.8684\n",
            "Epoch 80/100\n",
            "1/1 [==============================] - 0s 39ms/step - loss: 0.5580 - accuracy: 0.8839 - val_loss: 0.5458 - val_accuracy: 0.8684\n",
            "Epoch 81/100\n",
            "1/1 [==============================] - 0s 37ms/step - loss: 0.5538 - accuracy: 0.8929 - val_loss: 0.5417 - val_accuracy: 0.8947\n",
            "Epoch 82/100\n",
            "1/1 [==============================] - 0s 36ms/step - loss: 0.5496 - accuracy: 0.8929 - val_loss: 0.5375 - val_accuracy: 0.8947\n",
            "Epoch 83/100\n",
            "1/1 [==============================] - 0s 40ms/step - loss: 0.5454 - accuracy: 0.8929 - val_loss: 0.5335 - val_accuracy: 0.8947\n",
            "Epoch 84/100\n",
            "1/1 [==============================] - 0s 43ms/step - loss: 0.5411 - accuracy: 0.8929 - val_loss: 0.5293 - val_accuracy: 0.8947\n",
            "Epoch 85/100\n",
            "1/1 [==============================] - 0s 57ms/step - loss: 0.5367 - accuracy: 0.8929 - val_loss: 0.5252 - val_accuracy: 0.8947\n",
            "Epoch 86/100\n",
            "1/1 [==============================] - 0s 46ms/step - loss: 0.5324 - accuracy: 0.8929 - val_loss: 0.5212 - val_accuracy: 0.8947\n",
            "Epoch 87/100\n",
            "1/1 [==============================] - 0s 49ms/step - loss: 0.5282 - accuracy: 0.9018 - val_loss: 0.5173 - val_accuracy: 0.8947\n",
            "Epoch 88/100\n",
            "1/1 [==============================] - 0s 53ms/step - loss: 0.5242 - accuracy: 0.9018 - val_loss: 0.5135 - val_accuracy: 0.9211\n",
            "Epoch 89/100\n",
            "1/1 [==============================] - 0s 34ms/step - loss: 0.5203 - accuracy: 0.9018 - val_loss: 0.5098 - val_accuracy: 0.9211\n",
            "Epoch 90/100\n",
            "1/1 [==============================] - 0s 45ms/step - loss: 0.5166 - accuracy: 0.9107 - val_loss: 0.5062 - val_accuracy: 0.9211\n",
            "Epoch 91/100\n",
            "1/1 [==============================] - 0s 37ms/step - loss: 0.5129 - accuracy: 0.9107 - val_loss: 0.5028 - val_accuracy: 0.9211\n",
            "Epoch 92/100\n",
            "1/1 [==============================] - 0s 34ms/step - loss: 0.5093 - accuracy: 0.9107 - val_loss: 0.4994 - val_accuracy: 0.9211\n",
            "Epoch 93/100\n",
            "1/1 [==============================] - 0s 34ms/step - loss: 0.5059 - accuracy: 0.9107 - val_loss: 0.4961 - val_accuracy: 0.9211\n",
            "Epoch 94/100\n",
            "1/1 [==============================] - 0s 46ms/step - loss: 0.5024 - accuracy: 0.9107 - val_loss: 0.4929 - val_accuracy: 0.9211\n",
            "Epoch 95/100\n",
            "1/1 [==============================] - 0s 41ms/step - loss: 0.4990 - accuracy: 0.9107 - val_loss: 0.4897 - val_accuracy: 0.9211\n",
            "Epoch 96/100\n",
            "1/1 [==============================] - 0s 46ms/step - loss: 0.4957 - accuracy: 0.9196 - val_loss: 0.4866 - val_accuracy: 0.9211\n",
            "Epoch 97/100\n",
            "1/1 [==============================] - 0s 39ms/step - loss: 0.4925 - accuracy: 0.9286 - val_loss: 0.4835 - val_accuracy: 0.9211\n",
            "Epoch 98/100\n",
            "1/1 [==============================] - 0s 42ms/step - loss: 0.4893 - accuracy: 0.9286 - val_loss: 0.4805 - val_accuracy: 0.9211\n",
            "Epoch 99/100\n",
            "1/1 [==============================] - 0s 35ms/step - loss: 0.4862 - accuracy: 0.9286 - val_loss: 0.4776 - val_accuracy: 0.9211\n",
            "Epoch 100/100\n",
            "1/1 [==============================] - 0s 173ms/step - loss: 0.4831 - accuracy: 0.9286 - val_loss: 0.4747 - val_accuracy: 0.9211\n"
          ]
        },
        {
          "output_type": "execute_result",
          "data": {
            "text/plain": [
              "<keras.callbacks.History at 0x7f61a851cdf0>"
            ]
          },
          "metadata": {},
          "execution_count": 17
        }
      ]
    },
    {
      "cell_type": "code",
      "source": [
        "score3 = model3.evaluate(X_test, y_test, batch_size=128) # extract loss and accuracy from test data evaluation\n",
        "print(score3)\n",
        "\n",
        "layers.append('3')\n",
        "neurons.append('64')\n",
        "test_score.append(score3)"
      ],
      "metadata": {
        "colab": {
          "base_uri": "https://localhost:8080/"
        },
        "id": "U132AMYuYM83",
        "outputId": "629688d2-03cb-4f66-a55e-b8d8cc6dcc64"
      },
      "execution_count": null,
      "outputs": [
        {
          "output_type": "stream",
          "name": "stdout",
          "text": [
            "1/1 [==============================] - 0s 21ms/step - loss: 0.4747 - accuracy: 0.9211\n",
            "[0.4746572971343994, 0.9210526347160339]\n"
          ]
        }
      ]
    },
    {
      "cell_type": "markdown",
      "source": [
        "## Model Selection"
      ],
      "metadata": {
        "id": "KmGg_REve4Fv"
      }
    },
    {
      "cell_type": "code",
      "source": [
        "table = pd.DataFrame(layers, columns=['Number of hidden layers'], index=['Model 1', 'Model 2', 'Model 3'])\n",
        "table['Number of hiddern neurons'] = neurons\n",
        "table['Test score'] = test_score\n",
        "table"
      ],
      "metadata": {
        "colab": {
          "base_uri": "https://localhost:8080/",
          "height": 143
        },
        "id": "dks69sxuYNBG",
        "outputId": "c5e67173-9e98-4867-c3c9-d2dcbda96e7b"
      },
      "execution_count": null,
      "outputs": [
        {
          "output_type": "execute_result",
          "data": {
            "text/plain": [
              "        Number of hidden layers Number of hiddern neurons  \\\n",
              "Model 1                       2                        32   \n",
              "Model 2                       3                        32   \n",
              "Model 3                       3                        64   \n",
              "\n",
              "                                        Test score  \n",
              "Model 1    [0.648918628692627, 0.8684210777282715]  \n",
              "Model 2  [0.47509267926216125, 0.8947368264198303]  \n",
              "Model 3   [0.4746572971343994, 0.9210526347160339]  "
            ],
            "text/html": [
              "\n",
              "  <div id=\"df-ba3a76d5-7cfe-471c-97fc-5a12cba2664c\">\n",
              "    <div class=\"colab-df-container\">\n",
              "      <div>\n",
              "<style scoped>\n",
              "    .dataframe tbody tr th:only-of-type {\n",
              "        vertical-align: middle;\n",
              "    }\n",
              "\n",
              "    .dataframe tbody tr th {\n",
              "        vertical-align: top;\n",
              "    }\n",
              "\n",
              "    .dataframe thead th {\n",
              "        text-align: right;\n",
              "    }\n",
              "</style>\n",
              "<table border=\"1\" class=\"dataframe\">\n",
              "  <thead>\n",
              "    <tr style=\"text-align: right;\">\n",
              "      <th></th>\n",
              "      <th>Number of hidden layers</th>\n",
              "      <th>Number of hiddern neurons</th>\n",
              "      <th>Test score</th>\n",
              "    </tr>\n",
              "  </thead>\n",
              "  <tbody>\n",
              "    <tr>\n",
              "      <th>Model 1</th>\n",
              "      <td>2</td>\n",
              "      <td>32</td>\n",
              "      <td>[0.648918628692627, 0.8684210777282715]</td>\n",
              "    </tr>\n",
              "    <tr>\n",
              "      <th>Model 2</th>\n",
              "      <td>3</td>\n",
              "      <td>32</td>\n",
              "      <td>[0.47509267926216125, 0.8947368264198303]</td>\n",
              "    </tr>\n",
              "    <tr>\n",
              "      <th>Model 3</th>\n",
              "      <td>3</td>\n",
              "      <td>64</td>\n",
              "      <td>[0.4746572971343994, 0.9210526347160339]</td>\n",
              "    </tr>\n",
              "  </tbody>\n",
              "</table>\n",
              "</div>\n",
              "      <button class=\"colab-df-convert\" onclick=\"convertToInteractive('df-ba3a76d5-7cfe-471c-97fc-5a12cba2664c')\"\n",
              "              title=\"Convert this dataframe to an interactive table.\"\n",
              "              style=\"display:none;\">\n",
              "        \n",
              "  <svg xmlns=\"http://www.w3.org/2000/svg\" height=\"24px\"viewBox=\"0 0 24 24\"\n",
              "       width=\"24px\">\n",
              "    <path d=\"M0 0h24v24H0V0z\" fill=\"none\"/>\n",
              "    <path d=\"M18.56 5.44l.94 2.06.94-2.06 2.06-.94-2.06-.94-.94-2.06-.94 2.06-2.06.94zm-11 1L8.5 8.5l.94-2.06 2.06-.94-2.06-.94L8.5 2.5l-.94 2.06-2.06.94zm10 10l.94 2.06.94-2.06 2.06-.94-2.06-.94-.94-2.06-.94 2.06-2.06.94z\"/><path d=\"M17.41 7.96l-1.37-1.37c-.4-.4-.92-.59-1.43-.59-.52 0-1.04.2-1.43.59L10.3 9.45l-7.72 7.72c-.78.78-.78 2.05 0 2.83L4 21.41c.39.39.9.59 1.41.59.51 0 1.02-.2 1.41-.59l7.78-7.78 2.81-2.81c.8-.78.8-2.07 0-2.86zM5.41 20L4 18.59l7.72-7.72 1.47 1.35L5.41 20z\"/>\n",
              "  </svg>\n",
              "      </button>\n",
              "      \n",
              "  <style>\n",
              "    .colab-df-container {\n",
              "      display:flex;\n",
              "      flex-wrap:wrap;\n",
              "      gap: 12px;\n",
              "    }\n",
              "\n",
              "    .colab-df-convert {\n",
              "      background-color: #E8F0FE;\n",
              "      border: none;\n",
              "      border-radius: 50%;\n",
              "      cursor: pointer;\n",
              "      display: none;\n",
              "      fill: #1967D2;\n",
              "      height: 32px;\n",
              "      padding: 0 0 0 0;\n",
              "      width: 32px;\n",
              "    }\n",
              "\n",
              "    .colab-df-convert:hover {\n",
              "      background-color: #E2EBFA;\n",
              "      box-shadow: 0px 1px 2px rgba(60, 64, 67, 0.3), 0px 1px 3px 1px rgba(60, 64, 67, 0.15);\n",
              "      fill: #174EA6;\n",
              "    }\n",
              "\n",
              "    [theme=dark] .colab-df-convert {\n",
              "      background-color: #3B4455;\n",
              "      fill: #D2E3FC;\n",
              "    }\n",
              "\n",
              "    [theme=dark] .colab-df-convert:hover {\n",
              "      background-color: #434B5C;\n",
              "      box-shadow: 0px 1px 3px 1px rgba(0, 0, 0, 0.15);\n",
              "      filter: drop-shadow(0px 1px 2px rgba(0, 0, 0, 0.3));\n",
              "      fill: #FFFFFF;\n",
              "    }\n",
              "  </style>\n",
              "\n",
              "      <script>\n",
              "        const buttonEl =\n",
              "          document.querySelector('#df-ba3a76d5-7cfe-471c-97fc-5a12cba2664c button.colab-df-convert');\n",
              "        buttonEl.style.display =\n",
              "          google.colab.kernel.accessAllowed ? 'block' : 'none';\n",
              "\n",
              "        async function convertToInteractive(key) {\n",
              "          const element = document.querySelector('#df-ba3a76d5-7cfe-471c-97fc-5a12cba2664c');\n",
              "          const dataTable =\n",
              "            await google.colab.kernel.invokeFunction('convertToInteractive',\n",
              "                                                     [key], {});\n",
              "          if (!dataTable) return;\n",
              "\n",
              "          const docLinkHtml = 'Like what you see? Visit the ' +\n",
              "            '<a target=\"_blank\" href=https://colab.research.google.com/notebooks/data_table.ipynb>data table notebook</a>'\n",
              "            + ' to learn more about interactive tables.';\n",
              "          element.innerHTML = '';\n",
              "          dataTable['output_type'] = 'display_data';\n",
              "          await google.colab.output.renderOutput(dataTable, element);\n",
              "          const docLink = document.createElement('div');\n",
              "          docLink.innerHTML = docLinkHtml;\n",
              "          element.appendChild(docLink);\n",
              "        }\n",
              "      </script>\n",
              "    </div>\n",
              "  </div>\n",
              "  "
            ]
          },
          "metadata": {},
          "execution_count": 19
        }
      ]
    },
    {
      "cell_type": "markdown",
      "source": [
        "Model 2, adding one more hiddern layer of 32 hidden neurons to Model 1, does not improve predictive accuracy a lot. But adding more hidden neurons in each hiddern layer as in Model 3 improves predictive accuracy to 92.11%."
      ],
      "metadata": {
        "id": "lbBf-taEe8UZ"
      }
    }
  ]
}