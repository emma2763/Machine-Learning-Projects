{
  "nbformat": 4,
  "nbformat_minor": 0,
  "metadata": {
    "colab": {
      "provenance": [],
      "toc_visible": true
    },
    "kernelspec": {
      "name": "python3",
      "display_name": "Python 3"
    },
    "language_info": {
      "name": "python"
    }
  },
  "cells": [
    {
      "cell_type": "markdown",
      "source": [
        "# Q1. Import Data\n",
        "Import the spam dataset and print the first six rows.  "
      ],
      "metadata": {
        "id": "_ilfYckdhAr7"
      }
    },
    {
      "cell_type": "code",
      "execution_count": null,
      "metadata": {
        "id": "hvneqiiwgkvK"
      },
      "outputs": [],
      "source": [
        "#Import Python libraries\n",
        "import numpy as np\n",
        "import scipy as sp\n",
        "import pandas as pd\n",
        "import matplotlib as mpl\n",
        "import seaborn as sns"
      ]
    },
    {
      "cell_type": "code",
      "source": [
        "#Import dataset\n",
        "spam = pd.read_csv(\"spam_dataset.csv\")\n",
        "\n",
        "#Print the first six rows\n",
        "spam.head(6)"
      ],
      "metadata": {
        "colab": {
          "base_uri": "https://localhost:8080/",
          "height": 331
        },
        "id": "SMGvrypzhiwr",
        "outputId": "08cf43d9-b99a-4256-a455-b184afe98f28"
      },
      "execution_count": null,
      "outputs": [
        {
          "output_type": "execute_result",
          "data": {
            "text/plain": [
              "   word_freq_make:  word_freq_address:  word_freq_all:  word_freq_3d:  \\\n",
              "0             0.00                0.64            0.64            0.0   \n",
              "1             0.21                0.28            0.50            0.0   \n",
              "2             0.06                0.00            0.71            0.0   \n",
              "3             0.00                0.00            0.00            0.0   \n",
              "4             0.00                0.00            0.00            0.0   \n",
              "5             0.00                0.00            0.00            0.0   \n",
              "\n",
              "   word_freq_our:  word_freq_over:  word_freq_remove:  word_freq_internet:  \\\n",
              "0            0.32             0.00               0.00                 0.00   \n",
              "1            0.14             0.28               0.21                 0.07   \n",
              "2            1.23             0.19               0.19                 0.12   \n",
              "3            0.63             0.00               0.31                 0.63   \n",
              "4            0.63             0.00               0.31                 0.63   \n",
              "5            1.85             0.00               0.00                 1.85   \n",
              "\n",
              "   word_freq_order:  word_freq_mail:  ...  char_freq_;:  char_freq_(:  \\\n",
              "0              0.00             0.00  ...          0.00         0.000   \n",
              "1              0.00             0.94  ...          0.00         0.132   \n",
              "2              0.64             0.25  ...          0.01         0.143   \n",
              "3              0.31             0.63  ...          0.00         0.137   \n",
              "4              0.31             0.63  ...          0.00         0.135   \n",
              "5              0.00             0.00  ...          0.00         0.223   \n",
              "\n",
              "   char_freq_[:  char_freq_!:  char_freq_$:  char_freq_#:  \\\n",
              "0           0.0         0.778         0.000         0.000   \n",
              "1           0.0         0.372         0.180         0.048   \n",
              "2           0.0         0.276         0.184         0.010   \n",
              "3           0.0         0.137         0.000         0.000   \n",
              "4           0.0         0.135         0.000         0.000   \n",
              "5           0.0         0.000         0.000         0.000   \n",
              "\n",
              "   capital_run_length_average:  capital_run_length_longest:  \\\n",
              "0                        3.756                           61   \n",
              "1                        5.114                          101   \n",
              "2                        9.821                          485   \n",
              "3                        3.537                           40   \n",
              "4                        3.537                           40   \n",
              "5                        3.000                           15   \n",
              "\n",
              "   capital_run_length_total:  spam  \n",
              "0                        278     1  \n",
              "1                       1028     1  \n",
              "2                       2259     1  \n",
              "3                        191     1  \n",
              "4                        191     1  \n",
              "5                         54     1  \n",
              "\n",
              "[6 rows x 58 columns]"
            ],
            "text/html": [
              "\n",
              "  <div id=\"df-2c3dc72c-5602-4a9a-a666-c544c603a607\">\n",
              "    <div class=\"colab-df-container\">\n",
              "      <div>\n",
              "<style scoped>\n",
              "    .dataframe tbody tr th:only-of-type {\n",
              "        vertical-align: middle;\n",
              "    }\n",
              "\n",
              "    .dataframe tbody tr th {\n",
              "        vertical-align: top;\n",
              "    }\n",
              "\n",
              "    .dataframe thead th {\n",
              "        text-align: right;\n",
              "    }\n",
              "</style>\n",
              "<table border=\"1\" class=\"dataframe\">\n",
              "  <thead>\n",
              "    <tr style=\"text-align: right;\">\n",
              "      <th></th>\n",
              "      <th>word_freq_make:</th>\n",
              "      <th>word_freq_address:</th>\n",
              "      <th>word_freq_all:</th>\n",
              "      <th>word_freq_3d:</th>\n",
              "      <th>word_freq_our:</th>\n",
              "      <th>word_freq_over:</th>\n",
              "      <th>word_freq_remove:</th>\n",
              "      <th>word_freq_internet:</th>\n",
              "      <th>word_freq_order:</th>\n",
              "      <th>word_freq_mail:</th>\n",
              "      <th>...</th>\n",
              "      <th>char_freq_;:</th>\n",
              "      <th>char_freq_(:</th>\n",
              "      <th>char_freq_[:</th>\n",
              "      <th>char_freq_!:</th>\n",
              "      <th>char_freq_$:</th>\n",
              "      <th>char_freq_#:</th>\n",
              "      <th>capital_run_length_average:</th>\n",
              "      <th>capital_run_length_longest:</th>\n",
              "      <th>capital_run_length_total:</th>\n",
              "      <th>spam</th>\n",
              "    </tr>\n",
              "  </thead>\n",
              "  <tbody>\n",
              "    <tr>\n",
              "      <th>0</th>\n",
              "      <td>0.00</td>\n",
              "      <td>0.64</td>\n",
              "      <td>0.64</td>\n",
              "      <td>0.0</td>\n",
              "      <td>0.32</td>\n",
              "      <td>0.00</td>\n",
              "      <td>0.00</td>\n",
              "      <td>0.00</td>\n",
              "      <td>0.00</td>\n",
              "      <td>0.00</td>\n",
              "      <td>...</td>\n",
              "      <td>0.00</td>\n",
              "      <td>0.000</td>\n",
              "      <td>0.0</td>\n",
              "      <td>0.778</td>\n",
              "      <td>0.000</td>\n",
              "      <td>0.000</td>\n",
              "      <td>3.756</td>\n",
              "      <td>61</td>\n",
              "      <td>278</td>\n",
              "      <td>1</td>\n",
              "    </tr>\n",
              "    <tr>\n",
              "      <th>1</th>\n",
              "      <td>0.21</td>\n",
              "      <td>0.28</td>\n",
              "      <td>0.50</td>\n",
              "      <td>0.0</td>\n",
              "      <td>0.14</td>\n",
              "      <td>0.28</td>\n",
              "      <td>0.21</td>\n",
              "      <td>0.07</td>\n",
              "      <td>0.00</td>\n",
              "      <td>0.94</td>\n",
              "      <td>...</td>\n",
              "      <td>0.00</td>\n",
              "      <td>0.132</td>\n",
              "      <td>0.0</td>\n",
              "      <td>0.372</td>\n",
              "      <td>0.180</td>\n",
              "      <td>0.048</td>\n",
              "      <td>5.114</td>\n",
              "      <td>101</td>\n",
              "      <td>1028</td>\n",
              "      <td>1</td>\n",
              "    </tr>\n",
              "    <tr>\n",
              "      <th>2</th>\n",
              "      <td>0.06</td>\n",
              "      <td>0.00</td>\n",
              "      <td>0.71</td>\n",
              "      <td>0.0</td>\n",
              "      <td>1.23</td>\n",
              "      <td>0.19</td>\n",
              "      <td>0.19</td>\n",
              "      <td>0.12</td>\n",
              "      <td>0.64</td>\n",
              "      <td>0.25</td>\n",
              "      <td>...</td>\n",
              "      <td>0.01</td>\n",
              "      <td>0.143</td>\n",
              "      <td>0.0</td>\n",
              "      <td>0.276</td>\n",
              "      <td>0.184</td>\n",
              "      <td>0.010</td>\n",
              "      <td>9.821</td>\n",
              "      <td>485</td>\n",
              "      <td>2259</td>\n",
              "      <td>1</td>\n",
              "    </tr>\n",
              "    <tr>\n",
              "      <th>3</th>\n",
              "      <td>0.00</td>\n",
              "      <td>0.00</td>\n",
              "      <td>0.00</td>\n",
              "      <td>0.0</td>\n",
              "      <td>0.63</td>\n",
              "      <td>0.00</td>\n",
              "      <td>0.31</td>\n",
              "      <td>0.63</td>\n",
              "      <td>0.31</td>\n",
              "      <td>0.63</td>\n",
              "      <td>...</td>\n",
              "      <td>0.00</td>\n",
              "      <td>0.137</td>\n",
              "      <td>0.0</td>\n",
              "      <td>0.137</td>\n",
              "      <td>0.000</td>\n",
              "      <td>0.000</td>\n",
              "      <td>3.537</td>\n",
              "      <td>40</td>\n",
              "      <td>191</td>\n",
              "      <td>1</td>\n",
              "    </tr>\n",
              "    <tr>\n",
              "      <th>4</th>\n",
              "      <td>0.00</td>\n",
              "      <td>0.00</td>\n",
              "      <td>0.00</td>\n",
              "      <td>0.0</td>\n",
              "      <td>0.63</td>\n",
              "      <td>0.00</td>\n",
              "      <td>0.31</td>\n",
              "      <td>0.63</td>\n",
              "      <td>0.31</td>\n",
              "      <td>0.63</td>\n",
              "      <td>...</td>\n",
              "      <td>0.00</td>\n",
              "      <td>0.135</td>\n",
              "      <td>0.0</td>\n",
              "      <td>0.135</td>\n",
              "      <td>0.000</td>\n",
              "      <td>0.000</td>\n",
              "      <td>3.537</td>\n",
              "      <td>40</td>\n",
              "      <td>191</td>\n",
              "      <td>1</td>\n",
              "    </tr>\n",
              "    <tr>\n",
              "      <th>5</th>\n",
              "      <td>0.00</td>\n",
              "      <td>0.00</td>\n",
              "      <td>0.00</td>\n",
              "      <td>0.0</td>\n",
              "      <td>1.85</td>\n",
              "      <td>0.00</td>\n",
              "      <td>0.00</td>\n",
              "      <td>1.85</td>\n",
              "      <td>0.00</td>\n",
              "      <td>0.00</td>\n",
              "      <td>...</td>\n",
              "      <td>0.00</td>\n",
              "      <td>0.223</td>\n",
              "      <td>0.0</td>\n",
              "      <td>0.000</td>\n",
              "      <td>0.000</td>\n",
              "      <td>0.000</td>\n",
              "      <td>3.000</td>\n",
              "      <td>15</td>\n",
              "      <td>54</td>\n",
              "      <td>1</td>\n",
              "    </tr>\n",
              "  </tbody>\n",
              "</table>\n",
              "<p>6 rows × 58 columns</p>\n",
              "</div>\n",
              "      <button class=\"colab-df-convert\" onclick=\"convertToInteractive('df-2c3dc72c-5602-4a9a-a666-c544c603a607')\"\n",
              "              title=\"Convert this dataframe to an interactive table.\"\n",
              "              style=\"display:none;\">\n",
              "        \n",
              "  <svg xmlns=\"http://www.w3.org/2000/svg\" height=\"24px\"viewBox=\"0 0 24 24\"\n",
              "       width=\"24px\">\n",
              "    <path d=\"M0 0h24v24H0V0z\" fill=\"none\"/>\n",
              "    <path d=\"M18.56 5.44l.94 2.06.94-2.06 2.06-.94-2.06-.94-.94-2.06-.94 2.06-2.06.94zm-11 1L8.5 8.5l.94-2.06 2.06-.94-2.06-.94L8.5 2.5l-.94 2.06-2.06.94zm10 10l.94 2.06.94-2.06 2.06-.94-2.06-.94-.94-2.06-.94 2.06-2.06.94z\"/><path d=\"M17.41 7.96l-1.37-1.37c-.4-.4-.92-.59-1.43-.59-.52 0-1.04.2-1.43.59L10.3 9.45l-7.72 7.72c-.78.78-.78 2.05 0 2.83L4 21.41c.39.39.9.59 1.41.59.51 0 1.02-.2 1.41-.59l7.78-7.78 2.81-2.81c.8-.78.8-2.07 0-2.86zM5.41 20L4 18.59l7.72-7.72 1.47 1.35L5.41 20z\"/>\n",
              "  </svg>\n",
              "      </button>\n",
              "      \n",
              "  <style>\n",
              "    .colab-df-container {\n",
              "      display:flex;\n",
              "      flex-wrap:wrap;\n",
              "      gap: 12px;\n",
              "    }\n",
              "\n",
              "    .colab-df-convert {\n",
              "      background-color: #E8F0FE;\n",
              "      border: none;\n",
              "      border-radius: 50%;\n",
              "      cursor: pointer;\n",
              "      display: none;\n",
              "      fill: #1967D2;\n",
              "      height: 32px;\n",
              "      padding: 0 0 0 0;\n",
              "      width: 32px;\n",
              "    }\n",
              "\n",
              "    .colab-df-convert:hover {\n",
              "      background-color: #E2EBFA;\n",
              "      box-shadow: 0px 1px 2px rgba(60, 64, 67, 0.3), 0px 1px 3px 1px rgba(60, 64, 67, 0.15);\n",
              "      fill: #174EA6;\n",
              "    }\n",
              "\n",
              "    [theme=dark] .colab-df-convert {\n",
              "      background-color: #3B4455;\n",
              "      fill: #D2E3FC;\n",
              "    }\n",
              "\n",
              "    [theme=dark] .colab-df-convert:hover {\n",
              "      background-color: #434B5C;\n",
              "      box-shadow: 0px 1px 3px 1px rgba(0, 0, 0, 0.15);\n",
              "      filter: drop-shadow(0px 1px 2px rgba(0, 0, 0, 0.3));\n",
              "      fill: #FFFFFF;\n",
              "    }\n",
              "  </style>\n",
              "\n",
              "      <script>\n",
              "        const buttonEl =\n",
              "          document.querySelector('#df-2c3dc72c-5602-4a9a-a666-c544c603a607 button.colab-df-convert');\n",
              "        buttonEl.style.display =\n",
              "          google.colab.kernel.accessAllowed ? 'block' : 'none';\n",
              "\n",
              "        async function convertToInteractive(key) {\n",
              "          const element = document.querySelector('#df-2c3dc72c-5602-4a9a-a666-c544c603a607');\n",
              "          const dataTable =\n",
              "            await google.colab.kernel.invokeFunction('convertToInteractive',\n",
              "                                                     [key], {});\n",
              "          if (!dataTable) return;\n",
              "\n",
              "          const docLinkHtml = 'Like what you see? Visit the ' +\n",
              "            '<a target=\"_blank\" href=https://colab.research.google.com/notebooks/data_table.ipynb>data table notebook</a>'\n",
              "            + ' to learn more about interactive tables.';\n",
              "          element.innerHTML = '';\n",
              "          dataTable['output_type'] = 'display_data';\n",
              "          await google.colab.output.renderOutput(dataTable, element);\n",
              "          const docLink = document.createElement('div');\n",
              "          docLink.innerHTML = docLinkHtml;\n",
              "          element.appendChild(docLink);\n",
              "        }\n",
              "      </script>\n",
              "    </div>\n",
              "  </div>\n",
              "  "
            ]
          },
          "metadata": {},
          "execution_count": 2
        }
      ]
    },
    {
      "cell_type": "markdown",
      "source": [
        "# Q2. Three Predictors\n",
        "Read through the documentation of the original dataset here: http://archive.ics.uci.edu/ml/machine-learning-databases/spambase/spambase.names The dependent variable is \"spam\" where one indicates that an email is spam and zero otherwise. Which three variables in the dataset do you think will be important predictors in a model of spam? Why?"
      ],
      "metadata": {
        "id": "kSG-EDBijVxK"
      }
    },
    {
      "cell_type": "markdown",
      "source": [
        "After reading through the documentation, I make a guess that \"word_freq_george\", \"char_freq_dollarsign\", and 'capital_run_length_average' could be important predictors in a model of spam based on my experiences. \"George\" is a specific name, which is unlikely to appear in spam emails. Promotion spam emails often include words such as \"Deals under **$**25!\". Long uninterrupted sequence of capital letters could be the names of those companies or organizations that send spam emails."
      ],
      "metadata": {
        "id": "HOFTsPpMkF00"
      }
    },
    {
      "cell_type": "markdown",
      "source": [
        "I draw scatter plots to see the correlations between spam and the three predictors. From the plots, it does seem that spam emails have larger word frequency of 'free', higher character frequency of '$', and longer uninterrupted sequence of capital letters."
      ],
      "metadata": {
        "id": "m_TAGMnkgUep"
      }
    },
    {
      "cell_type": "code",
      "source": [
        "from matplotlib import pyplot as plt\n",
        "%matplotlib inline"
      ],
      "metadata": {
        "id": "NCBjomPppPYx"
      },
      "execution_count": null,
      "outputs": []
    },
    {
      "cell_type": "code",
      "source": [
        "plt.scatter(spam['spam'], spam['word_freq_george:'])\n",
        "plt.title('Spam by word frequency of george')\n",
        "plt.xlabel('Spam')\n",
        "plt.ylabel('word_freq_george')"
      ],
      "metadata": {
        "id": "4crQFe5mokna",
        "colab": {
          "base_uri": "https://localhost:8080/",
          "height": 312
        },
        "outputId": "a2a423c6-bba4-4a29-9dd5-e0e14d9f4f57"
      },
      "execution_count": null,
      "outputs": [
        {
          "output_type": "execute_result",
          "data": {
            "text/plain": [
              "Text(0, 0.5, 'word_freq_george')"
            ]
          },
          "metadata": {},
          "execution_count": 4
        },
        {
          "output_type": "display_data",
          "data": {
            "text/plain": [
              "<Figure size 432x288 with 1 Axes>"
            ],
            "image/png": "[encoded data removed]"
          },
          "metadata": {
            "needs_background": "light"
          }
        }
      ]
    },
    {
      "cell_type": "code",
      "source": [
        "plt.scatter(spam['spam'], spam['char_freq_$:'])\n",
        "plt.title('Spam by character frequency of $')\n",
        "plt.xlabel('Spam')\n",
        "plt.ylabel('char_freq_$')"
      ],
      "metadata": {
        "colab": {
          "base_uri": "https://localhost:8080/",
          "height": 312
        },
        "id": "p_NEQfWsfXGC",
        "outputId": "ee7fbcff-5bda-45e5-906d-243cb6bf23c6"
      },
      "execution_count": null,
      "outputs": [
        {
          "output_type": "execute_result",
          "data": {
            "text/plain": [
              "Text(0, 0.5, 'char_freq_$')"
            ]
          },
          "metadata": {},
          "execution_count": 5
        },
        {
          "output_type": "display_data",
          "data": {
            "text/plain": [
              "<Figure size 432x288 with 1 Axes>"
            ],
            "image/png": "[encoded data removed]"
          },
          "metadata": {
            "needs_background": "light"
          }
        }
      ]
    },
    {
      "cell_type": "code",
      "source": [
        "plt.scatter(spam['spam'], spam['capital_run_length_average:'])\n",
        "plt.title('Spam by Average length of uninterrupted sequences of capital letters')\n",
        "plt.xlabel('Spam')\n",
        "plt.ylabel('capital_run_length_average')"
      ],
      "metadata": {
        "colab": {
          "base_uri": "https://localhost:8080/",
          "height": 312
        },
        "id": "qYpdrREtfXQm",
        "outputId": "9fbccc8f-a28a-422d-98fc-6be2f1f7d429"
      },
      "execution_count": null,
      "outputs": [
        {
          "output_type": "execute_result",
          "data": {
            "text/plain": [
              "Text(0, 0.5, 'capital_run_length_average')"
            ]
          },
          "metadata": {},
          "execution_count": 6
        },
        {
          "output_type": "display_data",
          "data": {
            "text/plain": [
              "<Figure size 432x288 with 1 Axes>"
            ],
            "image/png": "[encoded data removed]"
          },
          "metadata": {
            "needs_background": "light"
          }
        }
      ]
    },
    {
      "cell_type": "markdown",
      "source": [
        "# Q3. Distribution of Predictors\n",
        "Visualize the univariate distribution of each of the variables in the previous question.  "
      ],
      "metadata": {
        "id": "0vf839OVgFHT"
      }
    },
    {
      "cell_type": "code",
      "source": [
        "spam['word_freq_george:'].hist()\n",
        "plt.xlabel('Percentage of \"george\" in the e-mail')\n",
        "plt.ylabel('Count')"
      ],
      "metadata": {
        "colab": {
          "base_uri": "https://localhost:8080/",
          "height": 296
        },
        "id": "z6eMILbggQBd",
        "outputId": "ff935b9a-c07d-4a65-89f8-29264f703554"
      },
      "execution_count": null,
      "outputs": [
        {
          "output_type": "execute_result",
          "data": {
            "text/plain": [
              "Text(0, 0.5, 'Count')"
            ]
          },
          "metadata": {},
          "execution_count": 7
        },
        {
          "output_type": "display_data",
          "data": {
            "text/plain": [
              "<Figure size 432x288 with 1 Axes>"
            ],
            "image/png": "[encoded data removed]"
          },
          "metadata": {
            "needs_background": "light"
          }
        }
      ]
    },
    {
      "cell_type": "code",
      "source": [
        "spam['char_freq_$:'].hist()\n",
        "plt.xlabel('Percentage of \"$\" in the e-mail')\n",
        "plt.ylabel('Count')"
      ],
      "metadata": {
        "colab": {
          "base_uri": "https://localhost:8080/",
          "height": 297
        },
        "id": "yGJNoAJghcf6",
        "outputId": "90e32066-30b1-4573-fafd-34d68cb2776e"
      },
      "execution_count": null,
      "outputs": [
        {
          "output_type": "execute_result",
          "data": {
            "text/plain": [
              "Text(0, 0.5, 'Count')"
            ]
          },
          "metadata": {},
          "execution_count": 10
        },
        {
          "output_type": "display_data",
          "data": {
            "text/plain": [
              "<Figure size 432x288 with 1 Axes>"
            ],
            "image/png": "[encoded data removed]"
          },
          "metadata": {
            "needs_background": "light"
          }
        }
      ]
    },
    {
      "cell_type": "code",
      "source": [
        "spam['capital_run_length_average:'].hist()\n",
        "plt.xlabel('Average length of uninterrupted sequences of capital letters')\n",
        "plt.ylabel('Count')"
      ],
      "metadata": {
        "colab": {
          "base_uri": "https://localhost:8080/",
          "height": 297
        },
        "id": "OdHGjj4qh4Eh",
        "outputId": "fe34fe8d-378f-45e6-8722-0e0601f8711b"
      },
      "execution_count": null,
      "outputs": [
        {
          "output_type": "execute_result",
          "data": {
            "text/plain": [
              "Text(0, 0.5, 'Count')"
            ]
          },
          "metadata": {},
          "execution_count": 11
        },
        {
          "output_type": "display_data",
          "data": {
            "text/plain": [
              "<Figure size 432x288 with 1 Axes>"
            ],
            "image/png": "[encoded data removed]"
          },
          "metadata": {
            "needs_background": "light"
          }
        }
      ]
    },
    {
      "cell_type": "markdown",
      "source": [
        "# Q4. List Supervised Models for Classification\n",
        "Name each of the supervised learning models that we have learned thus far that are used to predict dependent variables like \"spam\".   "
      ],
      "metadata": {
        "id": "W-oJonMSjgc3"
      }
    },
    {
      "cell_type": "markdown",
      "source": [
        "1. K Nearest Neighbors (KNN) Classification\n",
        "\n",
        "2. Logistic Regression\n",
        "\n",
        "3. Penalized Logistic Regression (l1 or l2 penalty)\n",
        "\n",
        "4. Decision-tree Classification\n",
        "\n",
        "5. Bagging Classification Trees\n",
        "\n",
        "6. Random Forests for Classification\n",
        "\n",
        "7. Boosting for Classification\n",
        "\n",
        "7. Support Vector Machines (SVM) for Classification\n",
        "\n",
        "\n"
      ],
      "metadata": {
        "id": "S5fNpOoYjwQ-"
      }
    },
    {
      "cell_type": "markdown",
      "source": [
        "# Q5. Training and Test Data\n",
        "Describe the importance of training and test data. Why do we separate data into these subsets?"
      ],
      "metadata": {
        "id": "BL6ivfmEj9bX"
      }
    },
    {
      "cell_type": "markdown",
      "source": [
        "We want to build a machine learning model from data that can predict well for a new, unseen set of measurements. But before we can apply our model to new measurements, we need to know whether it actually works—that is, whether we should trust its predictions.\n",
        "Unfortunately, we cannot use the data we used to build the model to evaluate it. This is because our model can always simply remember the whole training set, and will therefore always predict the correct label for any point in the training set. This “remembering” does not indicate to us whether our model will generalize well (in other words, whether it will also perform well on new data).\n",
        "\n",
        "To assess the model’s performance, we show it new data (data that it hasn’t seen before). This is usually done by splitting the labeled data we have collected into two parts. One part of the data is used to build our machine learning model, and is called the training data or training set. The rest of the data will be used to assess how well the model works; this is called the test data, test set, or hold-out set.\n",
        "\n",
        "***Reference***: Müller, A. C., & Guido, S. (2016). Introduction to machine learning with Python: a guide for data scientists. \" O'Reilly Media, Inc.\"."
      ],
      "metadata": {
        "id": "Os2_MNdckKgl"
      }
    },
    {
      "cell_type": "markdown",
      "source": [
        "# Q6. K-fold Cross Validation\n",
        "What is k-fold cross validation and what do we use it for?"
      ],
      "metadata": {
        "id": "g6iCwE23kNMi"
      }
    },
    {
      "cell_type": "markdown",
      "source": [
        "Cross-validation is a statistical method of evaluating generalization performance that is more stable and thorough than using a split into a training and a test set. \n",
        "\n",
        "In cross- validation, the data is instead split repeatedly and multiple models are trained. The most commonly used version of cross-validation is k-fold cross-validation, where k is a user-specified number, usually 5 or 10. \n",
        "\n",
        "When performing five-fold cross-validation, the data is first partitioned into five parts of (approximately) equal size, called folds. Next, a sequence of models is trained. The first model is trained using the first fold as the test set, and the remaining folds (2–5) are used as the training set. The model is built using the data in folds 2–5, and then the accuracy is evaluated on fold 1. Then another model is built, this time using fold 2 as the test set and the data in folds 1, 3, 4, and 5 as the training set. This process is repeated using folds 3, 4, and 5 as test sets. For each of these five splits of the data into training and test sets, we compute the accuracy. In the end, we have collected five accuracy values. \n",
        "\n",
        "There are several benefits to using cross-validation instead of a single split into a training and a test set. First, when using cross-validation, each example will be in the training set exactly once: each example is in one of the folds, and each fold is the test set once. Therefore, the model needs to generalize well to all of the samples in the dataset for all of the cross-validation scores (and their mean) to be high. Second, having multiple splits of the data also provides some information about how sensitive our model is to the selection of the training dataset. A third benefit of cross-validation as compared to using a single split of the data is that we use our data more effectively. More data will usually result in more accurate models.\n",
        "\n",
        "***Reference***: Müller, A. C., & Guido, S. (2016). Introduction to machine learning with Python: a guide for data scientists. \" O'Reilly Media, Inc.\"."
      ],
      "metadata": {
        "id": "df4v2LyNkUHg"
      }
    },
    {
      "cell_type": "markdown",
      "source": [
        "# Q7. K-fold Cross Validation vs Stratified K-fold Cross Validation\n",
        "How is k-fold cross validation different from stratified k-fold cross validation?"
      ],
      "metadata": {
        "id": "8mVCgRlQkUun"
      }
    },
    {
      "cell_type": "markdown",
      "source": [
        "In stratified k-fold cross-validation, we split the data such that the proportions between classes are the same in each fold as they are in the whole dataset. However, k-fold cross validation just splits the dataset into k folds by starting with the first one-k-th part of the data.\n",
        "\n",
        "\n",
        "It is usually a good idea to use stratified k-fold cross-validation instead of k-fold cross-validation to evaluate a classifier, because it results in more reliable estimates of generalization performance. In the case of only 10% of samples belonging to class B, using standard k-fold cross-validation it might easily happen that one fold only contains samples of class A. Using this fold as a test set would not be very informative about the overall performance of the classifier.\n",
        "\n",
        "***Reference***: Müller, A. C., & Guido, S. (2016). Introduction to machine learning with Python: a guide for data scientists. \" O'Reilly Media, Inc.\"."
      ],
      "metadata": {
        "id": "FAU41te6kgYF"
      }
    },
    {
      "cell_type": "markdown",
      "source": [
        "# Q8. Train Model #1: KNN Classification\n",
        "Choose one model from question four. \n",
        "\n",
        "Split the data into training and test subsets. \n",
        "\n",
        "Build a model with the three variables in the dataset that you think will be good predictors of \"spam\".  \n",
        "\n",
        "Describe why you chose any particular parameters for your model (e.g.- if you used KNN how did you decide to choose a specific value for k).  \n",
        "\n",
        "Run the model and evaluate prediction error in two ways: A) On test data directly and B) using k-fold cross-validation.  "
      ],
      "metadata": {
        "id": "IN-K0iSmkhKP"
      }
    },
    {
      "cell_type": "markdown",
      "source": [
        "## X, y"
      ],
      "metadata": {
        "id": "qkNiwaSfk4I7"
      }
    },
    {
      "cell_type": "code",
      "source": [
        "y = spam['spam']\n",
        "X = spam.loc[:, ['word_freq_george:', 'char_freq_$:', 'capital_run_length_average:']]\n",
        "\n",
        "print(y[0:5])\n",
        "X.head()"
      ],
      "metadata": {
        "colab": {
          "base_uri": "https://localhost:8080/",
          "height": 310
        },
        "id": "rjHmxyTYj3_4",
        "outputId": "b6ca859d-e73e-4900-a303-8c33d96fdb44"
      },
      "execution_count": null,
      "outputs": [
        {
          "output_type": "stream",
          "name": "stdout",
          "text": [
            "0    1\n",
            "1    1\n",
            "2    1\n",
            "3    1\n",
            "4    1\n",
            "Name: spam, dtype: int64\n"
          ]
        },
        {
          "output_type": "execute_result",
          "data": {
            "text/plain": [
              "   word_freq_george:  char_freq_$:  capital_run_length_average:\n",
              "0                0.0         0.000                        3.756\n",
              "1                0.0         0.180                        5.114\n",
              "2                0.0         0.184                        9.821\n",
              "3                0.0         0.000                        3.537\n",
              "4                0.0         0.000                        3.537"
            ],
            "text/html": [
              "\n",
              "  <div id=\"df-e284f070-10ac-456d-9fb6-dd06163933fe\">\n",
              "    <div class=\"colab-df-container\">\n",
              "      <div>\n",
              "<style scoped>\n",
              "    .dataframe tbody tr th:only-of-type {\n",
              "        vertical-align: middle;\n",
              "    }\n",
              "\n",
              "    .dataframe tbody tr th {\n",
              "        vertical-align: top;\n",
              "    }\n",
              "\n",
              "    .dataframe thead th {\n",
              "        text-align: right;\n",
              "    }\n",
              "</style>\n",
              "<table border=\"1\" class=\"dataframe\">\n",
              "  <thead>\n",
              "    <tr style=\"text-align: right;\">\n",
              "      <th></th>\n",
              "      <th>word_freq_george:</th>\n",
              "      <th>char_freq_$:</th>\n",
              "      <th>capital_run_length_average:</th>\n",
              "    </tr>\n",
              "  </thead>\n",
              "  <tbody>\n",
              "    <tr>\n",
              "      <th>0</th>\n",
              "      <td>0.0</td>\n",
              "      <td>0.000</td>\n",
              "      <td>3.756</td>\n",
              "    </tr>\n",
              "    <tr>\n",
              "      <th>1</th>\n",
              "      <td>0.0</td>\n",
              "      <td>0.180</td>\n",
              "      <td>5.114</td>\n",
              "    </tr>\n",
              "    <tr>\n",
              "      <th>2</th>\n",
              "      <td>0.0</td>\n",
              "      <td>0.184</td>\n",
              "      <td>9.821</td>\n",
              "    </tr>\n",
              "    <tr>\n",
              "      <th>3</th>\n",
              "      <td>0.0</td>\n",
              "      <td>0.000</td>\n",
              "      <td>3.537</td>\n",
              "    </tr>\n",
              "    <tr>\n",
              "      <th>4</th>\n",
              "      <td>0.0</td>\n",
              "      <td>0.000</td>\n",
              "      <td>3.537</td>\n",
              "    </tr>\n",
              "  </tbody>\n",
              "</table>\n",
              "</div>\n",
              "      <button class=\"colab-df-convert\" onclick=\"convertToInteractive('df-e284f070-10ac-456d-9fb6-dd06163933fe')\"\n",
              "              title=\"Convert this dataframe to an interactive table.\"\n",
              "              style=\"display:none;\">\n",
              "        \n",
              "  <svg xmlns=\"http://www.w3.org/2000/svg\" height=\"24px\"viewBox=\"0 0 24 24\"\n",
              "       width=\"24px\">\n",
              "    <path d=\"M0 0h24v24H0V0z\" fill=\"none\"/>\n",
              "    <path d=\"M18.56 5.44l.94 2.06.94-2.06 2.06-.94-2.06-.94-.94-2.06-.94 2.06-2.06.94zm-11 1L8.5 8.5l.94-2.06 2.06-.94-2.06-.94L8.5 2.5l-.94 2.06-2.06.94zm10 10l.94 2.06.94-2.06 2.06-.94-2.06-.94-.94-2.06-.94 2.06-2.06.94z\"/><path d=\"M17.41 7.96l-1.37-1.37c-.4-.4-.92-.59-1.43-.59-.52 0-1.04.2-1.43.59L10.3 9.45l-7.72 7.72c-.78.78-.78 2.05 0 2.83L4 21.41c.39.39.9.59 1.41.59.51 0 1.02-.2 1.41-.59l7.78-7.78 2.81-2.81c.8-.78.8-2.07 0-2.86zM5.41 20L4 18.59l7.72-7.72 1.47 1.35L5.41 20z\"/>\n",
              "  </svg>\n",
              "      </button>\n",
              "      \n",
              "  <style>\n",
              "    .colab-df-container {\n",
              "      display:flex;\n",
              "      flex-wrap:wrap;\n",
              "      gap: 12px;\n",
              "    }\n",
              "\n",
              "    .colab-df-convert {\n",
              "      background-color: #E8F0FE;\n",
              "      border: none;\n",
              "      border-radius: 50%;\n",
              "      cursor: pointer;\n",
              "      display: none;\n",
              "      fill: #1967D2;\n",
              "      height: 32px;\n",
              "      padding: 0 0 0 0;\n",
              "      width: 32px;\n",
              "    }\n",
              "\n",
              "    .colab-df-convert:hover {\n",
              "      background-color: #E2EBFA;\n",
              "      box-shadow: 0px 1px 2px rgba(60, 64, 67, 0.3), 0px 1px 3px 1px rgba(60, 64, 67, 0.15);\n",
              "      fill: #174EA6;\n",
              "    }\n",
              "\n",
              "    [theme=dark] .colab-df-convert {\n",
              "      background-color: #3B4455;\n",
              "      fill: #D2E3FC;\n",
              "    }\n",
              "\n",
              "    [theme=dark] .colab-df-convert:hover {\n",
              "      background-color: #434B5C;\n",
              "      box-shadow: 0px 1px 3px 1px rgba(0, 0, 0, 0.15);\n",
              "      filter: drop-shadow(0px 1px 2px rgba(0, 0, 0, 0.3));\n",
              "      fill: #FFFFFF;\n",
              "    }\n",
              "  </style>\n",
              "\n",
              "      <script>\n",
              "        const buttonEl =\n",
              "          document.querySelector('#df-e284f070-10ac-456d-9fb6-dd06163933fe button.colab-df-convert');\n",
              "        buttonEl.style.display =\n",
              "          google.colab.kernel.accessAllowed ? 'block' : 'none';\n",
              "\n",
              "        async function convertToInteractive(key) {\n",
              "          const element = document.querySelector('#df-e284f070-10ac-456d-9fb6-dd06163933fe');\n",
              "          const dataTable =\n",
              "            await google.colab.kernel.invokeFunction('convertToInteractive',\n",
              "                                                     [key], {});\n",
              "          if (!dataTable) return;\n",
              "\n",
              "          const docLinkHtml = 'Like what you see? Visit the ' +\n",
              "            '<a target=\"_blank\" href=https://colab.research.google.com/notebooks/data_table.ipynb>data table notebook</a>'\n",
              "            + ' to learn more about interactive tables.';\n",
              "          element.innerHTML = '';\n",
              "          dataTable['output_type'] = 'display_data';\n",
              "          await google.colab.output.renderOutput(dataTable, element);\n",
              "          const docLink = document.createElement('div');\n",
              "          docLink.innerHTML = docLinkHtml;\n",
              "          element.appendChild(docLink);\n",
              "        }\n",
              "      </script>\n",
              "    </div>\n",
              "  </div>\n",
              "  "
            ]
          },
          "metadata": {},
          "execution_count": 8
        }
      ]
    },
    {
      "cell_type": "markdown",
      "source": [
        "## Train test split"
      ],
      "metadata": {
        "id": "U03RZLevSE6Q"
      }
    },
    {
      "cell_type": "code",
      "source": [
        "from sklearn.model_selection import train_test_split\n",
        "\n",
        "# Use train_test_split(X,y) to create four new data sets, defaults to .75/.25 split\n",
        "X_train, X_test, y_train, y_test = train_test_split(X, y, stratify=y, random_state=73)\n",
        "\n",
        "print(X.shape)\n",
        "X_train.shape"
      ],
      "metadata": {
        "colab": {
          "base_uri": "https://localhost:8080/"
        },
        "id": "PCJ3G6XLSJfU",
        "outputId": "10115b98-5529-4528-aeeb-b91e96941c63"
      },
      "execution_count": null,
      "outputs": [
        {
          "output_type": "stream",
          "name": "stdout",
          "text": [
            "(4601, 3)\n"
          ]
        },
        {
          "output_type": "execute_result",
          "data": {
            "text/plain": [
              "(3450, 3)"
            ]
          },
          "metadata": {},
          "execution_count": 9
        }
      ]
    },
    {
      "cell_type": "markdown",
      "source": [
        "## Scale data using StandardScalar\n"
      ],
      "metadata": {
        "id": "VopSEGlpSZ6l"
      }
    },
    {
      "cell_type": "code",
      "source": [
        "from sklearn.preprocessing import StandardScaler\n",
        "scaler = StandardScaler().fit(X_train)\n",
        "X_train_scaled = scaler.transform(X_train)\n",
        "X_test_scaled = scaler.transform(X_test)"
      ],
      "metadata": {
        "id": "m2gE2JohSls1"
      },
      "execution_count": null,
      "outputs": []
    },
    {
      "cell_type": "markdown",
      "source": [
        "## Train model"
      ],
      "metadata": {
        "id": "LU-NQ6qPTqs8"
      }
    },
    {
      "cell_type": "code",
      "source": [
        "from sklearn.neighbors import KNeighborsClassifier\n",
        "\n",
        "knn = KNeighborsClassifier() \n",
        "knn.fit(X_train_scaled, y_train)\n",
        "\n",
        "print(\"Training set score: {:.4f}\".format(knn.score(X_train_scaled, y_train)))\n",
        "print(\"Test set score: {:.4f}\".format(knn.score(X_test_scaled, y_test)))\n",
        "\n",
        "knn_pred = knn.predict(X_test_scaled) \n",
        "print(\"knn.predict: {}\".format(knn_pred))"
      ],
      "metadata": {
        "colab": {
          "base_uri": "https://localhost:8080/"
        },
        "id": "62aHdaTWTuoq",
        "outputId": "70302812-1793-4f11-baef-075fc50b10ea"
      },
      "execution_count": null,
      "outputs": [
        {
          "output_type": "stream",
          "name": "stdout",
          "text": [
            "Training set score: 0.8623\n",
            "Test set score: 0.8141\n",
            "knn.predict: [0 0 0 ... 1 0 1]\n"
          ]
        }
      ]
    },
    {
      "cell_type": "markdown",
      "source": [
        "## Cross validation"
      ],
      "metadata": {
        "id": "vRaAiaZGXGG2"
      }
    },
    {
      "cell_type": "code",
      "source": [
        "from sklearn.model_selection import cross_val_score\n",
        "from statistics import mean \n",
        "\n",
        "print(\"CV score: {:.4f}\".format(\n",
        "mean(cross_val_score(KNeighborsClassifier() , X_train_scaled, y_train))))\n",
        "\n",
        "#cv_score.append(mean(cross_val_score(KNeighborsClassifier() , X_train_scaled, y_train)))"
      ],
      "metadata": {
        "colab": {
          "base_uri": "https://localhost:8080/"
        },
        "id": "UbEbKkx0WMYL",
        "outputId": "b1352603-af2c-43f9-c868-b68862b5a7a4"
      },
      "execution_count": null,
      "outputs": [
        {
          "output_type": "stream",
          "name": "stdout",
          "text": [
            "CV score: 0.8188\n"
          ]
        }
      ]
    },
    {
      "cell_type": "markdown",
      "source": [
        "## Tune the parameters using GridSearchCV"
      ],
      "metadata": {
        "id": "C8w0x_XjW8Fk"
      }
    },
    {
      "cell_type": "code",
      "source": [
        "from sklearn.model_selection import GridSearchCV\n",
        "\n",
        "param_grid = {'n_neighbors': np.arange(1, 19, 2)}\n",
        "grid_knn = GridSearchCV(KNeighborsClassifier(), param_grid=param_grid, cv=10)\n",
        "grid_knn.fit(X_train_scaled, y_train) \n",
        "\n",
        "print(\"KNN classification\\nBest mean cross-validation score: {:.4f}\".format(grid_knn.best_score_))\n",
        "print(\"Best parameters: {}\".format(grid_knn.best_params_))\n",
        "print(\"Test set score: {:.4f}\".format(grid_knn.score(X_test_scaled, y_test)))\n",
        "\n",
        "#gridsearchcv_score.append(grid_knn.score(X_test_scaled, y_test))"
      ],
      "metadata": {
        "colab": {
          "base_uri": "https://localhost:8080/"
        },
        "id": "TMyhYRNrW-8t",
        "outputId": "6148f157-6e32-475c-83cd-36cc1b8f3b47"
      },
      "execution_count": null,
      "outputs": [
        {
          "output_type": "stream",
          "name": "stdout",
          "text": [
            "KNN classification\n",
            "Best mean cross-validation score: 0.8278\n",
            "Best parameters: {'n_neighbors': 15}\n",
            "Test set score: 0.8115\n"
          ]
        }
      ]
    },
    {
      "cell_type": "markdown",
      "source": [
        "Thus I choose k=15 using GridSearchCV."
      ],
      "metadata": {
        "id": "0blZdfsFZp-S"
      }
    },
    {
      "cell_type": "markdown",
      "source": [
        "## Run the tuned model and evaluate prediction error"
      ],
      "metadata": {
        "id": "fcyAbRr6aeQr"
      }
    },
    {
      "cell_type": "code",
      "source": [
        "knn15 = KNeighborsClassifier(n_neighbors=15) \n",
        "knn15.fit(X_train_scaled, y_train)\n",
        "\n",
        "#Evaluate prediction error on test data directly\n",
        "print(\"Test set score: {:.4f}\".format(knn15.score(X_test_scaled, y_test)))"
      ],
      "metadata": {
        "colab": {
          "base_uri": "https://localhost:8080/"
        },
        "id": "ojW0CWs0ZMzj",
        "outputId": "a97726ec-c2f8-443e-e643-fbd847a44067"
      },
      "execution_count": null,
      "outputs": [
        {
          "output_type": "stream",
          "name": "stdout",
          "text": [
            "Test set score: 0.8115\n"
          ]
        }
      ]
    },
    {
      "cell_type": "code",
      "source": [
        "#Evaluate prediction error using k-fold cross-validation\n",
        "print(\"CV score: {:.4f}\".format(\n",
        "mean(cross_val_score(knn15, X_test_scaled, y_test))))"
      ],
      "metadata": {
        "colab": {
          "base_uri": "https://localhost:8080/"
        },
        "id": "BGjiUNglcgIJ",
        "outputId": "747d2bfe-5d2a-4fac-cd74-2f192bd8ed3c"
      },
      "execution_count": null,
      "outputs": [
        {
          "output_type": "stream",
          "name": "stdout",
          "text": [
            "CV score: 0.8063\n"
          ]
        }
      ]
    },
    {
      "cell_type": "code",
      "source": [
        "#Construct the result table\n",
        "test_score = []\n",
        "cv_score = []\n",
        "\n",
        "test_score.append(knn15.score(X_test_scaled, y_test))\n",
        "cv_score.append(mean(cross_val_score(knn15, X_test_scaled, y_test)))"
      ],
      "metadata": {
        "id": "3a2Am_u2TGrw"
      },
      "execution_count": null,
      "outputs": []
    },
    {
      "cell_type": "markdown",
      "source": [
        "The prediction error \n",
        "\n",
        "A) on test data directly is 0.8115;\n",
        "\n",
        "and B) using 5-fold cross-validation is 0.8063."
      ],
      "metadata": {
        "id": "hBlbTSRaWnJf"
      }
    },
    {
      "cell_type": "markdown",
      "source": [
        "# Q9. Train Model #2: Penalized Logistic Regression\n",
        "Choose a second model from question four.  \n",
        "\n",
        "Using the same three variables in the dataset that you think will be good predictors of \"spam\".  \n",
        "\n",
        "Describe why you chose any particular parameters for your model (e.g.- if you used KNN how did you decide to choose a specific value for k).  \n",
        "\n",
        "Run the model and evaluate prediction error in two ways: A) On test data directly and B) using k-fold cross-validation.  \n",
        "\n",
        "Did this model predict test data better than your previous model?"
      ],
      "metadata": {
        "id": "k33ahaCdk57r"
      }
    },
    {
      "cell_type": "markdown",
      "source": [
        "## Train model"
      ],
      "metadata": {
        "id": "XMkQ6heglKjj"
      }
    },
    {
      "cell_type": "code",
      "source": [
        "from sklearn.linear_model import LogisticRegression\n",
        "\n",
        "plogreg = LogisticRegression(penalty='l1', solver='saga')\n",
        "plogreg.fit(X_train_scaled, y_train)\n",
        "\n",
        "print(\"Training set score: {:.4f}\".format(plogreg.score(X_train_scaled, y_train)))\n",
        "print(\"Test set score: {:.4f}\".format(plogreg.score(X_test_scaled, y_test)))\n",
        "\n",
        "plogreg_pred = plogreg.predict(X_test_scaled) \n",
        "print(\"plogreg.predict: {}\".format(plogreg_pred))"
      ],
      "metadata": {
        "colab": {
          "base_uri": "https://localhost:8080/"
        },
        "id": "MpZ0kdKAlKvX",
        "outputId": "55617a6d-b51f-4df3-a22d-b5a21652eee3"
      },
      "execution_count": null,
      "outputs": [
        {
          "output_type": "stream",
          "name": "stdout",
          "text": [
            "Training set score: 0.8058\n",
            "Test set score: 0.7854\n",
            "plogreg.predict: [0 0 0 ... 1 0 0]\n"
          ]
        },
        {
          "output_type": "stream",
          "name": "stderr",
          "text": [
            "/usr/local/lib/python3.7/dist-packages/sklearn/linear_model/_sag.py:354: ConvergenceWarning: The max_iter was reached which means the coef_ did not converge\n",
            "  ConvergenceWarning,\n"
          ]
        }
      ]
    },
    {
      "cell_type": "markdown",
      "source": [
        "## Tune the parameters using GridsearchCV"
      ],
      "metadata": {
        "id": "akRErUGnh4az"
      }
    },
    {
      "cell_type": "code",
      "source": [
        "param_grid_log = {'C': [0.001, 0.01, 0.1, 1, 10, 100, 1000], 'max_iter': [1000, 10000, 100000]}\n",
        "grid_log = GridSearchCV(plogreg, param_grid=param_grid_log, cv=10)\n",
        "grid_log.fit(X_train_scaled, y_train) \n",
        "\n",
        "print(\"Best mean cross-validation score: {:.4f}\".format(grid_log.best_score_))\n",
        "print(\"Best parameters: {}\".format(grid_log.best_params_))\n",
        "print(\"Test set score: {:.4f}\".format(grid_log.score(X_test_scaled, y_test)))"
      ],
      "metadata": {
        "colab": {
          "base_uri": "https://localhost:8080/"
        },
        "id": "sGxfLZKHh3kh",
        "outputId": "56cac209-c816-462b-be53-3cdfe9a292a0"
      },
      "execution_count": null,
      "outputs": [
        {
          "output_type": "stream",
          "name": "stderr",
          "text": [
            "/usr/local/lib/python3.7/dist-packages/sklearn/linear_model/_sag.py:354: ConvergenceWarning: The max_iter was reached which means the coef_ did not converge\n",
            "  ConvergenceWarning,\n",
            "/usr/local/lib/python3.7/dist-packages/sklearn/linear_model/_sag.py:354: ConvergenceWarning: The max_iter was reached which means the coef_ did not converge\n",
            "  ConvergenceWarning,\n",
            "/usr/local/lib/python3.7/dist-packages/sklearn/linear_model/_sag.py:354: ConvergenceWarning: The max_iter was reached which means the coef_ did not converge\n",
            "  ConvergenceWarning,\n",
            "/usr/local/lib/python3.7/dist-packages/sklearn/linear_model/_sag.py:354: ConvergenceWarning: The max_iter was reached which means the coef_ did not converge\n",
            "  ConvergenceWarning,\n",
            "/usr/local/lib/python3.7/dist-packages/sklearn/linear_model/_sag.py:354: ConvergenceWarning: The max_iter was reached which means the coef_ did not converge\n",
            "  ConvergenceWarning,\n",
            "/usr/local/lib/python3.7/dist-packages/sklearn/linear_model/_sag.py:354: ConvergenceWarning: The max_iter was reached which means the coef_ did not converge\n",
            "  ConvergenceWarning,\n",
            "/usr/local/lib/python3.7/dist-packages/sklearn/linear_model/_sag.py:354: ConvergenceWarning: The max_iter was reached which means the coef_ did not converge\n",
            "  ConvergenceWarning,\n",
            "/usr/local/lib/python3.7/dist-packages/sklearn/linear_model/_sag.py:354: ConvergenceWarning: The max_iter was reached which means the coef_ did not converge\n",
            "  ConvergenceWarning,\n",
            "/usr/local/lib/python3.7/dist-packages/sklearn/linear_model/_sag.py:354: ConvergenceWarning: The max_iter was reached which means the coef_ did not converge\n",
            "  ConvergenceWarning,\n",
            "/usr/local/lib/python3.7/dist-packages/sklearn/linear_model/_sag.py:354: ConvergenceWarning: The max_iter was reached which means the coef_ did not converge\n",
            "  ConvergenceWarning,\n",
            "/usr/local/lib/python3.7/dist-packages/sklearn/linear_model/_sag.py:354: ConvergenceWarning: The max_iter was reached which means the coef_ did not converge\n",
            "  ConvergenceWarning,\n",
            "/usr/local/lib/python3.7/dist-packages/sklearn/linear_model/_sag.py:354: ConvergenceWarning: The max_iter was reached which means the coef_ did not converge\n",
            "  ConvergenceWarning,\n",
            "/usr/local/lib/python3.7/dist-packages/sklearn/linear_model/_sag.py:354: ConvergenceWarning: The max_iter was reached which means the coef_ did not converge\n",
            "  ConvergenceWarning,\n",
            "/usr/local/lib/python3.7/dist-packages/sklearn/linear_model/_sag.py:354: ConvergenceWarning: The max_iter was reached which means the coef_ did not converge\n",
            "  ConvergenceWarning,\n",
            "/usr/local/lib/python3.7/dist-packages/sklearn/linear_model/_sag.py:354: ConvergenceWarning: The max_iter was reached which means the coef_ did not converge\n",
            "  ConvergenceWarning,\n",
            "/usr/local/lib/python3.7/dist-packages/sklearn/linear_model/_sag.py:354: ConvergenceWarning: The max_iter was reached which means the coef_ did not converge\n",
            "  ConvergenceWarning,\n",
            "/usr/local/lib/python3.7/dist-packages/sklearn/linear_model/_sag.py:354: ConvergenceWarning: The max_iter was reached which means the coef_ did not converge\n",
            "  ConvergenceWarning,\n",
            "/usr/local/lib/python3.7/dist-packages/sklearn/linear_model/_sag.py:354: ConvergenceWarning: The max_iter was reached which means the coef_ did not converge\n",
            "  ConvergenceWarning,\n",
            "/usr/local/lib/python3.7/dist-packages/sklearn/linear_model/_sag.py:354: ConvergenceWarning: The max_iter was reached which means the coef_ did not converge\n",
            "  ConvergenceWarning,\n",
            "/usr/local/lib/python3.7/dist-packages/sklearn/linear_model/_sag.py:354: ConvergenceWarning: The max_iter was reached which means the coef_ did not converge\n",
            "  ConvergenceWarning,\n",
            "/usr/local/lib/python3.7/dist-packages/sklearn/linear_model/_sag.py:354: ConvergenceWarning: The max_iter was reached which means the coef_ did not converge\n",
            "  ConvergenceWarning,\n",
            "/usr/local/lib/python3.7/dist-packages/sklearn/linear_model/_sag.py:354: ConvergenceWarning: The max_iter was reached which means the coef_ did not converge\n",
            "  ConvergenceWarning,\n",
            "/usr/local/lib/python3.7/dist-packages/sklearn/linear_model/_sag.py:354: ConvergenceWarning: The max_iter was reached which means the coef_ did not converge\n",
            "  ConvergenceWarning,\n",
            "/usr/local/lib/python3.7/dist-packages/sklearn/linear_model/_sag.py:354: ConvergenceWarning: The max_iter was reached which means the coef_ did not converge\n",
            "  ConvergenceWarning,\n",
            "/usr/local/lib/python3.7/dist-packages/sklearn/linear_model/_sag.py:354: ConvergenceWarning: The max_iter was reached which means the coef_ did not converge\n",
            "  ConvergenceWarning,\n",
            "/usr/local/lib/python3.7/dist-packages/sklearn/linear_model/_sag.py:354: ConvergenceWarning: The max_iter was reached which means the coef_ did not converge\n",
            "  ConvergenceWarning,\n",
            "/usr/local/lib/python3.7/dist-packages/sklearn/linear_model/_sag.py:354: ConvergenceWarning: The max_iter was reached which means the coef_ did not converge\n",
            "  ConvergenceWarning,\n",
            "/usr/local/lib/python3.7/dist-packages/sklearn/linear_model/_sag.py:354: ConvergenceWarning: The max_iter was reached which means the coef_ did not converge\n",
            "  ConvergenceWarning,\n",
            "/usr/local/lib/python3.7/dist-packages/sklearn/linear_model/_sag.py:354: ConvergenceWarning: The max_iter was reached which means the coef_ did not converge\n",
            "  ConvergenceWarning,\n",
            "/usr/local/lib/python3.7/dist-packages/sklearn/linear_model/_sag.py:354: ConvergenceWarning: The max_iter was reached which means the coef_ did not converge\n",
            "  ConvergenceWarning,\n",
            "/usr/local/lib/python3.7/dist-packages/sklearn/linear_model/_sag.py:354: ConvergenceWarning: The max_iter was reached which means the coef_ did not converge\n",
            "  ConvergenceWarning,\n",
            "/usr/local/lib/python3.7/dist-packages/sklearn/linear_model/_sag.py:354: ConvergenceWarning: The max_iter was reached which means the coef_ did not converge\n",
            "  ConvergenceWarning,\n",
            "/usr/local/lib/python3.7/dist-packages/sklearn/linear_model/_sag.py:354: ConvergenceWarning: The max_iter was reached which means the coef_ did not converge\n",
            "  ConvergenceWarning,\n",
            "/usr/local/lib/python3.7/dist-packages/sklearn/linear_model/_sag.py:354: ConvergenceWarning: The max_iter was reached which means the coef_ did not converge\n",
            "  ConvergenceWarning,\n",
            "/usr/local/lib/python3.7/dist-packages/sklearn/linear_model/_sag.py:354: ConvergenceWarning: The max_iter was reached which means the coef_ did not converge\n",
            "  ConvergenceWarning,\n",
            "/usr/local/lib/python3.7/dist-packages/sklearn/linear_model/_sag.py:354: ConvergenceWarning: The max_iter was reached which means the coef_ did not converge\n",
            "  ConvergenceWarning,\n",
            "/usr/local/lib/python3.7/dist-packages/sklearn/linear_model/_sag.py:354: ConvergenceWarning: The max_iter was reached which means the coef_ did not converge\n",
            "  ConvergenceWarning,\n",
            "/usr/local/lib/python3.7/dist-packages/sklearn/linear_model/_sag.py:354: ConvergenceWarning: The max_iter was reached which means the coef_ did not converge\n",
            "  ConvergenceWarning,\n",
            "/usr/local/lib/python3.7/dist-packages/sklearn/linear_model/_sag.py:354: ConvergenceWarning: The max_iter was reached which means the coef_ did not converge\n",
            "  ConvergenceWarning,\n",
            "/usr/local/lib/python3.7/dist-packages/sklearn/linear_model/_sag.py:354: ConvergenceWarning: The max_iter was reached which means the coef_ did not converge\n",
            "  ConvergenceWarning,\n",
            "/usr/local/lib/python3.7/dist-packages/sklearn/linear_model/_sag.py:354: ConvergenceWarning: The max_iter was reached which means the coef_ did not converge\n",
            "  ConvergenceWarning,\n",
            "/usr/local/lib/python3.7/dist-packages/sklearn/linear_model/_sag.py:354: ConvergenceWarning: The max_iter was reached which means the coef_ did not converge\n",
            "  ConvergenceWarning,\n",
            "/usr/local/lib/python3.7/dist-packages/sklearn/linear_model/_sag.py:354: ConvergenceWarning: The max_iter was reached which means the coef_ did not converge\n",
            "  ConvergenceWarning,\n",
            "/usr/local/lib/python3.7/dist-packages/sklearn/linear_model/_sag.py:354: ConvergenceWarning: The max_iter was reached which means the coef_ did not converge\n",
            "  ConvergenceWarning,\n",
            "/usr/local/lib/python3.7/dist-packages/sklearn/linear_model/_sag.py:354: ConvergenceWarning: The max_iter was reached which means the coef_ did not converge\n",
            "  ConvergenceWarning,\n"
          ]
        },
        {
          "output_type": "stream",
          "name": "stdout",
          "text": [
            "Best mean cross-validation score: 0.8162\n",
            "Best parameters: {'C': 10, 'max_iter': 10000}\n",
            "Test set score: 0.8010\n"
          ]
        }
      ]
    },
    {
      "cell_type": "markdown",
      "source": [
        "I choose the parameters C=10 and max_iter=10000 using GridsearchCV."
      ],
      "metadata": {
        "id": "nf7g-KuYi-8c"
      }
    },
    {
      "cell_type": "markdown",
      "source": [
        "## Run the tuned model and evaluate prediction error"
      ],
      "metadata": {
        "id": "Opq7wRbkjWeP"
      }
    },
    {
      "cell_type": "code",
      "source": [
        "plogreg10 = LogisticRegression(penalty='l1', solver='saga', C=10, max_iter=10000)\n",
        "plogreg10.fit(X_train_scaled, y_train)\n",
        "\n",
        "#Evaluate prediction error on test data directly\n",
        "print(\"Test set score: {:.4f}\".format(plogreg10.score(X_test_scaled, y_test)))"
      ],
      "metadata": {
        "colab": {
          "base_uri": "https://localhost:8080/"
        },
        "id": "K0pZU75TjW0A",
        "outputId": "472ea91c-9796-4018-9102-f2dc090debf3"
      },
      "execution_count": null,
      "outputs": [
        {
          "output_type": "stream",
          "name": "stdout",
          "text": [
            "Test set score: 0.8010\n"
          ]
        }
      ]
    },
    {
      "cell_type": "code",
      "source": [
        "#Evaluate prediction error using k-fold cross-validation\n",
        "print(\"CV score: {:.4f}\".format(\n",
        "mean(cross_val_score(plogreg10, X_test_scaled, y_test))))"
      ],
      "metadata": {
        "colab": {
          "base_uri": "https://localhost:8080/"
        },
        "id": "FiRIBt_fj6NT",
        "outputId": "d67fcf66-acaa-4c54-8e74-cea2d2bce4ef"
      },
      "execution_count": null,
      "outputs": [
        {
          "output_type": "stream",
          "name": "stdout",
          "text": [
            "CV score: 0.8150\n"
          ]
        }
      ]
    },
    {
      "cell_type": "code",
      "source": [
        "test_score.append(plogreg10.score(X_test_scaled, y_test))\n",
        "cv_score.append(mean(cross_val_score(plogreg10, X_test_scaled, y_test)))"
      ],
      "metadata": {
        "id": "M4GGQXjTubsV"
      },
      "execution_count": null,
      "outputs": []
    },
    {
      "cell_type": "markdown",
      "source": [
        "The prediction error\n",
        "\n",
        "A) on test data directly is 0.8010;\n",
        "\n",
        "and B) using 5-fold cross-validation is 0.8150."
      ],
      "metadata": {
        "id": "2mbwl7sIZ1dJ"
      }
    },
    {
      "cell_type": "markdown",
      "source": [
        "## Model improvement?"
      ],
      "metadata": {
        "id": "K48n7BjBfFOM"
      }
    },
    {
      "cell_type": "code",
      "source": [
        "table = pd.DataFrame(test_score, columns=['Test score'], index=['KNN', 'Logistic'])\n",
        "table['CV score'] = cv_score\n",
        "table"
      ],
      "metadata": {
        "colab": {
          "base_uri": "https://localhost:8080/",
          "height": 112
        },
        "id": "roDbJXSGuyL2",
        "outputId": "4dfd1c68-21ec-4751-935b-5b29f6e72fe9"
      },
      "execution_count": null,
      "outputs": [
        {
          "output_type": "execute_result",
          "data": {
            "text/plain": [
              "          Test score  CV score\n",
              "KNN         0.811468  0.806268\n",
              "Logistic    0.801043  0.814963"
            ],
            "text/html": [
              "\n",
              "  <div id=\"df-afc4dfc8-daad-4e07-b1ca-fd5bd9e9dca3\">\n",
              "    <div class=\"colab-df-container\">\n",
              "      <div>\n",
              "<style scoped>\n",
              "    .dataframe tbody tr th:only-of-type {\n",
              "        vertical-align: middle;\n",
              "    }\n",
              "\n",
              "    .dataframe tbody tr th {\n",
              "        vertical-align: top;\n",
              "    }\n",
              "\n",
              "    .dataframe thead th {\n",
              "        text-align: right;\n",
              "    }\n",
              "</style>\n",
              "<table border=\"1\" class=\"dataframe\">\n",
              "  <thead>\n",
              "    <tr style=\"text-align: right;\">\n",
              "      <th></th>\n",
              "      <th>Test score</th>\n",
              "      <th>CV score</th>\n",
              "    </tr>\n",
              "  </thead>\n",
              "  <tbody>\n",
              "    <tr>\n",
              "      <th>KNN</th>\n",
              "      <td>0.811468</td>\n",
              "      <td>0.806268</td>\n",
              "    </tr>\n",
              "    <tr>\n",
              "      <th>Logistic</th>\n",
              "      <td>0.801043</td>\n",
              "      <td>0.814963</td>\n",
              "    </tr>\n",
              "  </tbody>\n",
              "</table>\n",
              "</div>\n",
              "      <button class=\"colab-df-convert\" onclick=\"convertToInteractive('df-afc4dfc8-daad-4e07-b1ca-fd5bd9e9dca3')\"\n",
              "              title=\"Convert this dataframe to an interactive table.\"\n",
              "              style=\"display:none;\">\n",
              "        \n",
              "  <svg xmlns=\"http://www.w3.org/2000/svg\" height=\"24px\"viewBox=\"0 0 24 24\"\n",
              "       width=\"24px\">\n",
              "    <path d=\"M0 0h24v24H0V0z\" fill=\"none\"/>\n",
              "    <path d=\"M18.56 5.44l.94 2.06.94-2.06 2.06-.94-2.06-.94-.94-2.06-.94 2.06-2.06.94zm-11 1L8.5 8.5l.94-2.06 2.06-.94-2.06-.94L8.5 2.5l-.94 2.06-2.06.94zm10 10l.94 2.06.94-2.06 2.06-.94-2.06-.94-.94-2.06-.94 2.06-2.06.94z\"/><path d=\"M17.41 7.96l-1.37-1.37c-.4-.4-.92-.59-1.43-.59-.52 0-1.04.2-1.43.59L10.3 9.45l-7.72 7.72c-.78.78-.78 2.05 0 2.83L4 21.41c.39.39.9.59 1.41.59.51 0 1.02-.2 1.41-.59l7.78-7.78 2.81-2.81c.8-.78.8-2.07 0-2.86zM5.41 20L4 18.59l7.72-7.72 1.47 1.35L5.41 20z\"/>\n",
              "  </svg>\n",
              "      </button>\n",
              "      \n",
              "  <style>\n",
              "    .colab-df-container {\n",
              "      display:flex;\n",
              "      flex-wrap:wrap;\n",
              "      gap: 12px;\n",
              "    }\n",
              "\n",
              "    .colab-df-convert {\n",
              "      background-color: #E8F0FE;\n",
              "      border: none;\n",
              "      border-radius: 50%;\n",
              "      cursor: pointer;\n",
              "      display: none;\n",
              "      fill: #1967D2;\n",
              "      height: 32px;\n",
              "      padding: 0 0 0 0;\n",
              "      width: 32px;\n",
              "    }\n",
              "\n",
              "    .colab-df-convert:hover {\n",
              "      background-color: #E2EBFA;\n",
              "      box-shadow: 0px 1px 2px rgba(60, 64, 67, 0.3), 0px 1px 3px 1px rgba(60, 64, 67, 0.15);\n",
              "      fill: #174EA6;\n",
              "    }\n",
              "\n",
              "    [theme=dark] .colab-df-convert {\n",
              "      background-color: #3B4455;\n",
              "      fill: #D2E3FC;\n",
              "    }\n",
              "\n",
              "    [theme=dark] .colab-df-convert:hover {\n",
              "      background-color: #434B5C;\n",
              "      box-shadow: 0px 1px 3px 1px rgba(0, 0, 0, 0.15);\n",
              "      filter: drop-shadow(0px 1px 2px rgba(0, 0, 0, 0.3));\n",
              "      fill: #FFFFFF;\n",
              "    }\n",
              "  </style>\n",
              "\n",
              "      <script>\n",
              "        const buttonEl =\n",
              "          document.querySelector('#df-afc4dfc8-daad-4e07-b1ca-fd5bd9e9dca3 button.colab-df-convert');\n",
              "        buttonEl.style.display =\n",
              "          google.colab.kernel.accessAllowed ? 'block' : 'none';\n",
              "\n",
              "        async function convertToInteractive(key) {\n",
              "          const element = document.querySelector('#df-afc4dfc8-daad-4e07-b1ca-fd5bd9e9dca3');\n",
              "          const dataTable =\n",
              "            await google.colab.kernel.invokeFunction('convertToInteractive',\n",
              "                                                     [key], {});\n",
              "          if (!dataTable) return;\n",
              "\n",
              "          const docLinkHtml = 'Like what you see? Visit the ' +\n",
              "            '<a target=\"_blank\" href=https://colab.research.google.com/notebooks/data_table.ipynb>data table notebook</a>'\n",
              "            + ' to learn more about interactive tables.';\n",
              "          element.innerHTML = '';\n",
              "          dataTable['output_type'] = 'display_data';\n",
              "          await google.colab.output.renderOutput(dataTable, element);\n",
              "          const docLink = document.createElement('div');\n",
              "          docLink.innerHTML = docLinkHtml;\n",
              "          element.appendChild(docLink);\n",
              "        }\n",
              "      </script>\n",
              "    </div>\n",
              "  </div>\n",
              "  "
            ]
          },
          "metadata": {},
          "execution_count": 85
        }
      ]
    },
    {
      "cell_type": "markdown",
      "source": [
        "The l1 penalized logistic regression model has better 5-fold cv score than KNN model."
      ],
      "metadata": {
        "id": "Fwv9SQgrj7VB"
      }
    },
    {
      "cell_type": "markdown",
      "source": [
        "# Q10. Train Model #3: Random Forests\n",
        "Choose a third model from question four.  \n",
        "\n",
        "Using the same three variables in the dataset that you think will be good predictors of \"spam\".  \n",
        "\n",
        "Describe why you chose any particular parameters for your model (e.g.- if you used KNN how did you decide to choose a specific value for k). \n",
        "\n",
        "Run the model and evaluate prediction error in two ways: A) On test data directly and B) using k-fold cross-validation.  \n",
        "\n",
        "Did this model predict test data better than your previous models?"
      ],
      "metadata": {
        "id": "cc9EdMNGlLIz"
      }
    },
    {
      "cell_type": "markdown",
      "source": [
        "## Train model"
      ],
      "metadata": {
        "id": "FMYlYEHNlTm1"
      }
    },
    {
      "cell_type": "code",
      "source": [
        "from sklearn.ensemble import RandomForestClassifier\n",
        "\n",
        "forest = RandomForestClassifier()\n",
        "forest.fit(X_train_scaled, y_train)\n",
        "\n",
        "print(\"Training set score: {:.4f}\".format(forest.score(X_train_scaled, y_train)))\n",
        "print(\"Test set score: {:.4f}\".format(forest.score(X_test_scaled, y_test)))\n",
        "\n",
        "forest_pred = forest.predict(X_test_scaled) \n",
        "print(\"forest.predict: {}\".format(forest_pred))"
      ],
      "metadata": {
        "colab": {
          "base_uri": "https://localhost:8080/"
        },
        "id": "EQAJuFnnlTz-",
        "outputId": "b27f15e0-a52a-4d92-cb91-1f1120cb1f5e"
      },
      "execution_count": null,
      "outputs": [
        {
          "output_type": "stream",
          "name": "stdout",
          "text": [
            "Training set score: 0.9464\n",
            "Test set score: 0.8115\n",
            "forest.predict: [0 0 1 ... 1 0 1]\n"
          ]
        }
      ]
    },
    {
      "cell_type": "markdown",
      "source": [
        "## Tune the parameters using GridsearchCV"
      ],
      "metadata": {
        "id": "bTVfOKhhkzck"
      }
    },
    {
      "cell_type": "code",
      "source": [
        "param_grid_forest = {'n_estimators': [100, 200, 300], 'max_depth': [1, 2, 3]}\n",
        "grid_forest = GridSearchCV(forest, param_grid=param_grid_forest, cv=10)\n",
        "grid_forest.fit(X_train_scaled, y_train) \n",
        "\n",
        "print(\"Best mean cross-validation score: {:.4f}\".format(grid_forest.best_score_))\n",
        "print(\"Best parameters: {}\".format(grid_forest.best_params_))\n",
        "print(\"Test set score: {:.4f}\".format(grid_forest.score(X_test_scaled, y_test)))"
      ],
      "metadata": {
        "colab": {
          "base_uri": "https://localhost:8080/"
        },
        "id": "f1zG2poWk0Hh",
        "outputId": "cdbc9604-7098-491a-cf2c-71bfd28511c3"
      },
      "execution_count": null,
      "outputs": [
        {
          "output_type": "stream",
          "name": "stdout",
          "text": [
            "Best mean cross-validation score: 0.8357\n",
            "Best parameters: {'max_depth': 3, 'n_estimators': 200}\n",
            "Test set score: 0.8358\n"
          ]
        }
      ]
    },
    {
      "cell_type": "markdown",
      "source": [
        "Gridsearch CV chooses the parameters n_estimators=200, max_depth=3."
      ],
      "metadata": {
        "id": "bw8Bs0Y4nRDw"
      }
    },
    {
      "cell_type": "markdown",
      "source": [
        "## Run the tuned model and evaluate prediction error"
      ],
      "metadata": {
        "id": "mog3pwVvk58o"
      }
    },
    {
      "cell_type": "code",
      "source": [
        "forest200 = RandomForestClassifier(n_estimators=200, max_depth=3)\n",
        "forest200.fit(X_train_scaled, y_train)\n",
        "\n",
        "#Evaluate prediction error on test data directly\n",
        "print(\"Test set score: {:.4f}\".format(forest200.score(X_test_scaled, y_test)))"
      ],
      "metadata": {
        "colab": {
          "base_uri": "https://localhost:8080/"
        },
        "id": "7s6IqgwXk7WD",
        "outputId": "65c766b1-026b-4915-8710-2d76a1dafc60"
      },
      "execution_count": null,
      "outputs": [
        {
          "output_type": "stream",
          "name": "stdout",
          "text": [
            "Test set score: 0.8375\n"
          ]
        }
      ]
    },
    {
      "cell_type": "code",
      "source": [
        "#Evaluate prediction error using k-fold cross-validation\n",
        "print(\"CV score: {:.4f}\".format(\n",
        "mean(cross_val_score(forest200, X_test_scaled, y_test))))"
      ],
      "metadata": {
        "colab": {
          "base_uri": "https://localhost:8080/"
        },
        "id": "ZSv_opJxov-K",
        "outputId": "d1127b03-9277-48de-dfe8-5bcd2661e5b8"
      },
      "execution_count": null,
      "outputs": [
        {
          "output_type": "stream",
          "name": "stdout",
          "text": [
            "CV score: 0.8341\n"
          ]
        }
      ]
    },
    {
      "cell_type": "code",
      "source": [
        "test_score.append(forest200.score(X_test_scaled, y_test))\n",
        "cv_score.append(mean(cross_val_score(forest200, X_test_scaled, y_test)))"
      ],
      "metadata": {
        "id": "gtMsIqWyuwKX"
      },
      "execution_count": null,
      "outputs": []
    },
    {
      "cell_type": "markdown",
      "source": [
        "The prediction error\n",
        "\n",
        "A) on test data directly is 0.8375;\n",
        "\n",
        "and B) using 5-fold cross-validation is 0.8341."
      ],
      "metadata": {
        "id": "NWRrI0f-Zv3x"
      }
    },
    {
      "cell_type": "markdown",
      "source": [
        "## Model improvement?"
      ],
      "metadata": {
        "id": "UpnS-8TYlEHZ"
      }
    },
    {
      "cell_type": "code",
      "source": [
        "table = pd.DataFrame(test_score, columns=['Test score'], index=['KNN', 'Logistic', 'Random forests'])\n",
        "table['CV score'] = cv_score\n",
        "table"
      ],
      "metadata": {
        "id": "CUFfxr6GlEwN",
        "colab": {
          "base_uri": "https://localhost:8080/",
          "height": 143
        },
        "outputId": "15c2ebd3-b652-4f4b-b9b3-7d38e857510b"
      },
      "execution_count": null,
      "outputs": [
        {
          "output_type": "execute_result",
          "data": {
            "text/plain": [
              "                Test score  CV score\n",
              "KNN               0.811468  0.806268\n",
              "Logistic          0.801043  0.814963\n",
              "Random forests    0.837533  0.830589"
            ],
            "text/html": [
              "\n",
              "  <div id=\"df-445884a8-a9fd-4c21-966b-44db4fa1b9c1\">\n",
              "    <div class=\"colab-df-container\">\n",
              "      <div>\n",
              "<style scoped>\n",
              "    .dataframe tbody tr th:only-of-type {\n",
              "        vertical-align: middle;\n",
              "    }\n",
              "\n",
              "    .dataframe tbody tr th {\n",
              "        vertical-align: top;\n",
              "    }\n",
              "\n",
              "    .dataframe thead th {\n",
              "        text-align: right;\n",
              "    }\n",
              "</style>\n",
              "<table border=\"1\" class=\"dataframe\">\n",
              "  <thead>\n",
              "    <tr style=\"text-align: right;\">\n",
              "      <th></th>\n",
              "      <th>Test score</th>\n",
              "      <th>CV score</th>\n",
              "    </tr>\n",
              "  </thead>\n",
              "  <tbody>\n",
              "    <tr>\n",
              "      <th>KNN</th>\n",
              "      <td>0.811468</td>\n",
              "      <td>0.806268</td>\n",
              "    </tr>\n",
              "    <tr>\n",
              "      <th>Logistic</th>\n",
              "      <td>0.801043</td>\n",
              "      <td>0.814963</td>\n",
              "    </tr>\n",
              "    <tr>\n",
              "      <th>Random forests</th>\n",
              "      <td>0.837533</td>\n",
              "      <td>0.830589</td>\n",
              "    </tr>\n",
              "  </tbody>\n",
              "</table>\n",
              "</div>\n",
              "      <button class=\"colab-df-convert\" onclick=\"convertToInteractive('df-445884a8-a9fd-4c21-966b-44db4fa1b9c1')\"\n",
              "              title=\"Convert this dataframe to an interactive table.\"\n",
              "              style=\"display:none;\">\n",
              "        \n",
              "  <svg xmlns=\"http://www.w3.org/2000/svg\" height=\"24px\"viewBox=\"0 0 24 24\"\n",
              "       width=\"24px\">\n",
              "    <path d=\"M0 0h24v24H0V0z\" fill=\"none\"/>\n",
              "    <path d=\"M18.56 5.44l.94 2.06.94-2.06 2.06-.94-2.06-.94-.94-2.06-.94 2.06-2.06.94zm-11 1L8.5 8.5l.94-2.06 2.06-.94-2.06-.94L8.5 2.5l-.94 2.06-2.06.94zm10 10l.94 2.06.94-2.06 2.06-.94-2.06-.94-.94-2.06-.94 2.06-2.06.94z\"/><path d=\"M17.41 7.96l-1.37-1.37c-.4-.4-.92-.59-1.43-.59-.52 0-1.04.2-1.43.59L10.3 9.45l-7.72 7.72c-.78.78-.78 2.05 0 2.83L4 21.41c.39.39.9.59 1.41.59.51 0 1.02-.2 1.41-.59l7.78-7.78 2.81-2.81c.8-.78.8-2.07 0-2.86zM5.41 20L4 18.59l7.72-7.72 1.47 1.35L5.41 20z\"/>\n",
              "  </svg>\n",
              "      </button>\n",
              "      \n",
              "  <style>\n",
              "    .colab-df-container {\n",
              "      display:flex;\n",
              "      flex-wrap:wrap;\n",
              "      gap: 12px;\n",
              "    }\n",
              "\n",
              "    .colab-df-convert {\n",
              "      background-color: #E8F0FE;\n",
              "      border: none;\n",
              "      border-radius: 50%;\n",
              "      cursor: pointer;\n",
              "      display: none;\n",
              "      fill: #1967D2;\n",
              "      height: 32px;\n",
              "      padding: 0 0 0 0;\n",
              "      width: 32px;\n",
              "    }\n",
              "\n",
              "    .colab-df-convert:hover {\n",
              "      background-color: #E2EBFA;\n",
              "      box-shadow: 0px 1px 2px rgba(60, 64, 67, 0.3), 0px 1px 3px 1px rgba(60, 64, 67, 0.15);\n",
              "      fill: #174EA6;\n",
              "    }\n",
              "\n",
              "    [theme=dark] .colab-df-convert {\n",
              "      background-color: #3B4455;\n",
              "      fill: #D2E3FC;\n",
              "    }\n",
              "\n",
              "    [theme=dark] .colab-df-convert:hover {\n",
              "      background-color: #434B5C;\n",
              "      box-shadow: 0px 1px 3px 1px rgba(0, 0, 0, 0.15);\n",
              "      filter: drop-shadow(0px 1px 2px rgba(0, 0, 0, 0.3));\n",
              "      fill: #FFFFFF;\n",
              "    }\n",
              "  </style>\n",
              "\n",
              "      <script>\n",
              "        const buttonEl =\n",
              "          document.querySelector('#df-445884a8-a9fd-4c21-966b-44db4fa1b9c1 button.colab-df-convert');\n",
              "        buttonEl.style.display =\n",
              "          google.colab.kernel.accessAllowed ? 'block' : 'none';\n",
              "\n",
              "        async function convertToInteractive(key) {\n",
              "          const element = document.querySelector('#df-445884a8-a9fd-4c21-966b-44db4fa1b9c1');\n",
              "          const dataTable =\n",
              "            await google.colab.kernel.invokeFunction('convertToInteractive',\n",
              "                                                     [key], {});\n",
              "          if (!dataTable) return;\n",
              "\n",
              "          const docLinkHtml = 'Like what you see? Visit the ' +\n",
              "            '<a target=\"_blank\" href=https://colab.research.google.com/notebooks/data_table.ipynb>data table notebook</a>'\n",
              "            + ' to learn more about interactive tables.';\n",
              "          element.innerHTML = '';\n",
              "          dataTable['output_type'] = 'display_data';\n",
              "          await google.colab.output.renderOutput(dataTable, element);\n",
              "          const docLink = document.createElement('div');\n",
              "          docLink.innerHTML = docLinkHtml;\n",
              "          element.appendChild(docLink);\n",
              "        }\n",
              "      </script>\n",
              "    </div>\n",
              "  </div>\n",
              "  "
            ]
          },
          "metadata": {},
          "execution_count": 126
        }
      ]
    },
    {
      "cell_type": "markdown",
      "source": [
        "The random forests model has better prediction performance than the previous two models.\n"
      ],
      "metadata": {
        "id": "d6dN3ujgo_wb"
      }
    },
    {
      "cell_type": "markdown",
      "source": [
        "# Q11. Train Model #4: SVM\n",
        "Choose a fourth model from question four.  \n",
        "\n",
        "Using the same three variables in the dataset that you think will be good predictors of \"spam\".  \n",
        "\n",
        "Describe why you chose any particular parameters for your model (e.g.- if you used KNN how did you decide to choose a specific value for k). \n",
        "\n",
        "Run the model and evaluate prediction error in two ways: A) On test data directly and B) using k-fold cross-validation.  \n",
        "\n",
        "Did this model predict test data better than your previous models?"
      ],
      "metadata": {
        "id": "2EC-Sn-DlUII"
      }
    },
    {
      "cell_type": "markdown",
      "source": [
        "## Train model"
      ],
      "metadata": {
        "id": "fuEo1ivQlIc8"
      }
    },
    {
      "cell_type": "code",
      "source": [
        "from sklearn.svm import SVC\n",
        "\n",
        "svm = SVC() \n",
        "svm.fit(X_train_scaled, y_train) \n",
        "\n",
        "print(\"Training set score: {:.4f}\".format(svm.score(X_train_scaled, y_train)))\n",
        "print(\"Test set score: {:.4f}\".format(svm.score(X_test_scaled, y_test)))\n",
        "\n",
        "svm_pred = svm.predict(X_test_scaled) \n",
        "print(\"svm.predict: {}\".format(svm_pred))"
      ],
      "metadata": {
        "colab": {
          "base_uri": "https://localhost:8080/"
        },
        "id": "2ZtBd2VKlJ1T",
        "outputId": "3e81f60b-7b1f-41be-e42a-fbf9a249ad90"
      },
      "execution_count": null,
      "outputs": [
        {
          "output_type": "stream",
          "name": "stdout",
          "text": [
            "Training set score: 0.8145\n",
            "Test set score: 0.7941\n",
            "svm.predict: [0 0 0 ... 1 0 0]\n"
          ]
        }
      ]
    },
    {
      "cell_type": "markdown",
      "source": [
        "## Tune the parameters using GridsearchCV"
      ],
      "metadata": {
        "id": "UIFF_kZulKDu"
      }
    },
    {
      "cell_type": "code",
      "source": [
        "param_grid_svm = {'C': [0.1, 1, 5, 10, 50, 100], 'gamma': [0.0001, 0.0005, 0.001, 0.005]}\n",
        "grid_svm = GridSearchCV(svm, param_grid=param_grid_svm, cv=10)\n",
        "grid_svm.fit(X_train_scaled, y_train) \n",
        "\n",
        "print(\"Best mean cross-validation score: {:.4f}\".format(grid_svm.best_score_))\n",
        "print(\"Best parameters: {}\".format(grid_svm.best_params_))\n",
        "print(\"Test set score: {:.4f}\".format(grid_svm.score(X_test_scaled, y_test)))"
      ],
      "metadata": {
        "colab": {
          "base_uri": "https://localhost:8080/"
        },
        "id": "dF1V6Q10lK6v",
        "outputId": "559c116b-d7c0-4a87-9b4d-29a7f2c80fa1"
      },
      "execution_count": null,
      "outputs": [
        {
          "output_type": "stream",
          "name": "stdout",
          "text": [
            "Best mean cross-validation score: 0.8101\n",
            "Best parameters: {'C': 100, 'gamma': 0.005}\n",
            "Test set score: 0.7958\n"
          ]
        }
      ]
    },
    {
      "cell_type": "markdown",
      "source": [
        "I choose the parameters C=100, gamma=0.005 by GridsearchCV."
      ],
      "metadata": {
        "id": "f4pZG9T9uJ6o"
      }
    },
    {
      "cell_type": "markdown",
      "source": [
        "## Run the tuned model and evaluate prediction error"
      ],
      "metadata": {
        "id": "wJBScOCOlfxT"
      }
    },
    {
      "cell_type": "code",
      "source": [
        "svm100 = SVC(C=100, gamma=0.005)\n",
        "svm100.fit(X_train_scaled, y_train)\n",
        "\n",
        "#Evaluate prediction error on test data directly\n",
        "print(\"Test set score: {:.4f}\".format(svm100.score(X_test_scaled, y_test)))"
      ],
      "metadata": {
        "colab": {
          "base_uri": "https://localhost:8080/"
        },
        "id": "pMfLmsSDlgIw",
        "outputId": "e1a69610-213d-430a-89d9-52f93758e334"
      },
      "execution_count": null,
      "outputs": [
        {
          "output_type": "stream",
          "name": "stdout",
          "text": [
            "Test set score: 0.7958\n"
          ]
        }
      ]
    },
    {
      "cell_type": "code",
      "source": [
        "#Evaluate prediction error using k-fold cross-validation\n",
        "print(\"CV score: {:.4f}\".format(\n",
        "mean(cross_val_score(svm100, X_test_scaled, y_test))))"
      ],
      "metadata": {
        "colab": {
          "base_uri": "https://localhost:8080/"
        },
        "id": "NAQgo_R0uzFC",
        "outputId": "8b1ff3af-2f98-4886-bf5c-dff70524219e"
      },
      "execution_count": null,
      "outputs": [
        {
          "output_type": "stream",
          "name": "stdout",
          "text": [
            "CV score: 0.7906\n"
          ]
        }
      ]
    },
    {
      "cell_type": "markdown",
      "source": [
        "The prediction error\n",
        "\n",
        "A) on test data directly is 0.7985;\n",
        "\n",
        "and B) using 5-fold cross-validation is 0.7906."
      ],
      "metadata": {
        "id": "BxA4nEly1Lcw"
      }
    },
    {
      "cell_type": "code",
      "source": [
        "test_score.append(svm100.score(X_test_scaled, y_test))\n",
        "cv_score.append(mean(cross_val_score(svm100, X_test_scaled, y_test)))"
      ],
      "metadata": {
        "id": "AnVHX0gQwuma"
      },
      "execution_count": null,
      "outputs": []
    },
    {
      "cell_type": "markdown",
      "source": [
        "## Model improvement?"
      ],
      "metadata": {
        "id": "SXNnI96_lAiQ"
      }
    },
    {
      "cell_type": "code",
      "source": [
        "table = pd.DataFrame(test_score, columns=['Test score'], index=['KNN', 'Logistic', 'Random forests', 'SVM'])\n",
        "table['CV score'] = cv_score\n",
        "table"
      ],
      "metadata": {
        "id": "K5hdp5RklBVf",
        "colab": {
          "base_uri": "https://localhost:8080/",
          "height": 175
        },
        "outputId": "907988e5-bbb7-4814-c03e-06c334762d85"
      },
      "execution_count": null,
      "outputs": [
        {
          "output_type": "execute_result",
          "data": {
            "text/plain": [
              "                Test score  CV score\n",
              "KNN               0.811468  0.806268\n",
              "Logistic          0.801043  0.814963\n",
              "Random forests    0.837533  0.830589\n",
              "SVM               0.795830  0.790642"
            ],
            "text/html": [
              "\n",
              "  <div id=\"df-fe72e52f-be5d-42cb-9fb8-02f177025081\">\n",
              "    <div class=\"colab-df-container\">\n",
              "      <div>\n",
              "<style scoped>\n",
              "    .dataframe tbody tr th:only-of-type {\n",
              "        vertical-align: middle;\n",
              "    }\n",
              "\n",
              "    .dataframe tbody tr th {\n",
              "        vertical-align: top;\n",
              "    }\n",
              "\n",
              "    .dataframe thead th {\n",
              "        text-align: right;\n",
              "    }\n",
              "</style>\n",
              "<table border=\"1\" class=\"dataframe\">\n",
              "  <thead>\n",
              "    <tr style=\"text-align: right;\">\n",
              "      <th></th>\n",
              "      <th>Test score</th>\n",
              "      <th>CV score</th>\n",
              "    </tr>\n",
              "  </thead>\n",
              "  <tbody>\n",
              "    <tr>\n",
              "      <th>KNN</th>\n",
              "      <td>0.811468</td>\n",
              "      <td>0.806268</td>\n",
              "    </tr>\n",
              "    <tr>\n",
              "      <th>Logistic</th>\n",
              "      <td>0.801043</td>\n",
              "      <td>0.814963</td>\n",
              "    </tr>\n",
              "    <tr>\n",
              "      <th>Random forests</th>\n",
              "      <td>0.837533</td>\n",
              "      <td>0.830589</td>\n",
              "    </tr>\n",
              "    <tr>\n",
              "      <th>SVM</th>\n",
              "      <td>0.795830</td>\n",
              "      <td>0.790642</td>\n",
              "    </tr>\n",
              "  </tbody>\n",
              "</table>\n",
              "</div>\n",
              "      <button class=\"colab-df-convert\" onclick=\"convertToInteractive('df-fe72e52f-be5d-42cb-9fb8-02f177025081')\"\n",
              "              title=\"Convert this dataframe to an interactive table.\"\n",
              "              style=\"display:none;\">\n",
              "        \n",
              "  <svg xmlns=\"http://www.w3.org/2000/svg\" height=\"24px\"viewBox=\"0 0 24 24\"\n",
              "       width=\"24px\">\n",
              "    <path d=\"M0 0h24v24H0V0z\" fill=\"none\"/>\n",
              "    <path d=\"M18.56 5.44l.94 2.06.94-2.06 2.06-.94-2.06-.94-.94-2.06-.94 2.06-2.06.94zm-11 1L8.5 8.5l.94-2.06 2.06-.94-2.06-.94L8.5 2.5l-.94 2.06-2.06.94zm10 10l.94 2.06.94-2.06 2.06-.94-2.06-.94-.94-2.06-.94 2.06-2.06.94z\"/><path d=\"M17.41 7.96l-1.37-1.37c-.4-.4-.92-.59-1.43-.59-.52 0-1.04.2-1.43.59L10.3 9.45l-7.72 7.72c-.78.78-.78 2.05 0 2.83L4 21.41c.39.39.9.59 1.41.59.51 0 1.02-.2 1.41-.59l7.78-7.78 2.81-2.81c.8-.78.8-2.07 0-2.86zM5.41 20L4 18.59l7.72-7.72 1.47 1.35L5.41 20z\"/>\n",
              "  </svg>\n",
              "      </button>\n",
              "      \n",
              "  <style>\n",
              "    .colab-df-container {\n",
              "      display:flex;\n",
              "      flex-wrap:wrap;\n",
              "      gap: 12px;\n",
              "    }\n",
              "\n",
              "    .colab-df-convert {\n",
              "      background-color: #E8F0FE;\n",
              "      border: none;\n",
              "      border-radius: 50%;\n",
              "      cursor: pointer;\n",
              "      display: none;\n",
              "      fill: #1967D2;\n",
              "      height: 32px;\n",
              "      padding: 0 0 0 0;\n",
              "      width: 32px;\n",
              "    }\n",
              "\n",
              "    .colab-df-convert:hover {\n",
              "      background-color: #E2EBFA;\n",
              "      box-shadow: 0px 1px 2px rgba(60, 64, 67, 0.3), 0px 1px 3px 1px rgba(60, 64, 67, 0.15);\n",
              "      fill: #174EA6;\n",
              "    }\n",
              "\n",
              "    [theme=dark] .colab-df-convert {\n",
              "      background-color: #3B4455;\n",
              "      fill: #D2E3FC;\n",
              "    }\n",
              "\n",
              "    [theme=dark] .colab-df-convert:hover {\n",
              "      background-color: #434B5C;\n",
              "      box-shadow: 0px 1px 3px 1px rgba(0, 0, 0, 0.15);\n",
              "      filter: drop-shadow(0px 1px 2px rgba(0, 0, 0, 0.3));\n",
              "      fill: #FFFFFF;\n",
              "    }\n",
              "  </style>\n",
              "\n",
              "      <script>\n",
              "        const buttonEl =\n",
              "          document.querySelector('#df-fe72e52f-be5d-42cb-9fb8-02f177025081 button.colab-df-convert');\n",
              "        buttonEl.style.display =\n",
              "          google.colab.kernel.accessAllowed ? 'block' : 'none';\n",
              "\n",
              "        async function convertToInteractive(key) {\n",
              "          const element = document.querySelector('#df-fe72e52f-be5d-42cb-9fb8-02f177025081');\n",
              "          const dataTable =\n",
              "            await google.colab.kernel.invokeFunction('convertToInteractive',\n",
              "                                                     [key], {});\n",
              "          if (!dataTable) return;\n",
              "\n",
              "          const docLinkHtml = 'Like what you see? Visit the ' +\n",
              "            '<a target=\"_blank\" href=https://colab.research.google.com/notebooks/data_table.ipynb>data table notebook</a>'\n",
              "            + ' to learn more about interactive tables.';\n",
              "          element.innerHTML = '';\n",
              "          dataTable['output_type'] = 'display_data';\n",
              "          await google.colab.output.renderOutput(dataTable, element);\n",
              "          const docLink = document.createElement('div');\n",
              "          docLink.innerHTML = docLinkHtml;\n",
              "          element.appendChild(docLink);\n",
              "        }\n",
              "      </script>\n",
              "    </div>\n",
              "  </div>\n",
              "  "
            ]
          },
          "metadata": {},
          "execution_count": 130
        }
      ]
    },
    {
      "cell_type": "markdown",
      "source": [
        "Unfortunately, SVM model is the worst at prediction among the four models."
      ],
      "metadata": {
        "id": "6pYl6wv1u9k6"
      }
    },
    {
      "cell_type": "markdown",
      "source": [
        "# Q12. Best Model With Three New Variables\n",
        "Now rerun your best model from questions 8 through 11, but this time add three new variables to the model that you think will increase prediction accuracy. Did this model predict test data better than your previous models?  "
      ],
      "metadata": {
        "id": "ZyDBrHW9llpe"
      }
    },
    {
      "cell_type": "markdown",
      "source": [
        "## New X"
      ],
      "metadata": {
        "id": "dYPctfpVlvvP"
      }
    },
    {
      "cell_type": "markdown",
      "source": [
        "I make a few more guesses and plot the scatter plots. I decide to include these three predictors: 'word_freq_000:', 'word_freq_3d:', and 'word_freq_remove:'.\n",
        "\n"
      ],
      "metadata": {
        "id": "h0gdHjNESoWQ"
      }
    },
    {
      "cell_type": "code",
      "source": [
        "plt.scatter(spam['spam'], spam['word_freq_000:'])\n",
        "plt.title('Spam by word frequency of 000')\n",
        "plt.xlabel('Spam')\n",
        "plt.ylabel('word_freq_000')"
      ],
      "metadata": {
        "colab": {
          "base_uri": "https://localhost:8080/",
          "height": 312
        },
        "id": "YzD9NqCjvnpB",
        "outputId": "4dc6fd34-5f4f-479f-d8eb-32e8d0159daf"
      },
      "execution_count": null,
      "outputs": [
        {
          "output_type": "execute_result",
          "data": {
            "text/plain": [
              "Text(0, 0.5, 'word_freq_000')"
            ]
          },
          "metadata": {},
          "execution_count": 28
        },
        {
          "output_type": "display_data",
          "data": {
            "text/plain": [
              "<Figure size 432x288 with 1 Axes>"
            ],
            "image/png": "[encoded data removed]"
          },
          "metadata": {
            "needs_background": "light"
          }
        }
      ]
    },
    {
      "cell_type": "code",
      "source": [
        "plt.scatter(spam['spam'], spam['word_freq_3d:'])\n",
        "plt.title('Spam by word frequency of 3d')\n",
        "plt.xlabel('Spam')\n",
        "plt.ylabel('word_freq_3d')"
      ],
      "metadata": {
        "colab": {
          "base_uri": "https://localhost:8080/",
          "height": 312
        },
        "id": "sR1Xe8M4v4jM",
        "outputId": "7a9875f0-edcb-4668-eb11-d7422026df84"
      },
      "execution_count": null,
      "outputs": [
        {
          "output_type": "execute_result",
          "data": {
            "text/plain": [
              "Text(0, 0.5, 'word_freq_3d')"
            ]
          },
          "metadata": {},
          "execution_count": 40
        },
        {
          "output_type": "display_data",
          "data": {
            "text/plain": [
              "<Figure size 432x288 with 1 Axes>"
            ],
            "image/png": "[encoded data removed]"
          },
          "metadata": {
            "needs_background": "light"
          }
        }
      ]
    },
    {
      "cell_type": "code",
      "source": [
        "plt.scatter(spam['spam'], spam['word_freq_remove:'])"
      ],
      "metadata": {
        "colab": {
          "base_uri": "https://localhost:8080/",
          "height": 282
        },
        "id": "t67Xhwn2v7j9",
        "outputId": "4fded07c-5587-4da1-eada-aafd23907976"
      },
      "execution_count": null,
      "outputs": [
        {
          "output_type": "execute_result",
          "data": {
            "text/plain": [
              "<matplotlib.collections.PathCollection at 0x7fb3deb9b650>"
            ]
          },
          "metadata": {},
          "execution_count": 43
        },
        {
          "output_type": "display_data",
          "data": {
            "text/plain": [
              "<Figure size 432x288 with 1 Axes>"
            ],
            "image/png": "[encoded data removed]"
          },
          "metadata": {
            "needs_background": "light"
          }
        }
      ]
    },
    {
      "cell_type": "code",
      "source": [
        "# New X with 6 predictors\n",
        "Xnew = spam.loc[:, ['word_freq_george:', 'char_freq_$:', 'capital_run_length_average:',  'word_freq_000:', 'word_freq_3d:', 'word_freq_remove:']]\n",
        "\n",
        "# train_test_split(X,y)\n",
        "Xnew_train, Xnew_test, y_train, y_test = train_test_split(Xnew, y, stratify=y, random_state=73)\n",
        "\n",
        "print(Xnew.shape)\n",
        "print(Xnew_train.shape)\n",
        "\n",
        "# Scale data\n",
        "scaler_new = StandardScaler().fit(Xnew_train)\n",
        "Xnew_train_scaled = scaler_new.transform(Xnew_train)\n",
        "Xnew_test_scaled = scaler_new.transform(Xnew_test)"
      ],
      "metadata": {
        "id": "kCxyP7FolwDW",
        "colab": {
          "base_uri": "https://localhost:8080/"
        },
        "outputId": "abf1db35-f4f9-4c61-d63c-4c80949a6ffe"
      },
      "execution_count": null,
      "outputs": [
        {
          "output_type": "stream",
          "name": "stdout",
          "text": [
            "(4601, 6)\n",
            "(3450, 6)\n"
          ]
        }
      ]
    },
    {
      "cell_type": "markdown",
      "source": [
        "## Random forests with three new variables"
      ],
      "metadata": {
        "id": "Y6hB9Eu7ebk7"
      }
    },
    {
      "cell_type": "code",
      "source": [
        "# Train model\n",
        "forest_new = RandomForestClassifier()\n",
        "forest_new.fit(Xnew_train_scaled, y_train)\n",
        "\n",
        "print(\"Training set score: {:.4f}\".format(forest_new.score(Xnew_train_scaled, y_train)))\n",
        "print(\"Test set score: {:.4f}\".format(forest_new.score(Xnew_test_scaled, y_test)))\n",
        "\n",
        "forest_new_pred = forest_new.predict(Xnew_test_scaled) \n",
        "print(\"forest_new.predict: {}\".format(forest_new_pred))\n",
        "\n",
        "#training_score.append(knn.score(X_train_scaled, y_train))\n",
        "#test_score.append(knn.score(X_test_scaled, y_test))"
      ],
      "metadata": {
        "colab": {
          "base_uri": "https://localhost:8080/"
        },
        "id": "4EZ8aeyrezfV",
        "outputId": "b1e1e3f8-5147-4f03-b9fb-a49461cfb79d"
      },
      "execution_count": null,
      "outputs": [
        {
          "output_type": "stream",
          "name": "stdout",
          "text": [
            "Training set score: 0.9643\n",
            "Test set score: 0.8532\n",
            "forest_new.predict: [0 0 1 ... 1 0 1]\n"
          ]
        }
      ]
    },
    {
      "cell_type": "code",
      "source": [
        "# Gridsearch CV\n",
        "param_grid_forest_new = {'n_estimators': [100, 200, 300], 'max_depth': [1, 2, 3]}\n",
        "grid_forest_new = GridSearchCV(forest_new, param_grid=param_grid_forest_new, cv=10)\n",
        "grid_forest_new.fit(Xnew_train_scaled, y_train) \n",
        "\n",
        "print(\"Best mean cross-validation score: {:.4f}\".format(grid_forest_new.best_score_))\n",
        "print(\"Best parameters: {}\".format(grid_forest_new.best_params_))\n",
        "print(\"Test set score: {:.4f}\".format(grid_forest_new.score(Xnew_test_scaled, y_test)))\n",
        "\n",
        "#gridsearchcv_score.append(grid_knn.score(X_test_scaled, y_test))"
      ],
      "metadata": {
        "colab": {
          "base_uri": "https://localhost:8080/"
        },
        "id": "QXGnPT8cfflB",
        "outputId": "57f8bdd0-b1bc-43b3-b874-5f2b1004df6c"
      },
      "execution_count": null,
      "outputs": [
        {
          "output_type": "stream",
          "name": "stdout",
          "text": [
            "Best mean cross-validation score: 0.8722\n",
            "Best parameters: {'max_depth': 3, 'n_estimators': 200}\n",
            "Test set score: 0.8593\n"
          ]
        }
      ]
    },
    {
      "cell_type": "markdown",
      "source": [
        "I choose the parameters n_estimators=200, max_depth=3 by Gridsearch CV. It is exactly the same random forests model as before."
      ],
      "metadata": {
        "id": "K7VmVUbugJxX"
      }
    },
    {
      "cell_type": "markdown",
      "source": [
        "## Prediction accuracy improves"
      ],
      "metadata": {
        "id": "zS79VjCnhveF"
      }
    },
    {
      "cell_type": "code",
      "source": [
        "# Run the tuned model\n",
        "forest200.fit(Xnew_train_scaled, y_train)\n",
        "\n",
        "#Evaluate prediction error on test data directly\n",
        "print(\"Test set score: {:.4f}\".format(forest200.score(Xnew_test_scaled, y_test)))\n",
        "\n",
        "#Evaluate prediction error using k-fold cross-validation\n",
        "print(\"CV score: {:.4f}\".format(\n",
        "mean(cross_val_score(forest200, Xnew_test_scaled, y_test))))"
      ],
      "metadata": {
        "colab": {
          "base_uri": "https://localhost:8080/"
        },
        "id": "SVA9UTW-gYTv",
        "outputId": "81112459-eb75-4549-bcb9-f92a64e6ed6e"
      },
      "execution_count": null,
      "outputs": [
        {
          "output_type": "stream",
          "name": "stdout",
          "text": [
            "Test set score: 0.8610\n",
            "CV score: 0.8532\n"
          ]
        }
      ]
    },
    {
      "cell_type": "markdown",
      "source": [
        "The prediction error\n",
        "\n",
        "A) on test data directly is 0.8610;\n",
        "\n",
        "and B) using 5-fold cross-validation is 0.8532."
      ],
      "metadata": {
        "id": "fXeolfpWhQi-"
      }
    },
    {
      "cell_type": "code",
      "source": [
        "test_score.append(forest200.score(Xnew_test_scaled, y_test))\n",
        "cv_score.append(mean(cross_val_score(forest200, Xnew_test_scaled, y_test)))"
      ],
      "metadata": {
        "id": "soxFtuvaxXzI"
      },
      "execution_count": null,
      "outputs": []
    },
    {
      "cell_type": "code",
      "source": [
        "table = pd.DataFrame(test_score, columns=['Test score'], index=['KNN', 'Logistic', 'Random forests', 'SVM', 'Random forests with 6'])\n",
        "table['CV score'] = cv_score\n",
        "table"
      ],
      "metadata": {
        "colab": {
          "base_uri": "https://localhost:8080/",
          "height": 206
        },
        "id": "S27xP4fXxwjf",
        "outputId": "c554ea15-cec8-4a3a-d91a-4f3778a00c94"
      },
      "execution_count": null,
      "outputs": [
        {
          "output_type": "execute_result",
          "data": {
            "text/plain": [
              "                       Test score  CV score\n",
              "KNN                      0.811468  0.806268\n",
              "Logistic                 0.801043  0.814963\n",
              "Random forests           0.837533  0.830589\n",
              "SVM                      0.795830  0.790642\n",
              "Random forests with 6    0.860990  0.855780"
            ],
            "text/html": [
              "\n",
              "  <div id=\"df-481b65df-04ef-48c6-b0cf-043828875f76\">\n",
              "    <div class=\"colab-df-container\">\n",
              "      <div>\n",
              "<style scoped>\n",
              "    .dataframe tbody tr th:only-of-type {\n",
              "        vertical-align: middle;\n",
              "    }\n",
              "\n",
              "    .dataframe tbody tr th {\n",
              "        vertical-align: top;\n",
              "    }\n",
              "\n",
              "    .dataframe thead th {\n",
              "        text-align: right;\n",
              "    }\n",
              "</style>\n",
              "<table border=\"1\" class=\"dataframe\">\n",
              "  <thead>\n",
              "    <tr style=\"text-align: right;\">\n",
              "      <th></th>\n",
              "      <th>Test score</th>\n",
              "      <th>CV score</th>\n",
              "    </tr>\n",
              "  </thead>\n",
              "  <tbody>\n",
              "    <tr>\n",
              "      <th>KNN</th>\n",
              "      <td>0.811468</td>\n",
              "      <td>0.806268</td>\n",
              "    </tr>\n",
              "    <tr>\n",
              "      <th>Logistic</th>\n",
              "      <td>0.801043</td>\n",
              "      <td>0.814963</td>\n",
              "    </tr>\n",
              "    <tr>\n",
              "      <th>Random forests</th>\n",
              "      <td>0.837533</td>\n",
              "      <td>0.830589</td>\n",
              "    </tr>\n",
              "    <tr>\n",
              "      <th>SVM</th>\n",
              "      <td>0.795830</td>\n",
              "      <td>0.790642</td>\n",
              "    </tr>\n",
              "    <tr>\n",
              "      <th>Random forests with 6</th>\n",
              "      <td>0.860990</td>\n",
              "      <td>0.855780</td>\n",
              "    </tr>\n",
              "  </tbody>\n",
              "</table>\n",
              "</div>\n",
              "      <button class=\"colab-df-convert\" onclick=\"convertToInteractive('df-481b65df-04ef-48c6-b0cf-043828875f76')\"\n",
              "              title=\"Convert this dataframe to an interactive table.\"\n",
              "              style=\"display:none;\">\n",
              "        \n",
              "  <svg xmlns=\"http://www.w3.org/2000/svg\" height=\"24px\"viewBox=\"0 0 24 24\"\n",
              "       width=\"24px\">\n",
              "    <path d=\"M0 0h24v24H0V0z\" fill=\"none\"/>\n",
              "    <path d=\"M18.56 5.44l.94 2.06.94-2.06 2.06-.94-2.06-.94-.94-2.06-.94 2.06-2.06.94zm-11 1L8.5 8.5l.94-2.06 2.06-.94-2.06-.94L8.5 2.5l-.94 2.06-2.06.94zm10 10l.94 2.06.94-2.06 2.06-.94-2.06-.94-.94-2.06-.94 2.06-2.06.94z\"/><path d=\"M17.41 7.96l-1.37-1.37c-.4-.4-.92-.59-1.43-.59-.52 0-1.04.2-1.43.59L10.3 9.45l-7.72 7.72c-.78.78-.78 2.05 0 2.83L4 21.41c.39.39.9.59 1.41.59.51 0 1.02-.2 1.41-.59l7.78-7.78 2.81-2.81c.8-.78.8-2.07 0-2.86zM5.41 20L4 18.59l7.72-7.72 1.47 1.35L5.41 20z\"/>\n",
              "  </svg>\n",
              "      </button>\n",
              "      \n",
              "  <style>\n",
              "    .colab-df-container {\n",
              "      display:flex;\n",
              "      flex-wrap:wrap;\n",
              "      gap: 12px;\n",
              "    }\n",
              "\n",
              "    .colab-df-convert {\n",
              "      background-color: #E8F0FE;\n",
              "      border: none;\n",
              "      border-radius: 50%;\n",
              "      cursor: pointer;\n",
              "      display: none;\n",
              "      fill: #1967D2;\n",
              "      height: 32px;\n",
              "      padding: 0 0 0 0;\n",
              "      width: 32px;\n",
              "    }\n",
              "\n",
              "    .colab-df-convert:hover {\n",
              "      background-color: #E2EBFA;\n",
              "      box-shadow: 0px 1px 2px rgba(60, 64, 67, 0.3), 0px 1px 3px 1px rgba(60, 64, 67, 0.15);\n",
              "      fill: #174EA6;\n",
              "    }\n",
              "\n",
              "    [theme=dark] .colab-df-convert {\n",
              "      background-color: #3B4455;\n",
              "      fill: #D2E3FC;\n",
              "    }\n",
              "\n",
              "    [theme=dark] .colab-df-convert:hover {\n",
              "      background-color: #434B5C;\n",
              "      box-shadow: 0px 1px 3px 1px rgba(0, 0, 0, 0.15);\n",
              "      filter: drop-shadow(0px 1px 2px rgba(0, 0, 0, 0.3));\n",
              "      fill: #FFFFFF;\n",
              "    }\n",
              "  </style>\n",
              "\n",
              "      <script>\n",
              "        const buttonEl =\n",
              "          document.querySelector('#df-481b65df-04ef-48c6-b0cf-043828875f76 button.colab-df-convert');\n",
              "        buttonEl.style.display =\n",
              "          google.colab.kernel.accessAllowed ? 'block' : 'none';\n",
              "\n",
              "        async function convertToInteractive(key) {\n",
              "          const element = document.querySelector('#df-481b65df-04ef-48c6-b0cf-043828875f76');\n",
              "          const dataTable =\n",
              "            await google.colab.kernel.invokeFunction('convertToInteractive',\n",
              "                                                     [key], {});\n",
              "          if (!dataTable) return;\n",
              "\n",
              "          const docLinkHtml = 'Like what you see? Visit the ' +\n",
              "            '<a target=\"_blank\" href=https://colab.research.google.com/notebooks/data_table.ipynb>data table notebook</a>'\n",
              "            + ' to learn more about interactive tables.';\n",
              "          element.innerHTML = '';\n",
              "          dataTable['output_type'] = 'display_data';\n",
              "          await google.colab.output.renderOutput(dataTable, element);\n",
              "          const docLink = document.createElement('div');\n",
              "          docLink.innerHTML = docLinkHtml;\n",
              "          element.appendChild(docLink);\n",
              "        }\n",
              "      </script>\n",
              "    </div>\n",
              "  </div>\n",
              "  "
            ]
          },
          "metadata": {},
          "execution_count": 133
        }
      ]
    },
    {
      "cell_type": "markdown",
      "source": [
        "Adding 3 more predictors, 5-fold cross-validation score increases by about 0.025."
      ],
      "metadata": {
        "id": "oibEMA6nhUdF"
      }
    },
    {
      "cell_type": "markdown",
      "source": [
        "# Q13. Other Models With Three New Variables\n",
        "Rerun all your other models with this final set of six variables, evaluate prediction error, and choose a final model. Why did you select this model among all of the models that you ran?  "
      ],
      "metadata": {
        "id": "fVXSvbcRlw1X"
      }
    },
    {
      "cell_type": "markdown",
      "source": [
        "## KNN classification"
      ],
      "metadata": {
        "id": "TmqUIjlymDPp"
      }
    },
    {
      "cell_type": "code",
      "source": [
        "knn15.fit(Xnew_train_scaled, y_train)\n",
        "\n",
        "#Evaluate prediction error on test data directly\n",
        "print(\"Test set score: {:.4f}\".format(knn15.score(Xnew_test_scaled, y_test)))\n",
        "\n",
        "#Evaluate prediction error using k-fold cross-validation\n",
        "print(\"CV score: {:.4f}\".format(\n",
        "mean(cross_val_score(knn15, Xnew_test_scaled, y_test))))"
      ],
      "metadata": {
        "colab": {
          "base_uri": "https://localhost:8080/"
        },
        "id": "IQRa5XYklHcL",
        "outputId": "d423f648-0ba0-4586-9600-a7557ee19133"
      },
      "execution_count": null,
      "outputs": [
        {
          "output_type": "stream",
          "name": "stdout",
          "text": [
            "Test set score: 0.8523\n",
            "CV score: 0.8523\n"
          ]
        }
      ]
    },
    {
      "cell_type": "code",
      "source": [
        "test_score.append(knn15.score(Xnew_test_scaled, y_test))\n",
        "cv_score.append(mean(cross_val_score(knn15, Xnew_test_scaled, y_test)))"
      ],
      "metadata": {
        "id": "en_o_sEtyJkj"
      },
      "execution_count": null,
      "outputs": []
    },
    {
      "cell_type": "markdown",
      "source": [
        "## Penalized logistic regression"
      ],
      "metadata": {
        "id": "EZEB6NbDlcup"
      }
    },
    {
      "cell_type": "code",
      "source": [
        "plogreg10.fit(Xnew_train_scaled, y_train)\n",
        "\n",
        "#Evaluate prediction error on test data directly\n",
        "print(\"Test set score: {:.4f}\".format(plogreg10.score(Xnew_test_scaled, y_test)))\n",
        "\n",
        "#Evaluate prediction error using k-fold cross-validation\n",
        "print(\"CV score: {:.4f}\".format(\n",
        "mean(cross_val_score(plogreg10, Xnew_test_scaled, y_test))))"
      ],
      "metadata": {
        "id": "xf93yry6mDkN",
        "colab": {
          "base_uri": "https://localhost:8080/"
        },
        "outputId": "5073e370-d7a2-4636-fc3d-36144b2b9371"
      },
      "execution_count": null,
      "outputs": [
        {
          "output_type": "stream",
          "name": "stdout",
          "text": [
            "Test set score: 0.8506\n",
            "CV score: 0.8558\n"
          ]
        }
      ]
    },
    {
      "cell_type": "code",
      "source": [
        "test_score.append(plogreg10.score(Xnew_test_scaled, y_test))\n",
        "cv_score.append(mean(cross_val_score(plogreg10, Xnew_test_scaled, y_test)))"
      ],
      "metadata": {
        "id": "9w4iMVt7yagQ"
      },
      "execution_count": null,
      "outputs": []
    },
    {
      "cell_type": "markdown",
      "source": [
        "## SVM"
      ],
      "metadata": {
        "id": "Httgo2c6llhC"
      }
    },
    {
      "cell_type": "code",
      "source": [
        "svm100.fit(Xnew_train_scaled, y_train)\n",
        "\n",
        "#Evaluate prediction error on test data directly\n",
        "print(\"Test set score: {:.4f}\".format(svm100.score(Xnew_test_scaled, y_test)))\n",
        "\n",
        "#Evaluate prediction error using k-fold cross-validation\n",
        "print(\"CV score: {:.4f}\".format(\n",
        "mean(cross_val_score(svm100, Xnew_test_scaled, y_test))))"
      ],
      "metadata": {
        "colab": {
          "base_uri": "https://localhost:8080/"
        },
        "id": "9iHzkypjlndC",
        "outputId": "69aed308-52bf-40e2-9ec5-a1dca0ddc35d"
      },
      "execution_count": null,
      "outputs": [
        {
          "output_type": "stream",
          "name": "stdout",
          "text": [
            "Test set score: 0.8540\n",
            "CV score: 0.8445\n"
          ]
        }
      ]
    },
    {
      "cell_type": "code",
      "source": [
        "test_score.append(svm100.score(Xnew_test_scaled, y_test))\n",
        "cv_score.append(mean(cross_val_score(svm100, Xnew_test_scaled, y_test)))"
      ],
      "metadata": {
        "id": "xbOT-oP2yjN0"
      },
      "execution_count": null,
      "outputs": []
    },
    {
      "cell_type": "markdown",
      "source": [
        "## Final model selection"
      ],
      "metadata": {
        "id": "3-asjyUHmNcs"
      }
    },
    {
      "cell_type": "code",
      "source": [
        "table = pd.DataFrame(test_score, columns=['Test score'], index=['KNN', 'Logistic', 'Random forests', 'SVM', 'Random forests with 6', 'KNN with 6', 'Logistic with 6', 'SVM with 6'])\n",
        "table['CV score'] = cv_score\n",
        "table"
      ],
      "metadata": {
        "colab": {
          "base_uri": "https://localhost:8080/",
          "height": 300
        },
        "id": "FFmsXuVSypq0",
        "outputId": "38095a57-b1bb-4792-e47c-c8d2128c3b19"
      },
      "execution_count": null,
      "outputs": [
        {
          "output_type": "execute_result",
          "data": {
            "text/plain": [
              "                       Test score  CV score\n",
              "KNN                      0.811468  0.806268\n",
              "Logistic                 0.801043  0.814963\n",
              "Random forests           0.837533  0.830589\n",
              "SVM                      0.795830  0.790642\n",
              "Random forests with 6    0.860990  0.855780\n",
              "KNN with 6               0.852302  0.852298\n",
              "Logistic with 6          0.850565  0.855769\n",
              "SVM with 6               0.854040  0.844480"
            ],
            "text/html": [
              "\n",
              "  <div id=\"df-c992f7b5-b593-420d-87e7-c77727ef092d\">\n",
              "    <div class=\"colab-df-container\">\n",
              "      <div>\n",
              "<style scoped>\n",
              "    .dataframe tbody tr th:only-of-type {\n",
              "        vertical-align: middle;\n",
              "    }\n",
              "\n",
              "    .dataframe tbody tr th {\n",
              "        vertical-align: top;\n",
              "    }\n",
              "\n",
              "    .dataframe thead th {\n",
              "        text-align: right;\n",
              "    }\n",
              "</style>\n",
              "<table border=\"1\" class=\"dataframe\">\n",
              "  <thead>\n",
              "    <tr style=\"text-align: right;\">\n",
              "      <th></th>\n",
              "      <th>Test score</th>\n",
              "      <th>CV score</th>\n",
              "    </tr>\n",
              "  </thead>\n",
              "  <tbody>\n",
              "    <tr>\n",
              "      <th>KNN</th>\n",
              "      <td>0.811468</td>\n",
              "      <td>0.806268</td>\n",
              "    </tr>\n",
              "    <tr>\n",
              "      <th>Logistic</th>\n",
              "      <td>0.801043</td>\n",
              "      <td>0.814963</td>\n",
              "    </tr>\n",
              "    <tr>\n",
              "      <th>Random forests</th>\n",
              "      <td>0.837533</td>\n",
              "      <td>0.830589</td>\n",
              "    </tr>\n",
              "    <tr>\n",
              "      <th>SVM</th>\n",
              "      <td>0.795830</td>\n",
              "      <td>0.790642</td>\n",
              "    </tr>\n",
              "    <tr>\n",
              "      <th>Random forests with 6</th>\n",
              "      <td>0.860990</td>\n",
              "      <td>0.855780</td>\n",
              "    </tr>\n",
              "    <tr>\n",
              "      <th>KNN with 6</th>\n",
              "      <td>0.852302</td>\n",
              "      <td>0.852298</td>\n",
              "    </tr>\n",
              "    <tr>\n",
              "      <th>Logistic with 6</th>\n",
              "      <td>0.850565</td>\n",
              "      <td>0.855769</td>\n",
              "    </tr>\n",
              "    <tr>\n",
              "      <th>SVM with 6</th>\n",
              "      <td>0.854040</td>\n",
              "      <td>0.844480</td>\n",
              "    </tr>\n",
              "  </tbody>\n",
              "</table>\n",
              "</div>\n",
              "      <button class=\"colab-df-convert\" onclick=\"convertToInteractive('df-c992f7b5-b593-420d-87e7-c77727ef092d')\"\n",
              "              title=\"Convert this dataframe to an interactive table.\"\n",
              "              style=\"display:none;\">\n",
              "        \n",
              "  <svg xmlns=\"http://www.w3.org/2000/svg\" height=\"24px\"viewBox=\"0 0 24 24\"\n",
              "       width=\"24px\">\n",
              "    <path d=\"M0 0h24v24H0V0z\" fill=\"none\"/>\n",
              "    <path d=\"M18.56 5.44l.94 2.06.94-2.06 2.06-.94-2.06-.94-.94-2.06-.94 2.06-2.06.94zm-11 1L8.5 8.5l.94-2.06 2.06-.94-2.06-.94L8.5 2.5l-.94 2.06-2.06.94zm10 10l.94 2.06.94-2.06 2.06-.94-2.06-.94-.94-2.06-.94 2.06-2.06.94z\"/><path d=\"M17.41 7.96l-1.37-1.37c-.4-.4-.92-.59-1.43-.59-.52 0-1.04.2-1.43.59L10.3 9.45l-7.72 7.72c-.78.78-.78 2.05 0 2.83L4 21.41c.39.39.9.59 1.41.59.51 0 1.02-.2 1.41-.59l7.78-7.78 2.81-2.81c.8-.78.8-2.07 0-2.86zM5.41 20L4 18.59l7.72-7.72 1.47 1.35L5.41 20z\"/>\n",
              "  </svg>\n",
              "      </button>\n",
              "      \n",
              "  <style>\n",
              "    .colab-df-container {\n",
              "      display:flex;\n",
              "      flex-wrap:wrap;\n",
              "      gap: 12px;\n",
              "    }\n",
              "\n",
              "    .colab-df-convert {\n",
              "      background-color: #E8F0FE;\n",
              "      border: none;\n",
              "      border-radius: 50%;\n",
              "      cursor: pointer;\n",
              "      display: none;\n",
              "      fill: #1967D2;\n",
              "      height: 32px;\n",
              "      padding: 0 0 0 0;\n",
              "      width: 32px;\n",
              "    }\n",
              "\n",
              "    .colab-df-convert:hover {\n",
              "      background-color: #E2EBFA;\n",
              "      box-shadow: 0px 1px 2px rgba(60, 64, 67, 0.3), 0px 1px 3px 1px rgba(60, 64, 67, 0.15);\n",
              "      fill: #174EA6;\n",
              "    }\n",
              "\n",
              "    [theme=dark] .colab-df-convert {\n",
              "      background-color: #3B4455;\n",
              "      fill: #D2E3FC;\n",
              "    }\n",
              "\n",
              "    [theme=dark] .colab-df-convert:hover {\n",
              "      background-color: #434B5C;\n",
              "      box-shadow: 0px 1px 3px 1px rgba(0, 0, 0, 0.15);\n",
              "      filter: drop-shadow(0px 1px 2px rgba(0, 0, 0, 0.3));\n",
              "      fill: #FFFFFF;\n",
              "    }\n",
              "  </style>\n",
              "\n",
              "      <script>\n",
              "        const buttonEl =\n",
              "          document.querySelector('#df-c992f7b5-b593-420d-87e7-c77727ef092d button.colab-df-convert');\n",
              "        buttonEl.style.display =\n",
              "          google.colab.kernel.accessAllowed ? 'block' : 'none';\n",
              "\n",
              "        async function convertToInteractive(key) {\n",
              "          const element = document.querySelector('#df-c992f7b5-b593-420d-87e7-c77727ef092d');\n",
              "          const dataTable =\n",
              "            await google.colab.kernel.invokeFunction('convertToInteractive',\n",
              "                                                     [key], {});\n",
              "          if (!dataTable) return;\n",
              "\n",
              "          const docLinkHtml = 'Like what you see? Visit the ' +\n",
              "            '<a target=\"_blank\" href=https://colab.research.google.com/notebooks/data_table.ipynb>data table notebook</a>'\n",
              "            + ' to learn more about interactive tables.';\n",
              "          element.innerHTML = '';\n",
              "          dataTable['output_type'] = 'display_data';\n",
              "          await google.colab.output.renderOutput(dataTable, element);\n",
              "          const docLink = document.createElement('div');\n",
              "          docLink.innerHTML = docLinkHtml;\n",
              "          element.appendChild(docLink);\n",
              "        }\n",
              "      </script>\n",
              "    </div>\n",
              "  </div>\n",
              "  "
            ]
          },
          "metadata": {},
          "execution_count": 140
        }
      ]
    },
    {
      "cell_type": "markdown",
      "source": [
        "Adding 3 more predictors generally improves 5-fold cross-validation scores to 0.85 level or so."
      ],
      "metadata": {
        "id": "GDE7KDV2mYrC"
      }
    },
    {
      "cell_type": "markdown",
      "source": [
        "I select the random forests model as final model since it gives the highest prediction accuracy."
      ],
      "metadata": {
        "id": "5KaxUUrMmwVf"
      }
    },
    {
      "cell_type": "markdown",
      "source": [
        "# Q14. Not Included Variables\n",
        "What variable that currently is not in your model, if included, would be likely to increase your final model's predictive power?  For this answer try to speculate about a variable outside the variables available in the data that would improve you model."
      ],
      "metadata": {
        "id": "U9VZs4oomFHn"
      }
    },
    {
      "cell_type": "markdown",
      "source": [
        "I think 'word_freq_off', which stands for the frequency of word \"off\" in an email, is likely to increase my model's prediction power. Because I find lots of promotion emails includes words like \"$20 **off**\" and \"50% **off**\"."
      ],
      "metadata": {
        "id": "OF1-BqhLmTOZ"
      }
    },
    {
      "cell_type": "markdown",
      "source": [
        "# Q15. List Models for Continuous Dependent Variable\n",
        "Lastly, you have listed each of the models that we have learned to use to predict dependent variables like spam. List each model we have focused on in class thus far that you could use to evaluate data with a continuous dependent variable. "
      ],
      "metadata": {
        "id": "3omk_ZCWmTjW"
      }
    },
    {
      "cell_type": "markdown",
      "source": [
        "1. K Nearest Neighbors (KNN) Regression\n",
        "\n",
        "2. Linear Regression\n",
        "\n",
        "3. Ridge Regression\n",
        "\n",
        "4. Lasso Regression\n",
        "\n",
        "5. Decision-tree for Regression\n",
        "\n",
        "6. Bagging for Regression\n",
        "\n",
        "7. Random Forests for Regression\n",
        "\n",
        "8. Boosting for Regression\n",
        "\n",
        "9. Support Vector Machines (SVM) for Regression"
      ],
      "metadata": {
        "id": "zttTTDpBokaR"
      }
    }
  ]
}